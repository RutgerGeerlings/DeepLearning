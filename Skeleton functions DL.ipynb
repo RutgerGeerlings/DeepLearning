{
 "cells": [
  {
   "cell_type": "code",
   "id": "initial_id",
   "metadata": {
    "collapsed": true,
    "ExecuteTime": {
     "end_time": "2024-04-07T11:39:49.047651Z",
     "start_time": "2024-04-07T11:39:49.016409Z"
    }
   },
   "source": [
    "import matplotlib\n",
    "import matplotlib.pyplot as plt\n",
    "import pandas as pd\n",
    "import numpy as np\n",
    "import time\n",
    "import pickle\n",
    "import tensorflow as tf\n",
    "\n",
    "\n",
    "\n",
    "def calculate_and_log_training_time(modelname, start_time, end_time):\n",
    "    training_duration = end_time - start_time\n",
    "    # Print training duration in a human-readable format\n",
    "    hours, rem = divmod(training_duration, 3600)\n",
    "    minutes, seconds = divmod(rem, 60)\n",
    "    \n",
    "    filepath = modelname+\"trainingtime.txt\"\n",
    "    with open(filepath, \"w\") as f:\n",
    "        f.write(f\"Training took {int(hours):02d}:{int(minutes):02d}:{seconds:02f} (hh:mm:ss).\")\n",
    "\n",
    "\n",
    "\n",
    "## runtime\n",
    "def save_model_config_with_optimizer(model, modelname):\n",
    "    filepath = modelname+\"model_config.txt\"\n",
    "    with open(filepath, 'w') as f:\n",
    "        # Save layer configurations\n",
    "        for layer in model.layers:\n",
    "            f.write(f\"Layer: {layer.name}\\n\")\n",
    "            f.write(f\"Config: {layer.get_config()}\\n\\n\")\n",
    "        \n",
    "        # Save optimizer configuration\n",
    "        optimizer_config = model.optimizer.get_config()\n",
    "        f.write(\"Optimizer Config:\\n\")\n",
    "        f.write(str(optimizer_config))\n",
    "\n",
    "\n",
    "def save_model(model, modelname):\n",
    "    model.save(modelname+\".keras\")\n",
    "\n",
    "def save_performance_metrics(history, modelname):\n",
    "    filepath = modelname+'performance_metrics.csv'\n",
    "    pd.DataFrame(history.history).to_csv(filepath)\n",
    "    \n",
    "    \n",
    "    \n",
    "def save_performance_graphs(model, metrics=['accuracy'], filepath_prefix='performance'):\n",
    "    for metric in metrics:\n",
    "        plt.figure(figsize=(10, 6))\n",
    "        plt.plot(model.history[metric], label=f'Training {metric}')\n",
    "        val_metric = f'val_{metric}'\n",
    "        if val_metric in model.history:\n",
    "            plt.plot(model.history[val_metric], label=f'Validation {metric}')\n",
    "        plt.title(f'Model {metric}')\n",
    "        plt.xlabel('Epochs')\n",
    "        plt.ylabel(metric.capitalize())\n",
    "        plt.legend()\n",
    "        plt.savefig(f\"{filepath_prefix}_{metric}.png\")\n",
    "        plt.close()\n",
    "        \n",
    "def plot_loss_and_metric(history, metric_name='accuracy', model_name='model'):\n",
    "    \"\"\"\n",
    "    Plots the training and validation loss, and a performance metric from the training history, and saves the plots\n",
    "    with the model name as a prefix. This version explicitly uses Figures and Axes for better control.\n",
    "\n",
    "    Parameters:\n",
    "    - history: Return value from model.fit().\n",
    "    - metric_name: Name of the performance metric to plot (e.g., 'accuracy', 'mae').\n",
    "    - model_name: Name of the model, used as a prefix for saving plot images.\n",
    "    \"\"\"\n",
    "\n",
    "    # First plot: Training & validation loss values\n",
    "    fig, ax = plt.subplots(figsize=(14, 6))  # Explicitly create a Figure and Axes\n",
    "    ax.plot(history.history['loss'], label='Train Loss')\n",
    "    ax.plot(history.history['val_loss'], label='Validation Loss')\n",
    "    ax.set_title('Model Loss')\n",
    "    ax.set_ylabel('Loss')\n",
    "    ax.set_xlabel('Epoch')\n",
    "    ax.legend(loc='upper right')\n",
    "    ax.grid(True)  # Adding grid explicitly\n",
    "    loss_plot_filename = f'{model_name}_loss_plot.jpg'\n",
    "    fig.savefig(loss_plot_filename)\n",
    "    print(f\"Loss plot saved as: {loss_plot_filename}\")\n",
    "    plt.close(fig)  # Close the figure\n",
    "\n",
    "    # Second plot: Training & validation performance metric\n",
    "    fig, ax = plt.subplots(figsize=(14, 6))  # Again, explicitly create a Figure and Axes for the metric plot\n",
    "    ax.plot(history.history[metric_name], label=f'Train {metric_name.capitalize()}')\n",
    "    ax.plot(history.history[f'val_{metric_name}'], label=f'Validation {metric_name.capitalize()}')\n",
    "    ax.set_title(f'Model {metric_name.capitalize()}')\n",
    "    ax.set_ylabel(metric_name.capitalize())\n",
    "    ax.set_xlabel('Epoch')\n",
    "    ax.legend(loc='upper left')\n",
    "    ax.grid(True)  # Adding grid explicitly\n",
    "    metric_plot_filename = f'{model_name}_{metric_name}_plot.jpg'\n",
    "    fig.savefig(metric_plot_filename)\n",
    "    print(f\"Metric plot saved as: {metric_plot_filename}\")\n",
    "    plt.close(fig)  # Close the figure to free up memory\n",
    "\n",
    "\n",
    "def save_model_and_config_and_metrics(model, history, modelname = \"model\"):\n",
    "    save_model_config_with_optimizer(model, modelname = modelname)\n",
    "    save_model(model, modelname = modelname)\n",
    "    save_performance_metrics(history, modelname = modelname)\n",
    "    plot_loss_and_metric(history, metric_name='mae', model_name='model')\n",
    "    "
   ],
   "outputs": [],
   "execution_count": 43
  },
  {
   "metadata": {},
   "cell_type": "code",
   "outputs": [],
   "execution_count": null,
   "source": "",
   "id": "9c664d5f89cb04c1"
  },
  {
   "cell_type": "markdown",
   "source": [
    "## Flow of modeling"
   ],
   "metadata": {
    "collapsed": false
   },
   "id": "afc1d9832bd62e56"
  },
  {
   "cell_type": "code",
   "outputs": [],
   "source": [
    "## setup model config\n",
    "\n",
    "# Capture start time\n",
    "start_time = time.time()\n",
    "# fit the model\n",
    "\n",
    "# Capture end time and calculate duration\n",
    "end_time = time.time()\n",
    "calculate_and_log_training_time(modelname = \"model\", start_time = start_time, end_time = end_time)\n",
    "save_model_and_config_and_metrics(model, modelname = \"model\")\n",
    "\n",
    "##next model"
   ],
   "metadata": {
    "collapsed": false
   },
   "id": "4dd318fdac592d2b",
   "execution_count": null
  },
  {
   "metadata": {},
   "cell_type": "markdown",
   "source": "## Data Import Grayscale",
   "id": "ec360bd9238ad68e"
  },
  {
   "metadata": {
    "ExecuteTime": {
     "end_time": "2024-04-07T09:44:19.020820Z",
     "start_time": "2024-04-07T09:44:14.192041Z"
    }
   },
   "cell_type": "code",
   "source": [
    "path = \"C:/Users/marij/Documents/Universiteit_local/Master_Year1/DeepLearning/Part1_Processed_Grey.pkl\"\n",
    "# Open the pickle file in binary mode\n",
    "with open(path, 'rb') as file:\n",
    "    # Load the content of the file into a variable\n",
    "    data = pickle.load(file)"
   ],
   "id": "c2fcc21e90bb6478",
   "outputs": [],
   "execution_count": 2
  },
  {
   "metadata": {
    "ExecuteTime": {
     "end_time": "2024-04-07T09:44:20.990845Z",
     "start_time": "2024-04-07T09:44:19.027928Z"
    }
   },
   "cell_type": "code",
   "source": "data",
   "id": "1739b4f933f1c427",
   "outputs": [
    {
     "data": {
      "text/plain": [
       "       Age  Gender  Race                                              Image\n",
       "0       16       1     3  [[0.38431373, 0.37254903, 0.35686275, 0.341176...\n",
       "1       40       1     0  [[0.67058825, 0.67058825, 0.6666667, 0.6666667...\n",
       "2       71       1     0  [[0.6156863, 0.6392157, 0.7019608, 0.7607843, ...\n",
       "3       80       1     0  [[0.57254905, 0.57254905, 0.57254905, 0.572549...\n",
       "4       21       0     4  [[0.06666667, 0.05882353, 0.050980393, 0.05098...\n",
       "...    ...     ...   ...                                                ...\n",
       "10130   53       0     0  [[0.52156866, 0.5176471, 0.5176471, 0.52156866...\n",
       "10131   36       0     0  [[0.69411767, 0.6901961, 0.68235296, 0.6705882...\n",
       "10132    1       0     2  [[0.73333335, 0.73333335, 0.627451, 0.5058824,...\n",
       "10133    3       1     4  [[0.5529412, 0.5568628, 0.56078434, 0.5647059,...\n",
       "10134   29       0     0  [[0.16078432, 0.16862746, 0.1764706, 0.1921568...\n",
       "\n",
       "[10135 rows x 4 columns]"
      ],
      "text/html": [
       "<div>\n",
       "<style scoped>\n",
       "    .dataframe tbody tr th:only-of-type {\n",
       "        vertical-align: middle;\n",
       "    }\n",
       "\n",
       "    .dataframe tbody tr th {\n",
       "        vertical-align: top;\n",
       "    }\n",
       "\n",
       "    .dataframe thead th {\n",
       "        text-align: right;\n",
       "    }\n",
       "</style>\n",
       "<table border=\"1\" class=\"dataframe\">\n",
       "  <thead>\n",
       "    <tr style=\"text-align: right;\">\n",
       "      <th></th>\n",
       "      <th>Age</th>\n",
       "      <th>Gender</th>\n",
       "      <th>Race</th>\n",
       "      <th>Image</th>\n",
       "    </tr>\n",
       "  </thead>\n",
       "  <tbody>\n",
       "    <tr>\n",
       "      <th>0</th>\n",
       "      <td>16</td>\n",
       "      <td>1</td>\n",
       "      <td>3</td>\n",
       "      <td>[[0.38431373, 0.37254903, 0.35686275, 0.341176...</td>\n",
       "    </tr>\n",
       "    <tr>\n",
       "      <th>1</th>\n",
       "      <td>40</td>\n",
       "      <td>1</td>\n",
       "      <td>0</td>\n",
       "      <td>[[0.67058825, 0.67058825, 0.6666667, 0.6666667...</td>\n",
       "    </tr>\n",
       "    <tr>\n",
       "      <th>2</th>\n",
       "      <td>71</td>\n",
       "      <td>1</td>\n",
       "      <td>0</td>\n",
       "      <td>[[0.6156863, 0.6392157, 0.7019608, 0.7607843, ...</td>\n",
       "    </tr>\n",
       "    <tr>\n",
       "      <th>3</th>\n",
       "      <td>80</td>\n",
       "      <td>1</td>\n",
       "      <td>0</td>\n",
       "      <td>[[0.57254905, 0.57254905, 0.57254905, 0.572549...</td>\n",
       "    </tr>\n",
       "    <tr>\n",
       "      <th>4</th>\n",
       "      <td>21</td>\n",
       "      <td>0</td>\n",
       "      <td>4</td>\n",
       "      <td>[[0.06666667, 0.05882353, 0.050980393, 0.05098...</td>\n",
       "    </tr>\n",
       "    <tr>\n",
       "      <th>...</th>\n",
       "      <td>...</td>\n",
       "      <td>...</td>\n",
       "      <td>...</td>\n",
       "      <td>...</td>\n",
       "    </tr>\n",
       "    <tr>\n",
       "      <th>10130</th>\n",
       "      <td>53</td>\n",
       "      <td>0</td>\n",
       "      <td>0</td>\n",
       "      <td>[[0.52156866, 0.5176471, 0.5176471, 0.52156866...</td>\n",
       "    </tr>\n",
       "    <tr>\n",
       "      <th>10131</th>\n",
       "      <td>36</td>\n",
       "      <td>0</td>\n",
       "      <td>0</td>\n",
       "      <td>[[0.69411767, 0.6901961, 0.68235296, 0.6705882...</td>\n",
       "    </tr>\n",
       "    <tr>\n",
       "      <th>10132</th>\n",
       "      <td>1</td>\n",
       "      <td>0</td>\n",
       "      <td>2</td>\n",
       "      <td>[[0.73333335, 0.73333335, 0.627451, 0.5058824,...</td>\n",
       "    </tr>\n",
       "    <tr>\n",
       "      <th>10133</th>\n",
       "      <td>3</td>\n",
       "      <td>1</td>\n",
       "      <td>4</td>\n",
       "      <td>[[0.5529412, 0.5568628, 0.56078434, 0.5647059,...</td>\n",
       "    </tr>\n",
       "    <tr>\n",
       "      <th>10134</th>\n",
       "      <td>29</td>\n",
       "      <td>0</td>\n",
       "      <td>0</td>\n",
       "      <td>[[0.16078432, 0.16862746, 0.1764706, 0.1921568...</td>\n",
       "    </tr>\n",
       "  </tbody>\n",
       "</table>\n",
       "<p>10135 rows × 4 columns</p>\n",
       "</div>"
      ]
     },
     "execution_count": 3,
     "metadata": {},
     "output_type": "execute_result"
    }
   ],
   "execution_count": 3
  },
  {
   "metadata": {
    "ExecuteTime": {
     "end_time": "2024-04-07T09:44:21.006060Z",
     "start_time": "2024-04-07T09:44:20.995857Z"
    }
   },
   "cell_type": "code",
   "source": "sampled_data = data.sample(n=3)",
   "id": "3fe22eea8bcbe5ef",
   "outputs": [],
   "execution_count": 4
  },
  {
   "metadata": {},
   "cell_type": "markdown",
   "source": "## Flatten the Image array for non convelutional DNN",
   "id": "17aef0ddbff95cb9"
  },
  {
   "metadata": {
    "ExecuteTime": {
     "end_time": "2024-04-07T10:40:23.849619Z",
     "start_time": "2024-04-07T10:40:23.833984Z"
    }
   },
   "cell_type": "code",
   "source": [
    "# Flatten each 2D array in the column\n",
    "sampled_data['Image'] = sampled_data['Image'].apply(lambda x: x.flatten())"
   ],
   "id": "312c2c19f39304f",
   "outputs": [],
   "execution_count": 5
  },
  {
   "metadata": {
    "ExecuteTime": {
     "end_time": "2024-04-07T10:40:23.865236Z",
     "start_time": "2024-04-07T10:40:23.849619Z"
    }
   },
   "cell_type": "code",
   "source": "sampled_data",
   "id": "b2b9a61ae2227bf4",
   "outputs": [
    {
     "data": {
      "text/plain": [
       "      Age  Gender  Race                                              Image\n",
       "604    15       1     2  [0.45490196, 0.4627451, 0.46666667, 0.4745098,...\n",
       "2294   21       1     2  [0.18431373, 0.19607843, 0.21176471, 0.2196078...\n",
       "2020   41       1     3  [0.08235294, 0.08627451, 0.09019608, 0.0901960..."
      ],
      "text/html": [
       "<div>\n",
       "<style scoped>\n",
       "    .dataframe tbody tr th:only-of-type {\n",
       "        vertical-align: middle;\n",
       "    }\n",
       "\n",
       "    .dataframe tbody tr th {\n",
       "        vertical-align: top;\n",
       "    }\n",
       "\n",
       "    .dataframe thead th {\n",
       "        text-align: right;\n",
       "    }\n",
       "</style>\n",
       "<table border=\"1\" class=\"dataframe\">\n",
       "  <thead>\n",
       "    <tr style=\"text-align: right;\">\n",
       "      <th></th>\n",
       "      <th>Age</th>\n",
       "      <th>Gender</th>\n",
       "      <th>Race</th>\n",
       "      <th>Image</th>\n",
       "    </tr>\n",
       "  </thead>\n",
       "  <tbody>\n",
       "    <tr>\n",
       "      <th>604</th>\n",
       "      <td>15</td>\n",
       "      <td>1</td>\n",
       "      <td>2</td>\n",
       "      <td>[0.45490196, 0.4627451, 0.46666667, 0.4745098,...</td>\n",
       "    </tr>\n",
       "    <tr>\n",
       "      <th>2294</th>\n",
       "      <td>21</td>\n",
       "      <td>1</td>\n",
       "      <td>2</td>\n",
       "      <td>[0.18431373, 0.19607843, 0.21176471, 0.2196078...</td>\n",
       "    </tr>\n",
       "    <tr>\n",
       "      <th>2020</th>\n",
       "      <td>41</td>\n",
       "      <td>1</td>\n",
       "      <td>3</td>\n",
       "      <td>[0.08235294, 0.08627451, 0.09019608, 0.0901960...</td>\n",
       "    </tr>\n",
       "  </tbody>\n",
       "</table>\n",
       "</div>"
      ]
     },
     "execution_count": 6,
     "metadata": {},
     "output_type": "execute_result"
    }
   ],
   "execution_count": 6
  },
  {
   "metadata": {
    "ExecuteTime": {
     "end_time": "2024-04-07T10:51:18.856994Z",
     "start_time": "2024-04-07T10:51:18.841371Z"
    }
   },
   "cell_type": "code",
   "source": [
    "# Prepare the inputs and labels\n",
    "X = np.stack(sampled_data['Image'].values)  # Converts a column of arrays into a single numpy array\n",
    "y = sampled_data['Age'].values\n",
    "\n",
    "# Split the data into training and test sets\n",
    "#X_train, X_test, y_train, y_test = train_test_split(X, y, test_size=0.2, random_state=42)"
   ],
   "id": "aa73529da0cbc0ed",
   "outputs": [],
   "execution_count": 7
  },
  {
   "metadata": {},
   "cell_type": "markdown",
   "source": "## Example of good code",
   "id": "6815d00cbe2354fa"
  },
  {
   "metadata": {
    "ExecuteTime": {
     "end_time": "2024-04-07T11:39:58.221982Z",
     "start_time": "2024-04-07T11:39:53.942952Z"
    }
   },
   "cell_type": "code",
   "source": [
    "## setup model config\n",
    "# Define the model\n",
    "model = tf.keras.Sequential([\n",
    "    tf.keras.Input(shape=(65536,)),  # Define the input shape her\n",
    "    tf.keras.layers.Dense(128, activation='relu'),\n",
    "    tf.keras.layers.Dense(64, activation='relu'),\n",
    "    tf.keras.layers.Dense(1)\n",
    "])\n",
    "\n",
    "# Compile the model\n",
    "model.compile(optimizer='adam', loss='mean_squared_error', metrics=['mae'])\n",
    "# Capture start time\n",
    "start_time = time.time()\n",
    "# fit the model\n",
    "history = model.fit(X, y, epochs=10, validation_split=0.2)\n",
    "# Capture end time and calculate duration\n",
    "end_time = time.time()\n",
    "calculate_and_log_training_time(modelname = \"modelexample\", start_time = start_time, end_time = end_time)\n",
    "save_model_and_config_and_metrics(model = model, history = history,  modelname = \"modelexample\")\n",
    "\n",
    "##next model"
   ],
   "id": "13960b05d00a97cb",
   "outputs": [
    {
     "name": "stdout",
     "output_type": "stream",
     "text": [
      "Epoch 1/10\n",
      "\u001B[1m1/1\u001B[0m \u001B[32m━━━━━━━━━━━━━━━━━━━━\u001B[0m\u001B[37m\u001B[0m \u001B[1m2s\u001B[0m 2s/step - loss: 327.1910 - mae: 17.8291 - val_loss: 77.6151 - val_mae: 8.8099\n",
      "Epoch 2/10\n",
      "\u001B[1m1/1\u001B[0m \u001B[32m━━━━━━━━━━━━━━━━━━━━\u001B[0m\u001B[37m\u001B[0m \u001B[1m0s\u001B[0m 141ms/step - loss: 1963.8339 - mae: 42.3069 - val_loss: 828.4713 - val_mae: 28.7832\n",
      "Epoch 3/10\n",
      "\u001B[1m1/1\u001B[0m \u001B[32m━━━━━━━━━━━━━━━━━━━━\u001B[0m\u001B[37m\u001B[0m \u001B[1m0s\u001B[0m 125ms/step - loss: 11.3612 - mae: 3.2853 - val_loss: 1977.5050 - val_mae: 44.4691\n",
      "Epoch 4/10\n",
      "\u001B[1m1/1\u001B[0m \u001B[32m━━━━━━━━━━━━━━━━━━━━\u001B[0m\u001B[37m\u001B[0m \u001B[1m0s\u001B[0m 141ms/step - loss: 512.6843 - mae: 22.2304 - val_loss: 1191.3500 - val_mae: 34.5159\n",
      "Epoch 5/10\n",
      "\u001B[1m1/1\u001B[0m \u001B[32m━━━━━━━━━━━━━━━━━━━━\u001B[0m\u001B[37m\u001B[0m \u001B[1m0s\u001B[0m 141ms/step - loss: 106.6501 - mae: 10.2830 - val_loss: 440.2423 - val_mae: 20.9820\n",
      "Epoch 6/10\n",
      "\u001B[1m1/1\u001B[0m \u001B[32m━━━━━━━━━━━━━━━━━━━━\u001B[0m\u001B[37m\u001B[0m \u001B[1m0s\u001B[0m 137ms/step - loss: 50.5458 - mae: 6.2085 - val_loss: 210.6190 - val_mae: 14.5127\n",
      "Epoch 7/10\n",
      "\u001B[1m1/1\u001B[0m \u001B[32m━━━━━━━━━━━━━━━━━━━━\u001B[0m\u001B[37m\u001B[0m \u001B[1m0s\u001B[0m 126ms/step - loss: 227.0313 - mae: 14.0024 - val_loss: 305.9229 - val_mae: 17.4907\n",
      "Epoch 8/10\n",
      "\u001B[1m1/1\u001B[0m \u001B[32m━━━━━━━━━━━━━━━━━━━━\u001B[0m\u001B[37m\u001B[0m \u001B[1m0s\u001B[0m 125ms/step - loss: 130.9780 - mae: 10.5114 - val_loss: 608.7330 - val_mae: 24.6725\n",
      "Epoch 9/10\n",
      "\u001B[1m1/1\u001B[0m \u001B[32m━━━━━━━━━━━━━━━━━━━━\u001B[0m\u001B[37m\u001B[0m \u001B[1m0s\u001B[0m 125ms/step - loss: 7.8988 - mae: 2.1180 - val_loss: 941.0018 - val_mae: 30.6758\n",
      "Epoch 10/10\n",
      "\u001B[1m1/1\u001B[0m \u001B[32m━━━━━━━━━━━━━━━━━━━━\u001B[0m\u001B[37m\u001B[0m \u001B[1m0s\u001B[0m 141ms/step - loss: 29.7578 - mae: 5.4470 - val_loss: 1101.9678 - val_mae: 33.1959\n",
      "Loss plot saved as: model_loss_plot.jpg\n",
      "Metric plot saved as: model_mae_plot.jpg\n"
     ]
    },
    {
     "data": {
      "text/plain": [
       "<Figure size 1008x432 with 1 Axes>"
      ],
      "image/png": "[encoded data removed]"
     },
     "metadata": {
      "needs_background": "light"
     },
     "output_type": "display_data"
    },
    {
     "data": {
      "text/plain": [
       "<Figure size 1008x432 with 1 Axes>"
      ],
      "image/png": "[encoded data removed]"
     },
     "metadata": {
      "needs_background": "light"
     },
     "output_type": "display_data"
    }
   ],
   "execution_count": 44
  },
  {
   "metadata": {},
   "cell_type": "code",
   "outputs": [],
   "execution_count": null,
   "source": "",
   "id": "eb2c66bb9ff4ec52"
  }
 ],
 "metadata": {
  "kernelspec": {
   "display_name": "Python 3",
   "language": "python",
   "name": "python3"
  },
  "language_info": {
   "codemirror_mode": {
    "name": "ipython",
    "version": 2
   },
   "file_extension": ".py",
   "mimetype": "text/x-python",
   "name": "python",
   "nbconvert_exporter": "python",
   "pygments_lexer": "ipython2",
   "version": "2.7.6"
  }
 },
 "nbformat": 4,
 "nbformat_minor": 5
}
