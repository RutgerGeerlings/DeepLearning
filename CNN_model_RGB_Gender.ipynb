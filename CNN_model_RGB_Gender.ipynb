{
 "cells": [
  {
   "cell_type": "code",
   "id": "initial_id",
   "metadata": {
    "collapsed": true,
    "ExecuteTime": {
     "end_time": "2024-05-07T09:48:37.287685Z",
     "start_time": "2024-05-07T09:48:37.229977Z"
    }
   },
   "source": [
    "import os\n",
    "import matplotlib\n",
    "import matplotlib.pyplot as plt\n",
    "import pandas as pd\n",
    "import numpy as np\n",
    "import time\n",
    "import pickle\n",
    "import tensorflow as tf\n",
    "from sklearn.model_selection import train_test_split\n",
    "from tensorflow.keras.models import Sequential\n",
    "from keras.regularizers import l2\n",
    "from sklearn.metrics import mean_absolute_error, mean_squared_error\n",
    "from sklearn.metrics import accuracy_score, precision_score, recall_score, f1_score\n",
    "def calculate_and_log_training_time(modelname, start_time, end_time):\n",
    "    training_duration = end_time - start_time\n",
    "    hours, rem = divmod(training_duration, 3600)\n",
    "    minutes, seconds = divmod(rem, 60)\n",
    "    \n",
    "    model_dir = modelname\n",
    "    if not os.path.exists(model_dir):\n",
    "        os.makedirs(model_dir)\n",
    "    \n",
    "    filepath = os.path.join(model_dir, \"trainingtime.txt\")\n",
    "    with open(filepath, \"w\") as f:\n",
    "        f.write(f\"Training took {int(hours):02d}:{int(minutes):02d}:{seconds:02f} (hh:mm:ss).\")\n",
    "\n",
    "def save_model_config_with_optimizer(model, modelname):\n",
    "    model_dir = modelname\n",
    "    if not os.path.exists(model_dir):\n",
    "        os.makedirs(model_dir)\n",
    "    \n",
    "    filepath = os.path.join(model_dir, \"model_config.txt\")\n",
    "    with open(filepath, 'w') as f:\n",
    "        for layer in model.layers:\n",
    "            f.write(f\"Layer: {layer.name}\\n\")\n",
    "            f.write(f\"Config: {layer.get_config()}\\n\\n\")\n",
    "        \n",
    "        optimizer_config = model.optimizer.get_config()\n",
    "        f.write(\"Optimizer Config:\\n\")\n",
    "        f.write(str(optimizer_config))\n",
    "\n",
    "def save_model(model, modelname):\n",
    "    model_dir = modelname\n",
    "    if not os.path.exists(model_dir):\n",
    "        os.makedirs(model_dir)\n",
    "    \n",
    "    model_path = os.path.join(model_dir, modelname + \".keras\")\n",
    "    model.save(model_path)\n",
    "\n",
    "def save_performance_metrics(history, modelname):\n",
    "    model_dir = modelname\n",
    "    if not os.path.exists(model_dir):\n",
    "        os.makedirs(model_dir)\n",
    "    \n",
    "    filepath = os.path.join(model_dir, 'performance_metrics.csv')\n",
    "    pd.DataFrame(history.history).to_csv(filepath)\n",
    "    print(\"Performance metrics saved.\")\n",
    "\n",
    "\n",
    "def plot_loss_and_metrics(history, metrics=['accuracy'], model_name='model'):\n",
    "    model_dir = model_name\n",
    "    if not os.path.exists(model_dir):\n",
    "        os.makedirs(model_dir)\n",
    "    \n",
    "    # Plot Training & Validation Loss\n",
    "    plt.figure(figsize=(14, 6))\n",
    "    plt.plot(history.history['loss'], label='Train Loss')\n",
    "    plt.plot(history.history['val_loss'], label='Validation Loss')\n",
    "    plt.title('Model Loss')\n",
    "    plt.ylabel('Loss')\n",
    "    plt.xlabel('Epoch')\n",
    "    plt.legend(loc='upper right')\n",
    "    plt.grid(True)\n",
    "    plt.savefig(os.path.join(model_dir, f'{model_name}_loss_plot.jpg'))\n",
    "    plt.close()\n",
    "\n",
    "    # Plot each metric\n",
    "    for metric in metrics:\n",
    "        plt.figure(figsize=(14, 6))\n",
    "        plt.plot(history.history[metric], label=f'Train {metric.capitalize()}')\n",
    "        plt.plot(history.history[f'val_{metric}'], label=f'Validation {metric.capitalize()}')\n",
    "        plt.title(f'Model {metric.capitalize()}')\n",
    "        plt.ylabel(metric.capitalize())\n",
    "        plt.xlabel('Epoch')\n",
    "        plt.legend(loc='upper left')\n",
    "        plt.grid(True)\n",
    "        plt.savefig(os.path.join(model_dir, f'{model_name}_{metric}_plot.jpg'))\n",
    "        plt.close()\n",
    "        print(f\"Plot for {metric} saved.\")\n",
    "\n",
    "def save_model_and_config_and_metrics(model, history, modelname = \"model\", metrics=['accuracy']):\n",
    "    save_model_config_with_optimizer(model, modelname = modelname)\n",
    "    save_model(model, modelname = modelname)\n",
    "    save_performance_metrics(history, modelname = modelname)\n",
    "    plot_loss_and_metrics(history, metrics=metrics, model_name=modelname)\n",
    "    print(\"All model components and metrics have been saved.\")\n"
   ],
   "outputs": [],
   "execution_count": 14
  },
  {
   "metadata": {
    "ExecuteTime": {
     "end_time": "2024-05-07T09:02:57.454584Z",
     "start_time": "2024-05-07T09:02:47.871308Z"
    }
   },
   "cell_type": "code",
   "source": [
    "path = \"C:/Users/marij/Documents/Universiteit_local/Master_Year1/DeepLearning/Part1_Processed_RGB.pkl\"\n",
    "# Open the pickle file in binary mode\n",
    "with open(path, 'rb') as file:\n",
    "    # Load the content of the file into a variable\n",
    "    RGB_data = pickle.load(file)"
   ],
   "id": "85656404dfa030a9",
   "outputs": [],
   "execution_count": 3
  },
  {
   "metadata": {
    "ExecuteTime": {
     "end_time": "2024-05-07T09:04:53.183580Z",
     "start_time": "2024-05-07T09:02:57.458771Z"
    }
   },
   "cell_type": "code",
   "source": [
    "sampled_RGB_data = RGB_data.sample(n=4000, random_state = 2001)\n",
    "y = sampled_RGB_data['Gender'].values\n",
    "X = sampled_RGB_data['Image'].values\n",
    "X = np.stack(X)\n",
    "\n",
    "# Split the data into training and test sets\n",
    "X_train, X_test, y_train, y_test = train_test_split(X, y, test_size=0.2, random_state=42)"
   ],
   "id": "424f2629c20b5d9b",
   "outputs": [],
   "execution_count": 4
  },
  {
   "metadata": {
    "ExecuteTime": {
     "end_time": "2024-05-07T09:04:56.008Z",
     "start_time": "2024-05-07T09:04:53.295918Z"
    }
   },
   "cell_type": "code",
   "source": [
    "label_counts = sampled_RGB_data['Gender'].value_counts()\n",
    "print(label_counts)"
   ],
   "id": "45d53513a0aae1c8",
   "outputs": [
    {
     "name": "stdout",
     "output_type": "stream",
     "text": [
      "Gender\n",
      "1    2170\n",
      "0    1830\n",
      "Name: count, dtype: int64\n"
     ]
    }
   ],
   "execution_count": 5
  },
  {
   "metadata": {},
   "cell_type": "markdown",
   "source": "## MOdel Gender",
   "id": "2841f6e23e64761e"
  },
  {
   "metadata": {
    "ExecuteTime": {
     "end_time": "2024-05-07T09:30:42.917696Z",
     "start_time": "2024-05-07T09:05:42.468216Z"
    }
   },
   "cell_type": "code",
   "source": [
    "# Define the model for binary classification (gender prediction)\n",
    "model = tf.keras.Sequential([\n",
    "    tf.keras.Input(shape=(256, 256, 3)),  # Define the input shape here\n",
    "    tf.keras.layers.Conv2D(32, (3, 3), activation='relu', kernel_regularizer=l2(0.001)),\n",
    "    tf.keras.layers.MaxPooling2D(pool_size=(2, 2)),\n",
    "    tf.keras.layers.Dropout(0.25),\n",
    "    tf.keras.layers.Conv2D(64, (3, 3), activation='relu', kernel_regularizer=l2(0.001)),\n",
    "    tf.keras.layers.MaxPooling2D(pool_size=(2, 2)),\n",
    "    tf.keras.layers.Dropout(0.25),\n",
    "    tf.keras.layers.Conv2D(64, (3, 3), activation='relu', kernel_regularizer=l2(0.001)),\n",
    "    tf.keras.layers.MaxPooling2D(pool_size=(2, 2)),\n",
    "    tf.keras.layers.Dropout(0.25),\n",
    "    tf.keras.layers.Flatten(),\n",
    "    tf.keras.layers.Dense(512, activation='relu'),\n",
    "    tf.keras.layers.Dropout(0.5),\n",
    "    tf.keras.layers.Dense(1, activation='sigmoid')  # Change activation to 'sigmoid' for binary classification\n",
    "])\n",
    "\n",
    "# Compile the model with binary crossentropy loss and a suitable optimizer\n",
    "model.compile(optimizer='adam', loss='binary_crossentropy', metrics=['accuracy'])\n",
    "# Capture start time\n",
    "start_time = time.time()\n",
    "# fit the model\n",
    "history = model.fit(X, y, epochs=12, validation_split=0.2)\n",
    "# Capture end time and calculate duration\n",
    "end_time = time.time()\n",
    "modelname =\"GenderAllRBGCNN3convdropoutregu\"\n",
    "calculate_and_log_training_time(modelname = modelname, start_time = start_time, end_time = end_time)\n",
    "save_model_and_config_and_metrics(model = model, history = history,  modelname = modelname)"
   ],
   "id": "9a82e13519ebbf2c",
   "outputs": [
    {
     "name": "stdout",
     "output_type": "stream",
     "text": [
      "Epoch 1/12\n",
      "\u001B[1m100/100\u001B[0m \u001B[32m━━━━━━━━━━━━━━━━━━━━\u001B[0m\u001B[37m\u001B[0m \u001B[1m164s\u001B[0m 1s/step - accuracy: 0.5293 - loss: 1.8240 - val_accuracy: 0.6212 - val_loss: 0.7201\n",
      "Epoch 2/12\n",
      "\u001B[1m100/100\u001B[0m \u001B[32m━━━━━━━━━━━━━━━━━━━━\u001B[0m\u001B[37m\u001B[0m \u001B[1m120s\u001B[0m 1s/step - accuracy: 0.6336 - loss: 0.7267 - val_accuracy: 0.5650 - val_loss: 0.8287\n",
      "Epoch 3/12\n",
      "\u001B[1m100/100\u001B[0m \u001B[32m━━━━━━━━━━━━━━━━━━━━\u001B[0m\u001B[37m\u001B[0m \u001B[1m115s\u001B[0m 1s/step - accuracy: 0.6121 - loss: 0.7196 - val_accuracy: 0.6800 - val_loss: 0.6807\n",
      "Epoch 4/12\n",
      "\u001B[1m100/100\u001B[0m \u001B[32m━━━━━━━━━━━━━━━━━━━━\u001B[0m\u001B[37m\u001B[0m \u001B[1m113s\u001B[0m 1s/step - accuracy: 0.6732 - loss: 0.6759 - val_accuracy: 0.6600 - val_loss: 0.6742\n",
      "Epoch 5/12\n",
      "\u001B[1m100/100\u001B[0m \u001B[32m━━━━━━━━━━━━━━━━━━━━\u001B[0m\u001B[37m\u001B[0m \u001B[1m120s\u001B[0m 1s/step - accuracy: 0.6604 - loss: 0.6708 - val_accuracy: 0.6800 - val_loss: 0.6615\n",
      "Epoch 6/12\n",
      "\u001B[1m100/100\u001B[0m \u001B[32m━━━━━━━━━━━━━━━━━━━━\u001B[0m\u001B[37m\u001B[0m \u001B[1m122s\u001B[0m 1s/step - accuracy: 0.6951 - loss: 0.6338 - val_accuracy: 0.6662 - val_loss: 0.6384\n",
      "Epoch 7/12\n",
      "\u001B[1m100/100\u001B[0m \u001B[32m━━━━━━━━━━━━━━━━━━━━\u001B[0m\u001B[37m\u001B[0m \u001B[1m126s\u001B[0m 1s/step - accuracy: 0.7146 - loss: 0.6068 - val_accuracy: 0.6662 - val_loss: 0.6478\n",
      "Epoch 8/12\n",
      "\u001B[1m100/100\u001B[0m \u001B[32m━━━━━━━━━━━━━━━━━━━━\u001B[0m\u001B[37m\u001B[0m \u001B[1m114s\u001B[0m 1s/step - accuracy: 0.7078 - loss: 0.5927 - val_accuracy: 0.7163 - val_loss: 0.5926\n",
      "Epoch 9/12\n",
      "\u001B[1m100/100\u001B[0m \u001B[32m━━━━━━━━━━━━━━━━━━━━\u001B[0m\u001B[37m\u001B[0m \u001B[1m120s\u001B[0m 1s/step - accuracy: 0.7405 - loss: 0.5542 - val_accuracy: 0.7088 - val_loss: 0.5815\n",
      "Epoch 10/12\n",
      "\u001B[1m100/100\u001B[0m \u001B[32m━━━━━━━━━━━━━━━━━━━━\u001B[0m\u001B[37m\u001B[0m \u001B[1m118s\u001B[0m 1s/step - accuracy: 0.7414 - loss: 0.5452 - val_accuracy: 0.7337 - val_loss: 0.5606\n",
      "Epoch 11/12\n",
      "\u001B[1m100/100\u001B[0m \u001B[32m━━━━━━━━━━━━━━━━━━━━\u001B[0m\u001B[37m\u001B[0m \u001B[1m119s\u001B[0m 1s/step - accuracy: 0.7441 - loss: 0.5379 - val_accuracy: 0.7337 - val_loss: 0.5566\n",
      "Epoch 12/12\n",
      "\u001B[1m100/100\u001B[0m \u001B[32m━━━━━━━━━━━━━━━━━━━━\u001B[0m\u001B[37m\u001B[0m \u001B[1m123s\u001B[0m 1s/step - accuracy: 0.7714 - loss: 0.5029 - val_accuracy: 0.7312 - val_loss: 0.5446\n",
      "Performance metrics saved.\n",
      "Plot for accuracy saved.\n",
      "All model components and metrics have been saved.\n"
     ]
    }
   ],
   "execution_count": 6
  },
  {
   "metadata": {},
   "cell_type": "markdown",
   "source": "## Checking Bias",
   "id": "772ccf23d9077821"
  },
  {
   "metadata": {
    "ExecuteTime": {
     "end_time": "2024-05-07T09:41:53.365411Z",
     "start_time": "2024-05-07T09:41:49.166742Z"
    }
   },
   "cell_type": "code",
   "source": [
    "# Load your model\n",
    "model = tf.keras.models.load_model('GenderAllRBGCNN3convdropoutregu/GenderAllRBGCNN3convdropoutregu.keras')"
   ],
   "id": "4bb1f783fd6a2a6f",
   "outputs": [],
   "execution_count": 8
  },
  {
   "metadata": {
    "ExecuteTime": {
     "end_time": "2024-05-07T09:43:19.564523Z",
     "start_time": "2024-05-07T09:42:38.265753Z"
    }
   },
   "cell_type": "code",
   "source": [
    "sampled_RGB_data = RGB_data.sample(n=4000, random_state = 2009)\n",
    "y = sampled_RGB_data['Gender'].values\n",
    "X = sampled_RGB_data['Image'].values\n",
    "X = np.stack(X)"
   ],
   "id": "d2dfedf21bfc023f",
   "outputs": [],
   "execution_count": 9
  },
  {
   "metadata": {
    "ExecuteTime": {
     "end_time": "2024-05-07T09:56:38.545408Z",
     "start_time": "2024-05-07T09:56:06.242814Z"
    }
   },
   "cell_type": "code",
   "source": [
    "# Generate predictions\n",
    "predicted_genders = model.predict(X)\n",
    "# Add predictions back to DataFrame\n",
    "sampled_RGB_data['predicted_gender'] = np.round(predicted_genders).astype(int)"
   ],
   "id": "f384f93da323e5c2",
   "outputs": [
    {
     "name": "stdout",
     "output_type": "stream",
     "text": [
      "\u001B[1m125/125\u001B[0m \u001B[32m━━━━━━━━━━━━━━━━━━━━\u001B[0m\u001B[37m\u001B[0m \u001B[1m30s\u001B[0m 239ms/step\n"
     ]
    }
   ],
   "execution_count": 21
  },
  {
   "metadata": {
    "ExecuteTime": {
     "end_time": "2024-05-07T09:57:00.265108Z",
     "start_time": "2024-05-07T09:57:00.252578Z"
    }
   },
   "cell_type": "code",
   "source": [
    "# Define age bins and labels\n",
    "bins = list(range(0, 110 + 10, 11))  # This goes from 0 to 100, changing this range as needed.\n",
    "labels = [f'{i}-{i+9}' for i in range(0, 100, 10)]\n",
    "\n",
    "# Create a new column for age categories\n",
    "sampled_RGB_data['Age_Category'] = pd.cut(sampled_RGB_data['Age'], bins=bins, labels=labels, right=False)\n",
    "\n",
    "# Display the new DataFrame to verify the categories\n",
    "print(sampled_RGB_data[['Age', 'Age_Category']].head())"
   ],
   "id": "2b2f781510c72a8e",
   "outputs": [
    {
     "name": "stdout",
     "output_type": "stream",
     "text": [
      "      Age Age_Category\n",
      "900    29        20-29\n",
      "4606    1          0-9\n",
      "6880   65        50-59\n",
      "9897    3          0-9\n",
      "1784   21        10-19\n"
     ]
    }
   ],
   "execution_count": 22
  },
  {
   "metadata": {
    "ExecuteTime": {
     "end_time": "2024-05-07T09:57:00.373995Z",
     "start_time": "2024-05-07T09:57:00.268638Z"
    }
   },
   "cell_type": "code",
   "source": [
    "# Calculate performance metrics by Race for gender prediction\n",
    "grouped_race = sampled_RGB_data.groupby('Race')[['Gender', 'predicted_gender']].apply(\n",
    "    lambda x: pd.Series({\n",
    "        'Accuracy': accuracy_score(x['Gender'], x['predicted_gender']),\n",
    "        'Precision': precision_score(x['Gender'], x['predicted_gender'], zero_division=0),\n",
    "        'Recall': recall_score(x['Gender'], x['predicted_gender'], zero_division=0),\n",
    "        'F1 Score': f1_score(x['Gender'], x['predicted_gender'], zero_division=0)\n",
    "    })\n",
    ")\n",
    "\n",
    "print(\"Performance by Race for Gender Prediction:\\n\", grouped_race)"
   ],
   "id": "4873c5c42bff7b7",
   "outputs": [
    {
     "name": "stdout",
     "output_type": "stream",
     "text": [
      "Performance by Race for Gender Prediction:\n",
      "       Accuracy  Precision    Recall  F1 Score\n",
      "Race                                         \n",
      "0     0.772727   0.783027  0.790636  0.786813\n",
      "1     0.718563   0.708738  0.811111  0.756477\n",
      "2     0.671053   0.662371  0.732194  0.695535\n",
      "3     0.781250   0.806122  0.863388  0.833773\n",
      "4     0.758542   0.797753  0.803774  0.800752\n"
     ]
    }
   ],
   "execution_count": 23
  },
  {
   "metadata": {
    "ExecuteTime": {
     "end_time": "2024-05-07T09:59:10.054420Z",
     "start_time": "2024-05-07T09:59:09.919102Z"
    }
   },
   "cell_type": "code",
   "source": [
    "# Group by Age Category and calculate error metrics\n",
    "grouped_age_category = sampled_RGB_data.groupby('Age_Category')[['Gender', 'predicted_gender']].apply(\n",
    "    lambda x: pd.Series({\n",
    "        'Accuracy': accuracy_score(x['Gender'], x['predicted_gender']),\n",
    "        'Precision': precision_score(x['Gender'], x['predicted_gender'], zero_division=0),\n",
    "        'Recall': recall_score(x['Gender'], x['predicted_gender'], zero_division=0),\n",
    "        'F1 Score': f1_score(x['Gender'], x['predicted_gender'], zero_division=0)\n",
    "    })\n",
    ")\n",
    "\n",
    "print(\"Performance by Age Category:\\n\", grouped_age_category)"
   ],
   "id": "e18d5074cbfe1693",
   "outputs": [
    {
     "name": "stdout",
     "output_type": "stream",
     "text": [
      "Performance by Age Category:\n",
      "               Accuracy  Precision    Recall  F1 Score\n",
      "Age_Category                                         \n",
      "0-9           0.633888   0.637549  0.703597  0.668947\n",
      "10-19         0.752381   0.771084  0.825806  0.797508\n",
      "20-29         0.866559   0.898455  0.916667  0.907469\n",
      "30-39         0.843434   0.814286  0.881443  0.846535\n",
      "40-49         0.841026   0.790055  0.856287  0.821839\n",
      "50-59         0.844311   0.830189  0.840764  0.835443\n",
      "60-69         0.799065   0.823009  0.801724  0.812227\n",
      "70-79         0.681481   0.870370  0.566265  0.686131\n",
      "80-89         0.543860   0.652174  0.454545  0.535714\n",
      "90-99         0.333333   1.000000  0.333333  0.500000\n"
     ]
    },
    {
     "name": "stderr",
     "output_type": "stream",
     "text": [
      "<ipython-input-25-b3ac894eba66>:2: FutureWarning: The default of observed=False is deprecated and will be changed to True in a future version of pandas. Pass observed=False to retain current behavior or observed=True to adopt the future default and silence this warning.\n",
      "  grouped_age_category = sampled_RGB_data.groupby('Age_Category')[['Gender', 'predicted_gender']].apply(\n"
     ]
    }
   ],
   "execution_count": 25
  },
  {
   "metadata": {
    "ExecuteTime": {
     "end_time": "2024-05-07T09:53:21.471807Z",
     "start_time": "2024-05-07T09:53:21.461283Z"
    }
   },
   "cell_type": "code",
   "source": [
    "print(sampled_RGB_data['Gender'].unique())\n",
    "print(sampled_RGB_data['predicted_gender'].unique())\n"
   ],
   "id": "f23b4e8601bad072",
   "outputs": [
    {
     "name": "stdout",
     "output_type": "stream",
     "text": [
      "[1 0]\n",
      "[0.8913752  0.519364   0.2582147  ... 0.9834776  0.70008427 0.11546353]\n"
     ]
    }
   ],
   "execution_count": 19
  }
 ],
 "metadata": {
  "kernelspec": {
   "display_name": "Python 3",
   "language": "python",
   "name": "python3"
  },
  "language_info": {
   "codemirror_mode": {
    "name": "ipython",
    "version": 2
   },
   "file_extension": ".py",
   "mimetype": "text/x-python",
   "name": "python",
   "nbconvert_exporter": "python",
   "pygments_lexer": "ipython2",
   "version": "2.7.6"
  }
 },
 "nbformat": 4,
 "nbformat_minor": 5
}
