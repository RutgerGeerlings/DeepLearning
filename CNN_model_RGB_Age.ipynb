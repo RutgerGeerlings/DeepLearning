{
 "cells": [
  {
   "cell_type": "code",
   "id": "initial_id",
   "metadata": {
    "collapsed": true,
    "ExecuteTime": {
     "end_time": "2024-05-07T08:02:55.240801Z",
     "start_time": "2024-05-07T08:02:55.204972Z"
    }
   },
   "source": [
    "import matplotlib\n",
    "import matplotlib.pyplot as plt\n",
    "import pandas as pd\n",
    "import numpy as np\n",
    "import time\n",
    "import pickle\n",
    "import tensorflow as tf\n",
    "from sklearn.model_selection import train_test_split\n",
    "from tensorflow.keras.models import Sequential\n",
    "from keras.regularizers import l2\n",
    "from sklearn.metrics import mean_absolute_error, mean_squared_error\n",
    "\n",
    "\n",
    "\n",
    "\n",
    "def calculate_and_log_training_time(modelname, start_time, end_time):\n",
    "    training_duration = end_time - start_time\n",
    "    # Print training duration in a human-readable format\n",
    "    hours, rem = divmod(training_duration, 3600)\n",
    "    minutes, seconds = divmod(rem, 60)\n",
    "    \n",
    "    filepath = modelname+\"trainingtime.txt\"\n",
    "    with open(filepath, \"w\") as f:\n",
    "        f.write(f\"Training took {int(hours):02d}:{int(minutes):02d}:{seconds:02f} (hh:mm:ss).\")\n",
    "\n",
    "\n",
    "\n",
    "## runtime\n",
    "def save_model_config_with_optimizer(model, modelname):\n",
    "    filepath = modelname+\"model_config.txt\"\n",
    "    with open(filepath, 'w') as f:\n",
    "        # Save layer configurations\n",
    "        for layer in model.layers:\n",
    "            f.write(f\"Layer: {layer.name}\\n\")\n",
    "            f.write(f\"Config: {layer.get_config()}\\n\\n\")\n",
    "        \n",
    "        # Save optimizer configuration\n",
    "        optimizer_config = model.optimizer.get_config()\n",
    "        f.write(\"Optimizer Config:\\n\")\n",
    "        f.write(str(optimizer_config))\n",
    "\n",
    "\n",
    "def save_model(model, modelname):\n",
    "    model.save(modelname+\".keras\")\n",
    "\n",
    "def save_performance_metrics(history, modelname):\n",
    "    filepath = modelname+'performance_metrics.csv'\n",
    "    pd.DataFrame(history.history).to_csv(filepath)\n",
    "    \n",
    "    \n",
    "        \n",
    "def plot_loss_and_metric(history, metric_name='accuracy', model_name='model'):\n",
    "    \"\"\"\n",
    "    Plots the training and validation loss, and a performance metric from the training history, and saves the plots\n",
    "    with the model name as a prefix. This version explicitly uses Figures and Axes for better control.\n",
    "\n",
    "    Parameters:\n",
    "    - history: Return value from model.fit().\n",
    "    - metric_name: Name of the performance metric to plot (e.g., 'accuracy', 'mae').\n",
    "    - model_name: Name of the model, used as a prefix for saving plot images.\n",
    "    \"\"\"\n",
    "\n",
    "    # First plot: Training & validation loss values\n",
    "    fig, ax = plt.subplots(figsize=(14, 6))  # Explicitly create a Figure and Axes\n",
    "    ax.plot(history.history['loss'], label='Train Loss')\n",
    "    ax.plot(history.history['val_loss'], label='Validation Loss')\n",
    "    ax.set_title('Model Loss')\n",
    "    ax.set_ylabel('Loss')\n",
    "    ax.set_xlabel('Epoch')\n",
    "    ax.legend(loc='upper right')\n",
    "    ax.grid(True)  # Adding grid explicitly\n",
    "    loss_plot_filename = f'{model_name}_loss_plot.jpg'\n",
    "    fig.savefig(loss_plot_filename)\n",
    "    print(f\"Loss plot saved as: {loss_plot_filename}\")\n",
    "    plt.close(fig)  # Close the figure\n",
    "\n",
    "    # Second plot: Training & validation performance metric\n",
    "    fig, ax = plt.subplots(figsize=(14, 6))  # Again, explicitly create a Figure and Axes for the metric plot\n",
    "    ax.plot(history.history[metric_name], label=f'Train {metric_name.capitalize()}')\n",
    "    ax.plot(history.history[f'val_{metric_name}'], label=f'Validation {metric_name.capitalize()}')\n",
    "    ax.set_title(f'Model {metric_name.capitalize()}')\n",
    "    ax.set_ylabel(metric_name.capitalize())\n",
    "    ax.set_xlabel('Epoch')\n",
    "    ax.legend(loc='upper left')\n",
    "    ax.grid(True)  # Adding grid explicitly\n",
    "    metric_plot_filename = f'{model_name}_{metric_name}_plot.jpg'\n",
    "    fig.savefig(metric_plot_filename)\n",
    "    print(f\"Metric plot saved as: {metric_plot_filename}\")\n",
    "    plt.close(fig)  # Close the figure to free up memory\n",
    "\n",
    "\n",
    "def save_model_and_config_and_metrics(model, history, modelname = \"model\"):\n",
    "    save_model_config_with_optimizer(model, modelname = modelname)\n",
    "    save_model(model, modelname = modelname)\n",
    "    save_performance_metrics(history, modelname = modelname)\n",
    "    plot_loss_and_metric(history, metric_name='mae', model_name=modelname)"
   ],
   "outputs": [],
   "execution_count": 13
  },
  {
   "metadata": {
    "ExecuteTime": {
     "end_time": "2024-05-07T08:03:21.554747Z",
     "start_time": "2024-05-07T08:03:21.525880Z"
    }
   },
   "cell_type": "code",
   "source": [
    "import os\n",
    "\n",
    "def calculate_and_log_training_time(modelname, start_time, end_time):\n",
    "    training_duration = end_time - start_time\n",
    "    hours, rem = divmod(training_duration, 3600)\n",
    "    minutes, seconds = divmod(rem, 60)\n",
    "    \n",
    "    model_dir = modelname\n",
    "    if not os.path.exists(model_dir):\n",
    "        os.makedirs(model_dir)\n",
    "    \n",
    "    filepath = os.path.join(model_dir, \"trainingtime.txt\")\n",
    "    with open(filepath, \"w\") as f:\n",
    "        f.write(f\"Training took {int(hours):02d}:{int(minutes):02d}:{seconds:02f} (hh:mm:ss).\")\n",
    "\n",
    "def save_model_config_with_optimizer(model, modelname):\n",
    "    model_dir = modelname\n",
    "    if not os.path.exists(model_dir):\n",
    "        os.makedirs(model_dir)\n",
    "    \n",
    "    filepath = os.path.join(model_dir, \"model_config.txt\")\n",
    "    with open(filepath, 'w') as f:\n",
    "        for layer in model.layers:\n",
    "            f.write(f\"Layer: {layer.name}\\n\")\n",
    "            f.write(f\"Config: {layer.get_config()}\\n\\n\")\n",
    "        \n",
    "        optimizer_config = model.optimizer.get_config()\n",
    "        f.write(\"Optimizer Config:\\n\")\n",
    "        f.write(str(optimizer_config))\n",
    "\n",
    "def save_model(model, modelname):\n",
    "    model_dir = modelname\n",
    "    if not os.path.exists(model_dir):\n",
    "        os.makedirs(model_dir)\n",
    "    \n",
    "    model_path = os.path.join(model_dir, modelname + \".keras\")\n",
    "    model.save(model_path)\n",
    "\n",
    "def save_performance_metrics(history, modelname):\n",
    "    model_dir = modelname\n",
    "    if not os.path.exists(model_dir):\n",
    "        os.makedirs(model_dir)\n",
    "    \n",
    "    filepath = os.path.join(model_dir, 'performance_metrics.csv')\n",
    "    pd.DataFrame(history.history).to_csv(filepath)\n",
    "\n",
    "def plot_loss_and_metric(history, metric_name='accuracy', model_name='model'):\n",
    "    model_dir = model_name\n",
    "    if not os.path.exists(model_dir):\n",
    "        os.makedirs(model_dir)\n",
    "    \n",
    "    # First plot: Training & validation loss\n",
    "    fig, ax = plt.subplots(figsize=(14, 6))\n",
    "    ax.plot(history.history['loss'], label='Train Loss')\n",
    "    ax.plot(history.history['val_loss'], label='Validation Loss')\n",
    "    ax.set_title('Model Loss')\n",
    "    ax.set_ylabel('Loss')\n",
    "    ax.set_xlabel('Epoch')\n",
    "    ax.legend(loc='upper right')\n",
    "    ax.grid(True)\n",
    "    loss_plot_filename = os.path.join(model_dir, f'{model_name}_loss_plot.jpg')\n",
    "    fig.savefig(loss_plot_filename)\n",
    "    print(f\"Loss plot saved as: {loss_plot_filename}\")\n",
    "    plt.close(fig)\n",
    "    \n",
    "    # Second plot: Training & validation metric\n",
    "    fig, ax = plt.subplots(figsize=(14, 6))\n",
    "    ax.plot(history.history[metric_name], label=f'Train {metric_name.capitalize()}')\n",
    "    ax.plot(history.history[f'val_{metric_name}'], label=f'Validation {metric_name.capitalize()}')\n",
    "    ax.set_title(f'Model {metric_name.capitalize()}')\n",
    "    ax.set_ylabel(metric_name.capitalize())\n",
    "    ax.set_xlabel('Epoch')\n",
    "    ax.legend(loc='upper left')\n",
    "    ax.grid(True)\n",
    "    metric_plot_filename = os.path.join(model_dir, f'{model_name}_{metric_name}_plot.jpg')\n",
    "    fig.savefig(metric_plot_filename)\n",
    "    print(f\"Metric plot saved as: {metric_plot_filename}\")\n",
    "    plt.close(fig)\n",
    "\n",
    "def save_model_and_config_and_metrics(model, history, modelname = \"model\"):\n",
    "    save_model_config_with_optimizer(model, modelname = modelname)\n",
    "    save_model(model, modelname = modelname)\n",
    "    save_performance_metrics(history, modelname = modelname)\n",
    "    plot_loss_and_metric(history, metric_name='mae', model_name= modelname)"
   ],
   "id": "eb03bb0b2e435874",
   "outputs": [],
   "execution_count": 14
  },
  {
   "metadata": {},
   "cell_type": "markdown",
   "source": "### RGB DataImport",
   "id": "f5ad39cc45c734a3"
  },
  {
   "metadata": {
    "ExecuteTime": {
     "end_time": "2024-05-07T07:46:59.603140Z",
     "start_time": "2024-05-07T07:45:59.971999Z"
    }
   },
   "cell_type": "code",
   "source": [
    "path = \"C:/Users/marij/Documents/Universiteit_local/Master_Year1/DeepLearning/Part1_Processed_RGB.pkl\"\n",
    "# Open the pickle file in binary mode\n",
    "with open(path, 'rb') as file:\n",
    "    # Load the content of the file into a variable\n",
    "    RGB_data = pickle.load(file)"
   ],
   "id": "8ac77df3464d42b9",
   "outputs": [],
   "execution_count": 7
  },
  {
   "metadata": {
    "ExecuteTime": {
     "end_time": "2024-05-06T11:52:41.091888Z",
     "start_time": "2024-05-06T11:52:01.790323Z"
    }
   },
   "cell_type": "code",
   "source": [
    "sampled_RGB_data = RGB_data.sample(n=1000, random_state = 2001)\n",
    "y = sampled_RGB_data['Age'].values\n",
    "X = sampled_RGB_data['Image'].values\n",
    "X = np.stack(X)\n",
    "\n",
    "# Split the data into training and test sets\n",
    "X_train, X_test, y_train, y_test = train_test_split(X, y, test_size=0.2, random_state=42)"
   ],
   "id": "869b9471a1361bfa",
   "outputs": [],
   "execution_count": 3
  },
  {
   "metadata": {
    "ExecuteTime": {
     "end_time": "2024-05-06T11:52:41.541045Z",
     "start_time": "2024-05-06T11:52:41.138888Z"
    }
   },
   "cell_type": "code",
   "source": "X_train",
   "id": "15700b655d4c9cb3",
   "outputs": [
    {
     "data": {
      "text/plain": [
       "array([[[[0.03921569, 0.0627451 , 0.08235294],\n",
       "         [0.03529412, 0.05882353, 0.07843138],\n",
       "         [0.03137255, 0.05490196, 0.08235294],\n",
       "         ...,\n",
       "         [0.        , 0.        , 0.        ],\n",
       "         [0.        , 0.        , 0.        ],\n",
       "         [0.        , 0.        , 0.        ]],\n",
       "\n",
       "        [[0.03529412, 0.05882353, 0.07843138],\n",
       "         [0.03529412, 0.05882353, 0.07843138],\n",
       "         [0.03137255, 0.05490196, 0.08235294],\n",
       "         ...,\n",
       "         [0.        , 0.        , 0.        ],\n",
       "         [0.        , 0.        , 0.        ],\n",
       "         [0.        , 0.        , 0.        ]],\n",
       "\n",
       "        [[0.03137255, 0.05490196, 0.07450981],\n",
       "         [0.03137255, 0.05490196, 0.07450981],\n",
       "         [0.02745098, 0.05098039, 0.07843138],\n",
       "         ...,\n",
       "         [0.        , 0.        , 0.        ],\n",
       "         [0.        , 0.        , 0.        ],\n",
       "         [0.        , 0.        , 0.        ]],\n",
       "\n",
       "        ...,\n",
       "\n",
       "        [[0.88235295, 0.827451  , 0.87058824],\n",
       "         [0.8901961 , 0.8352941 , 0.8784314 ],\n",
       "         [0.8980392 , 0.84313726, 0.8862745 ],\n",
       "         ...,\n",
       "         [0.05882353, 0.06666667, 0.07058824],\n",
       "         [0.04313726, 0.05098039, 0.05490196],\n",
       "         [0.03921569, 0.04705882, 0.05098039]],\n",
       "\n",
       "        [[0.9137255 , 0.8509804 , 0.89411765],\n",
       "         [0.91764706, 0.85490197, 0.8980392 ],\n",
       "         [0.9254902 , 0.8627451 , 0.90588236],\n",
       "         ...,\n",
       "         [0.1882353 , 0.19215687, 0.20784314],\n",
       "         [0.14901961, 0.15294118, 0.16862746],\n",
       "         [0.13333334, 0.13725491, 0.15294118]],\n",
       "\n",
       "        [[0.92941177, 0.8666667 , 0.9098039 ],\n",
       "         [0.92941177, 0.8666667 , 0.9098039 ],\n",
       "         [0.9372549 , 0.8745098 , 0.91764706],\n",
       "         ...,\n",
       "         [0.25490198, 0.25882354, 0.27450982],\n",
       "         [0.20392157, 0.20392157, 0.22745098],\n",
       "         [0.18039216, 0.18039216, 0.20392157]]],\n",
       "\n",
       "\n",
       "       [[[0.7529412 , 0.9137255 , 0.9254902 ],\n",
       "         [0.7529412 , 0.9137255 , 0.9254902 ],\n",
       "         [0.7490196 , 0.91764706, 0.92941177],\n",
       "         ...,\n",
       "         [0.2509804 , 0.53333336, 0.44705883],\n",
       "         [0.31764707, 0.6       , 0.5137255 ],\n",
       "         [0.3137255 , 0.59607846, 0.50980395]],\n",
       "\n",
       "        [[0.7529412 , 0.9137255 , 0.9254902 ],\n",
       "         [0.74509805, 0.9137255 , 0.9254902 ],\n",
       "         [0.7490196 , 0.91764706, 0.92941177],\n",
       "         ...,\n",
       "         [0.25490198, 0.5372549 , 0.4509804 ],\n",
       "         [0.3254902 , 0.6039216 , 0.5254902 ],\n",
       "         [0.32156864, 0.6039216 , 0.5176471 ]],\n",
       "\n",
       "        [[0.74509805, 0.9137255 , 0.9254902 ],\n",
       "         [0.7490196 , 0.91764706, 0.92941177],\n",
       "         [0.7490196 , 0.9137255 , 0.93333334],\n",
       "         ...,\n",
       "         [0.30980393, 0.5882353 , 0.50980395],\n",
       "         [0.3882353 , 0.6627451 , 0.59607846],\n",
       "         [0.3882353 , 0.6666667 , 0.5882353 ]],\n",
       "\n",
       "        ...,\n",
       "\n",
       "        [[0.36862746, 0.41568628, 0.39215687],\n",
       "         [0.3647059 , 0.4117647 , 0.3882353 ],\n",
       "         [0.36862746, 0.41568628, 0.39215687],\n",
       "         ...,\n",
       "         [0.6156863 , 0.654902  , 0.6313726 ],\n",
       "         [0.654902  , 0.69411767, 0.67058825],\n",
       "         [0.654902  , 0.69411767, 0.67058825]],\n",
       "\n",
       "        [[0.43529412, 0.47843137, 0.44705883],\n",
       "         [0.43137255, 0.4745098 , 0.44313726],\n",
       "         [0.43529412, 0.47843137, 0.44705883],\n",
       "         ...,\n",
       "         [0.654902  , 0.69411767, 0.67058825],\n",
       "         [0.69411767, 0.73333335, 0.70980394],\n",
       "         [0.69411767, 0.73333335, 0.70980394]],\n",
       "\n",
       "        [[0.43137255, 0.4745098 , 0.44313726],\n",
       "         [0.43137255, 0.4745098 , 0.44313726],\n",
       "         [0.43529412, 0.47843137, 0.44705883],\n",
       "         ...,\n",
       "         [0.6509804 , 0.6901961 , 0.6666667 ],\n",
       "         [0.69411767, 0.73333335, 0.70980394],\n",
       "         [0.69803923, 0.7372549 , 0.7137255 ]]],\n",
       "\n",
       "\n",
       "       [[[0.16862746, 0.23137255, 0.37254903],\n",
       "         [0.16470589, 0.22745098, 0.36862746],\n",
       "         [0.15294118, 0.22745098, 0.3647059 ],\n",
       "         ...,\n",
       "         [0.9137255 , 0.91764706, 0.93333334],\n",
       "         [0.9137255 , 0.91764706, 0.93333334],\n",
       "         [0.9137255 , 0.91764706, 0.93333334]],\n",
       "\n",
       "        [[0.16470589, 0.22745098, 0.36862746],\n",
       "         [0.16470589, 0.22745098, 0.36862746],\n",
       "         [0.14901961, 0.22352941, 0.36078432],\n",
       "         ...,\n",
       "         [0.9137255 , 0.91764706, 0.93333334],\n",
       "         [0.9137255 , 0.91764706, 0.93333334],\n",
       "         [0.9137255 , 0.91764706, 0.93333334]],\n",
       "\n",
       "        [[0.16078432, 0.23529412, 0.37254903],\n",
       "         [0.16078432, 0.23529412, 0.37254903],\n",
       "         [0.15686275, 0.23137255, 0.36862746],\n",
       "         ...,\n",
       "         [0.9137255 , 0.91764706, 0.93333334],\n",
       "         [0.9137255 , 0.91764706, 0.93333334],\n",
       "         [0.9137255 , 0.91764706, 0.93333334]],\n",
       "\n",
       "        ...,\n",
       "\n",
       "        [[0.91764706, 0.9254902 , 0.92941177],\n",
       "         [0.91764706, 0.9254902 , 0.92941177],\n",
       "         [0.91764706, 0.9254902 , 0.92941177],\n",
       "         ...,\n",
       "         [0.9098039 , 0.9137255 , 0.92941177],\n",
       "         [0.9098039 , 0.9137255 , 0.92941177],\n",
       "         [0.9098039 , 0.9137255 , 0.92941177]],\n",
       "\n",
       "        [[0.91764706, 0.9254902 , 0.92941177],\n",
       "         [0.91764706, 0.9254902 , 0.92941177],\n",
       "         [0.91764706, 0.9254902 , 0.92941177],\n",
       "         ...,\n",
       "         [0.9098039 , 0.9137255 , 0.92941177],\n",
       "         [0.9098039 , 0.9137255 , 0.92941177],\n",
       "         [0.9098039 , 0.9137255 , 0.92941177]],\n",
       "\n",
       "        [[0.91764706, 0.9254902 , 0.92941177],\n",
       "         [0.91764706, 0.9254902 , 0.92941177],\n",
       "         [0.91764706, 0.9254902 , 0.92941177],\n",
       "         ...,\n",
       "         [0.9098039 , 0.9137255 , 0.92941177],\n",
       "         [0.9098039 , 0.9137255 , 0.92941177],\n",
       "         [0.9098039 , 0.9137255 , 0.92941177]]],\n",
       "\n",
       "\n",
       "       ...,\n",
       "\n",
       "\n",
       "       [[[0.39215687, 0.46666667, 0.39215687],\n",
       "         [0.39215687, 0.46666667, 0.39215687],\n",
       "         [0.3882353 , 0.4627451 , 0.3882353 ],\n",
       "         ...,\n",
       "         [0.3764706 , 0.44313726, 0.4       ],\n",
       "         [0.37254903, 0.44313726, 0.39215687],\n",
       "         [0.37254903, 0.44313726, 0.39215687]],\n",
       "\n",
       "        [[0.39215687, 0.46666667, 0.39215687],\n",
       "         [0.39215687, 0.46666667, 0.39215687],\n",
       "         [0.3882353 , 0.4627451 , 0.3882353 ],\n",
       "         ...,\n",
       "         [0.37254903, 0.4392157 , 0.39607844],\n",
       "         [0.36862746, 0.4392157 , 0.3882353 ],\n",
       "         [0.36862746, 0.4392157 , 0.3882353 ]],\n",
       "\n",
       "        [[0.39215687, 0.46666667, 0.39215687],\n",
       "         [0.3882353 , 0.4627451 , 0.3882353 ],\n",
       "         [0.3882353 , 0.4627451 , 0.3882353 ],\n",
       "         ...,\n",
       "         [0.36862746, 0.43529412, 0.39215687],\n",
       "         [0.3647059 , 0.43529412, 0.38431373],\n",
       "         [0.3647059 , 0.43529412, 0.38431373]],\n",
       "\n",
       "        ...,\n",
       "\n",
       "        [[0.19607843, 0.23921569, 0.27058825],\n",
       "         [0.2       , 0.24313726, 0.27450982],\n",
       "         [0.20784314, 0.2509804 , 0.28235295],\n",
       "         ...,\n",
       "         [0.04705882, 0.08235294, 0.11764706],\n",
       "         [0.05098039, 0.08627451, 0.12156863],\n",
       "         [0.05490196, 0.09019608, 0.1254902 ]],\n",
       "\n",
       "        [[0.19215687, 0.23529412, 0.26666668],\n",
       "         [0.19607843, 0.23921569, 0.27058825],\n",
       "         [0.2       , 0.24313726, 0.27450982],\n",
       "         ...,\n",
       "         [0.05098039, 0.08627451, 0.12156863],\n",
       "         [0.05098039, 0.08627451, 0.12156863],\n",
       "         [0.05490196, 0.09019608, 0.1254902 ]],\n",
       "\n",
       "        [[0.1882353 , 0.23137255, 0.2627451 ],\n",
       "         [0.19215687, 0.23529412, 0.26666668],\n",
       "         [0.19607843, 0.23921569, 0.27058825],\n",
       "         ...,\n",
       "         [0.05490196, 0.09019608, 0.1254902 ],\n",
       "         [0.05098039, 0.08627451, 0.12156863],\n",
       "         [0.05098039, 0.08627451, 0.12156863]]],\n",
       "\n",
       "\n",
       "       [[[0.9882353 , 0.9882353 , 0.9882353 ],\n",
       "         [0.9882353 , 0.9882353 , 0.9882353 ],\n",
       "         [0.9882353 , 0.9882353 , 0.9882353 ],\n",
       "         ...,\n",
       "         [0.9490196 , 0.9490196 , 0.9490196 ],\n",
       "         [0.9490196 , 0.9490196 , 0.9490196 ],\n",
       "         [0.9490196 , 0.9490196 , 0.9490196 ]],\n",
       "\n",
       "        [[0.9882353 , 0.9882353 , 0.9882353 ],\n",
       "         [0.9882353 , 0.9882353 , 0.9882353 ],\n",
       "         [0.9882353 , 0.9882353 , 0.9882353 ],\n",
       "         ...,\n",
       "         [0.9490196 , 0.9490196 , 0.9490196 ],\n",
       "         [0.9490196 , 0.9490196 , 0.9490196 ],\n",
       "         [0.9490196 , 0.9490196 , 0.9490196 ]],\n",
       "\n",
       "        [[0.9882353 , 0.9882353 , 0.9882353 ],\n",
       "         [0.9882353 , 0.9882353 , 0.9882353 ],\n",
       "         [0.9882353 , 0.9882353 , 0.9882353 ],\n",
       "         ...,\n",
       "         [0.9490196 , 0.9490196 , 0.9490196 ],\n",
       "         [0.9490196 , 0.9490196 , 0.9490196 ],\n",
       "         [0.9490196 , 0.9490196 , 0.9490196 ]],\n",
       "\n",
       "        ...,\n",
       "\n",
       "        [[0.93333334, 0.9411765 , 0.94509804],\n",
       "         [0.92941177, 0.9372549 , 0.9411765 ],\n",
       "         [0.92941177, 0.9372549 , 0.9411765 ],\n",
       "         ...,\n",
       "         [0.85882354, 0.85882354, 0.85882354],\n",
       "         [0.85490197, 0.85490197, 0.85490197],\n",
       "         [0.8509804 , 0.8509804 , 0.8509804 ]],\n",
       "\n",
       "        [[0.93333334, 0.9411765 , 0.94509804],\n",
       "         [0.92941177, 0.9372549 , 0.9411765 ],\n",
       "         [0.92941177, 0.9372549 , 0.9411765 ],\n",
       "         ...,\n",
       "         [0.84313726, 0.84313726, 0.84313726],\n",
       "         [0.8392157 , 0.8392157 , 0.8392157 ],\n",
       "         [0.8352941 , 0.8352941 , 0.8352941 ]],\n",
       "\n",
       "        [[0.93333334, 0.9411765 , 0.94509804],\n",
       "         [0.92941177, 0.9372549 , 0.9411765 ],\n",
       "         [0.92941177, 0.9372549 , 0.9411765 ],\n",
       "         ...,\n",
       "         [0.827451  , 0.827451  , 0.827451  ],\n",
       "         [0.8235294 , 0.8235294 , 0.8235294 ],\n",
       "         [0.8235294 , 0.8235294 , 0.8235294 ]]],\n",
       "\n",
       "\n",
       "       [[[0.5686275 , 0.68235296, 0.69803923],\n",
       "         [0.5921569 , 0.7058824 , 0.72156864],\n",
       "         [0.6156863 , 0.7137255 , 0.7294118 ],\n",
       "         ...,\n",
       "         [0.5411765 , 0.6627451 , 0.69803923],\n",
       "         [0.54509807, 0.6666667 , 0.7019608 ],\n",
       "         [0.5411765 , 0.6627451 , 0.69803923]],\n",
       "\n",
       "        [[0.57254905, 0.6862745 , 0.7019608 ],\n",
       "         [0.6039216 , 0.7176471 , 0.73333335],\n",
       "         [0.63529414, 0.73333335, 0.7490196 ],\n",
       "         ...,\n",
       "         [0.5411765 , 0.6627451 , 0.69803923],\n",
       "         [0.54509807, 0.6666667 , 0.7019608 ],\n",
       "         [0.5411765 , 0.6627451 , 0.69803923]],\n",
       "\n",
       "        [[0.5568628 , 0.67058825, 0.6862745 ],\n",
       "         [0.6       , 0.7137255 , 0.7294118 ],\n",
       "         [0.6431373 , 0.7411765 , 0.7490196 ],\n",
       "         ...,\n",
       "         [0.5372549 , 0.65882355, 0.69411767],\n",
       "         [0.5372549 , 0.65882355, 0.69411767],\n",
       "         [0.5372549 , 0.65882355, 0.69411767]],\n",
       "\n",
       "        ...,\n",
       "\n",
       "        [[0.6039216 , 0.6862745 , 0.6745098 ],\n",
       "         [0.5921569 , 0.6745098 , 0.6627451 ],\n",
       "         [0.5921569 , 0.6745098 , 0.6627451 ],\n",
       "         ...,\n",
       "         [0.58431375, 0.6901961 , 0.7058824 ],\n",
       "         [0.5254902 , 0.6392157 , 0.654902  ],\n",
       "         [0.4862745 , 0.6       , 0.6156863 ]],\n",
       "\n",
       "        [[0.6117647 , 0.69411767, 0.68235296],\n",
       "         [0.60784316, 0.6901961 , 0.6784314 ],\n",
       "         [0.6117647 , 0.69411767, 0.68235296],\n",
       "         ...,\n",
       "         [0.57254905, 0.6784314 , 0.69411767],\n",
       "         [0.5294118 , 0.6431373 , 0.65882355],\n",
       "         [0.5137255 , 0.627451  , 0.6431373 ]],\n",
       "\n",
       "        [[0.6117647 , 0.69411767, 0.68235296],\n",
       "         [0.61960787, 0.7019608 , 0.6901961 ],\n",
       "         [0.6313726 , 0.7137255 , 0.7019608 ],\n",
       "         ...,\n",
       "         [0.5568628 , 0.6627451 , 0.6784314 ],\n",
       "         [0.5411765 , 0.654902  , 0.67058825],\n",
       "         [0.5529412 , 0.6666667 , 0.68235296]]]], dtype=float32)"
      ]
     },
     "execution_count": 4,
     "metadata": {},
     "output_type": "execute_result"
    }
   ],
   "execution_count": 4
  },
  {
   "metadata": {
    "ExecuteTime": {
     "end_time": "2024-05-06T11:52:41.604048Z",
     "start_time": "2024-05-06T11:52:41.557047Z"
    }
   },
   "cell_type": "code",
   "source": "X_train.shape",
   "id": "bc2d0273972ca1be",
   "outputs": [
    {
     "data": {
      "text/plain": [
       "(800, 256, 256, 3)"
      ]
     },
     "execution_count": 5,
     "metadata": {},
     "output_type": "execute_result"
    }
   ],
   "execution_count": 5
  },
  {
   "metadata": {},
   "cell_type": "markdown",
   "source": "### Model 1",
   "id": "1b09360b615d7c3e"
  },
  {
   "metadata": {
    "ExecuteTime": {
     "end_time": "2024-05-06T12:00:39.739304Z",
     "start_time": "2024-05-06T11:55:00.446619Z"
    }
   },
   "cell_type": "code",
   "source": [
    "# Define the model\n",
    "model = tf.keras.Sequential([\n",
    "    tf.keras.Input(shape=(256, 256, 3)),  # Define the input shape her\n",
    "    tf.keras.layers.Conv2D(32, (3, 3), activation='relu', input_shape=(X_train.shape[1], X_train.shape[2], X_train.shape[3])),\n",
    "    tf.keras.layers.MaxPooling2D(pool_size=(2, 2)),\n",
    "    tf.keras.layers.Conv2D(64, (3, 3), activation='relu'),\n",
    "    tf.keras.layers.MaxPooling2D(pool_size=(2, 2)),\n",
    "    tf.keras.layers.Flatten(),\n",
    "    tf.keras.layers.Dense(128, activation='relu'),\n",
    "    tf.keras.layers.Dense(1, activation='linear')\n",
    "])\n",
    "\n",
    "# Compile the model\n",
    "model.compile(optimizer='adam', loss='mean_squared_error', metrics=['mae'])\n",
    "# Capture start time\n",
    "start_time = time.time()\n",
    "# fit the model\n",
    "history = model.fit(X, y, epochs=12, validation_split=0.2)\n",
    "# Capture end time and calculate duration\n",
    "end_time = time.time()\n",
    "modelname = '1000RGBCNN1'\n",
    "calculate_and_log_training_time(modelname = modelname, start_time = start_time, end_time = end_time)\n",
    "save_model_and_config_and_metrics(model = model, history = history,  modelname = modelname)\n"
   ],
   "id": "24d6689a6a03c050",
   "outputs": [
    {
     "name": "stderr",
     "output_type": "stream",
     "text": [
      "c:\\users\\marij\\appdata\\local\\programs\\python\\python39\\lib\\site-packages\\keras\\src\\layers\\convolutional\\base_conv.py:99: UserWarning: Do not pass an `input_shape`/`input_dim` argument to a layer. When using Sequential models, prefer using an `Input(shape)` object as the first layer in the model instead.\n",
      "  super().__init__(\n"
     ]
    },
    {
     "name": "stdout",
     "output_type": "stream",
     "text": [
      "Epoch 1/12\n",
      "\u001B[1m25/25\u001B[0m \u001B[32m━━━━━━━━━━━━━━━━━━━━\u001B[0m\u001B[37m\u001B[0m \u001B[1m35s\u001B[0m 1s/step - loss: 1578.6344 - mae: 29.0627 - val_loss: 721.9092 - val_mae: 22.5477\n",
      "Epoch 2/12\n",
      "\u001B[1m25/25\u001B[0m \u001B[32m━━━━━━━━━━━━━━━━━━━━\u001B[0m\u001B[37m\u001B[0m \u001B[1m37s\u001B[0m 2s/step - loss: 746.1515 - mae: 23.1378 - val_loss: 672.0518 - val_mae: 21.8352\n",
      "Epoch 3/12\n",
      "\u001B[1m25/25\u001B[0m \u001B[32m━━━━━━━━━━━━━━━━━━━━\u001B[0m\u001B[37m\u001B[0m \u001B[1m32s\u001B[0m 1s/step - loss: 713.4332 - mae: 23.0096 - val_loss: 641.6840 - val_mae: 21.3700\n",
      "Epoch 4/12\n",
      "\u001B[1m25/25\u001B[0m \u001B[32m━━━━━━━━━━━━━━━━━━━━\u001B[0m\u001B[37m\u001B[0m \u001B[1m33s\u001B[0m 1s/step - loss: 664.6849 - mae: 22.0956 - val_loss: 632.1837 - val_mae: 21.2510\n",
      "Epoch 5/12\n",
      "\u001B[1m25/25\u001B[0m \u001B[32m━━━━━━━━━━━━━━━━━━━━\u001B[0m\u001B[37m\u001B[0m \u001B[1m35s\u001B[0m 1s/step - loss: 627.9723 - mae: 21.1087 - val_loss: 473.8699 - val_mae: 18.0297\n",
      "Epoch 6/12\n",
      "\u001B[1m25/25\u001B[0m \u001B[32m━━━━━━━━━━━━━━━━━━━━\u001B[0m\u001B[37m\u001B[0m \u001B[1m25s\u001B[0m 996ms/step - loss: 498.9251 - mae: 18.7428 - val_loss: 435.4593 - val_mae: 17.7776\n",
      "Epoch 7/12\n",
      "\u001B[1m25/25\u001B[0m \u001B[32m━━━━━━━━━━━━━━━━━━━━\u001B[0m\u001B[37m\u001B[0m \u001B[1m23s\u001B[0m 918ms/step - loss: 465.8896 - mae: 17.5642 - val_loss: 421.1558 - val_mae: 17.1726\n",
      "Epoch 8/12\n",
      "\u001B[1m25/25\u001B[0m \u001B[32m━━━━━━━━━━━━━━━━━━━━\u001B[0m\u001B[37m\u001B[0m \u001B[1m23s\u001B[0m 938ms/step - loss: 346.4597 - mae: 14.7524 - val_loss: 336.9038 - val_mae: 14.2391\n",
      "Epoch 9/12\n",
      "\u001B[1m25/25\u001B[0m \u001B[32m━━━━━━━━━━━━━━━━━━━━\u001B[0m\u001B[37m\u001B[0m \u001B[1m23s\u001B[0m 933ms/step - loss: 335.7675 - mae: 14.0325 - val_loss: 328.5439 - val_mae: 14.0609\n",
      "Epoch 10/12\n",
      "\u001B[1m25/25\u001B[0m \u001B[32m━━━━━━━━━━━━━━━━━━━━\u001B[0m\u001B[37m\u001B[0m \u001B[1m23s\u001B[0m 918ms/step - loss: 283.5987 - mae: 13.0325 - val_loss: 469.0798 - val_mae: 17.5537\n",
      "Epoch 11/12\n",
      "\u001B[1m25/25\u001B[0m \u001B[32m━━━━━━━━━━━━━━━━━━━━\u001B[0m\u001B[37m\u001B[0m \u001B[1m23s\u001B[0m 913ms/step - loss: 310.1664 - mae: 13.3581 - val_loss: 345.8272 - val_mae: 14.3428\n",
      "Epoch 12/12\n",
      "\u001B[1m25/25\u001B[0m \u001B[32m━━━━━━━━━━━━━━━━━━━━\u001B[0m\u001B[37m\u001B[0m \u001B[1m23s\u001B[0m 924ms/step - loss: 203.4244 - mae: 10.6936 - val_loss: 383.4678 - val_mae: 15.0721\n",
      "Loss plot saved as: 1000RGBCNN1\\1000RGBCNN1_loss_plot.jpg\n",
      "Metric plot saved as: 1000RGBCNN1\\1000RGBCNN1_mae_plot.jpg\n"
     ]
    }
   ],
   "execution_count": 7
  },
  {
   "metadata": {},
   "cell_type": "markdown",
   "source": "### Model 2",
   "id": "188b4b1a464b018a"
  },
  {
   "metadata": {
    "ExecuteTime": {
     "end_time": "2024-05-06T12:05:16.347711Z",
     "start_time": "2024-05-06T12:00:39.742275Z"
    }
   },
   "cell_type": "code",
   "source": [
    "# Define the model\n",
    "model = tf.keras.Sequential([\n",
    "    tf.keras.Input(shape=(256, 256, 3)),  # Define the input shape her\n",
    "    tf.keras.layers.Conv2D(32, (3, 3), activation='relu', input_shape=(X_train.shape[1], X_train.shape[2], X_train.shape[3])),\n",
    "    tf.keras.layers.MaxPooling2D(pool_size=(2, 2)),\n",
    "    tf.keras.layers.Conv2D(64, (3, 3), activation='relu'),\n",
    "    tf.keras.layers.MaxPooling2D(pool_size=(2, 2)),\n",
    "    tf.keras.layers.Flatten(),\n",
    "    tf.keras.layers.Dense(128, activation='relu'),\n",
    "    tf.keras.layers.Dense(128, activation='relu'),\n",
    "    tf.keras.layers.Dense(1, activation='linear')\n",
    "])\n",
    "\n",
    "# Compile the model\n",
    "model.compile(optimizer='adam', loss='mean_squared_error', metrics=['mae'])\n",
    "# Capture start time\n",
    "start_time = time.time()\n",
    "# fit the model\n",
    "history = model.fit(X, y, epochs=12, validation_split=0.2)\n",
    "# Capture end time and calculate duration\n",
    "end_time = time.time()\n",
    "\n",
    "modelname = '1000RGBCNN2'\n",
    "calculate_and_log_training_time(modelname = modelname, start_time = start_time, end_time = end_time)\n",
    "save_model_and_config_and_metrics(model = model, history = history,  modelname = modelname)"
   ],
   "id": "e152632982c095d9",
   "outputs": [
    {
     "name": "stderr",
     "output_type": "stream",
     "text": [
      "c:\\users\\marij\\appdata\\local\\programs\\python\\python39\\lib\\site-packages\\keras\\src\\layers\\convolutional\\base_conv.py:99: UserWarning: Do not pass an `input_shape`/`input_dim` argument to a layer. When using Sequential models, prefer using an `Input(shape)` object as the first layer in the model instead.\n",
      "  super().__init__(\n"
     ]
    },
    {
     "name": "stdout",
     "output_type": "stream",
     "text": [
      "Epoch 1/12\n",
      "\u001B[1m25/25\u001B[0m \u001B[32m━━━━━━━━━━━━━━━━━━━━\u001B[0m\u001B[37m\u001B[0m \u001B[1m24s\u001B[0m 903ms/step - loss: 878.2673 - mae: 24.3488 - val_loss: 544.3779 - val_mae: 19.7763\n",
      "Epoch 2/12\n",
      "\u001B[1m25/25\u001B[0m \u001B[32m━━━━━━━━━━━━━━━━━━━━\u001B[0m\u001B[37m\u001B[0m \u001B[1m22s\u001B[0m 893ms/step - loss: 574.0205 - mae: 20.2303 - val_loss: 474.6278 - val_mae: 18.4267\n",
      "Epoch 3/12\n",
      "\u001B[1m25/25\u001B[0m \u001B[32m━━━━━━━━━━━━━━━━━━━━\u001B[0m\u001B[37m\u001B[0m \u001B[1m22s\u001B[0m 899ms/step - loss: 553.3589 - mae: 19.3463 - val_loss: 422.5993 - val_mae: 16.6531\n",
      "Epoch 4/12\n",
      "\u001B[1m25/25\u001B[0m \u001B[32m━━━━━━━━━━━━━━━━━━━━\u001B[0m\u001B[37m\u001B[0m \u001B[1m23s\u001B[0m 932ms/step - loss: 528.6119 - mae: 18.0199 - val_loss: 428.5474 - val_mae: 17.0615\n",
      "Epoch 5/12\n",
      "\u001B[1m25/25\u001B[0m \u001B[32m━━━━━━━━━━━━━━━━━━━━\u001B[0m\u001B[37m\u001B[0m \u001B[1m23s\u001B[0m 927ms/step - loss: 394.9439 - mae: 15.3430 - val_loss: 353.5254 - val_mae: 14.6381\n",
      "Epoch 6/12\n",
      "\u001B[1m25/25\u001B[0m \u001B[32m━━━━━━━━━━━━━━━━━━━━\u001B[0m\u001B[37m\u001B[0m \u001B[1m23s\u001B[0m 907ms/step - loss: 292.5572 - mae: 12.8835 - val_loss: 360.6035 - val_mae: 15.0033\n",
      "Epoch 7/12\n",
      "\u001B[1m25/25\u001B[0m \u001B[32m━━━━━━━━━━━━━━━━━━━━\u001B[0m\u001B[37m\u001B[0m \u001B[1m23s\u001B[0m 913ms/step - loss: 292.1963 - mae: 12.9336 - val_loss: 358.5579 - val_mae: 14.6779\n",
      "Epoch 8/12\n",
      "\u001B[1m25/25\u001B[0m \u001B[32m━━━━━━━━━━━━━━━━━━━━\u001B[0m\u001B[37m\u001B[0m \u001B[1m23s\u001B[0m 926ms/step - loss: 212.9305 - mae: 10.6878 - val_loss: 340.9707 - val_mae: 14.3237\n",
      "Epoch 9/12\n",
      "\u001B[1m25/25\u001B[0m \u001B[32m━━━━━━━━━━━━━━━━━━━━\u001B[0m\u001B[37m\u001B[0m \u001B[1m23s\u001B[0m 912ms/step - loss: 151.4272 - mae: 9.2073 - val_loss: 346.7693 - val_mae: 14.0098\n",
      "Epoch 10/12\n",
      "\u001B[1m25/25\u001B[0m \u001B[32m━━━━━━━━━━━━━━━━━━━━\u001B[0m\u001B[37m\u001B[0m \u001B[1m23s\u001B[0m 910ms/step - loss: 125.1529 - mae: 8.1374 - val_loss: 401.1287 - val_mae: 15.3494\n",
      "Epoch 11/12\n",
      "\u001B[1m25/25\u001B[0m \u001B[32m━━━━━━━━━━━━━━━━━━━━\u001B[0m\u001B[37m\u001B[0m \u001B[1m22s\u001B[0m 883ms/step - loss: 161.3871 - mae: 9.4172 - val_loss: 362.9559 - val_mae: 14.3080\n",
      "Epoch 12/12\n",
      "\u001B[1m25/25\u001B[0m \u001B[32m━━━━━━━━━━━━━━━━━━━━\u001B[0m\u001B[37m\u001B[0m \u001B[1m22s\u001B[0m 893ms/step - loss: 90.1560 - mae: 6.6265 - val_loss: 341.6994 - val_mae: 14.0456\n",
      "Loss plot saved as: 1000RGBCNN2\\1000RGBCNN2_loss_plot.jpg\n",
      "Metric plot saved as: 1000RGBCNN2\\1000RGBCNN2_mae_plot.jpg\n"
     ]
    }
   ],
   "execution_count": 8
  },
  {
   "metadata": {},
   "cell_type": "markdown",
   "source": "### Model 3",
   "id": "7c1cffdca5d2ac48"
  },
  {
   "metadata": {
    "ExecuteTime": {
     "end_time": "2024-05-04T11:00:38.822633Z",
     "start_time": "2024-05-04T10:55:37.053318Z"
    }
   },
   "cell_type": "code",
   "source": [
    "# Define the model\n",
    "model = tf.keras.Sequential([\n",
    "    tf.keras.Input(shape=(256, 256, 3)),  # Define the input shape her\n",
    "    tf.keras.layers.Conv2D(32, (3, 3), activation='relu', input_shape=(X_train.shape[1], X_train.shape[2], X_train.shape[3])),\n",
    "    tf.keras.layers.MaxPooling2D(pool_size=(2, 2)),\n",
    "    tf.keras.layers.Conv2D(64, (3, 3), activation='relu'),\n",
    "    tf.keras.layers.MaxPooling2D(pool_size=(2, 2)),\n",
    "    tf.keras.layers.Flatten(),\n",
    "    tf.keras.layers.Dense(128, activation='relu'),\n",
    "    tf.keras.layers.Dense(128, activation='relu'),\n",
    "    tf.keras.layers.Dense(128, activation='relu'),\n",
    "    tf.keras.layers.Dense(1, activation='linear')\n",
    "])\n",
    "\n",
    "# Compile the model\n",
    "model.compile(optimizer='adam', loss='mean_squared_error', metrics=['mae'])\n",
    "# Capture start time\n",
    "start_time = time.time()\n",
    "# fit the model\n",
    "history = model.fit(X, y, epochs=12, validation_split=0.2)\n",
    "# Capture end time and calculate duration\n",
    "end_time = time.time()\n",
    "\n",
    "modelname = '1000RGBCNN3'\n",
    "calculate_and_log_training_time(modelname = modelname, start_time = start_time, end_time = end_time)\n",
    "save_model_and_config_and_metrics(model = model, history = history,  modelname = modelname)"
   ],
   "id": "33ac5c2fea1de9bd",
   "outputs": [
    {
     "name": "stderr",
     "output_type": "stream",
     "text": [
      "c:\\users\\marij\\appdata\\local\\programs\\python\\python39\\lib\\site-packages\\keras\\src\\layers\\convolutional\\base_conv.py:99: UserWarning: Do not pass an `input_shape`/`input_dim` argument to a layer. When using Sequential models, prefer using an `Input(shape)` object as the first layer in the model instead.\n",
      "  super().__init__(\n"
     ]
    },
    {
     "name": "stdout",
     "output_type": "stream",
     "text": [
      "Epoch 1/12\n",
      "\u001B[1m25/25\u001B[0m \u001B[32m━━━━━━━━━━━━━━━━━━━━\u001B[0m\u001B[37m\u001B[0m \u001B[1m27s\u001B[0m 1s/step - loss: 951.5848 - mae: 25.4581 - val_loss: 575.1730 - val_mae: 20.2758\n",
      "Epoch 2/12\n",
      "\u001B[1m25/25\u001B[0m \u001B[32m━━━━━━━━━━━━━━━━━━━━\u001B[0m\u001B[37m\u001B[0m \u001B[1m23s\u001B[0m 931ms/step - loss: 693.9902 - mae: 22.2039 - val_loss: 500.1079 - val_mae: 18.6416\n",
      "Epoch 3/12\n",
      "\u001B[1m25/25\u001B[0m \u001B[32m━━━━━━━━━━━━━━━━━━━━\u001B[0m\u001B[37m\u001B[0m \u001B[1m27s\u001B[0m 1s/step - loss: 566.1277 - mae: 19.3682 - val_loss: 524.0504 - val_mae: 19.2451\n",
      "Epoch 4/12\n",
      "\u001B[1m25/25\u001B[0m \u001B[32m━━━━━━━━━━━━━━━━━━━━\u001B[0m\u001B[37m\u001B[0m \u001B[1m25s\u001B[0m 1s/step - loss: 583.6495 - mae: 18.9100 - val_loss: 405.6701 - val_mae: 16.6503\n",
      "Epoch 5/12\n",
      "\u001B[1m25/25\u001B[0m \u001B[32m━━━━━━━━━━━━━━━━━━━━\u001B[0m\u001B[37m\u001B[0m \u001B[1m24s\u001B[0m 945ms/step - loss: 364.4417 - mae: 14.9667 - val_loss: 422.6143 - val_mae: 16.4496\n",
      "Epoch 6/12\n",
      "\u001B[1m25/25\u001B[0m \u001B[32m━━━━━━━━━━━━━━━━━━━━\u001B[0m\u001B[37m\u001B[0m \u001B[1m25s\u001B[0m 1s/step - loss: 287.9714 - mae: 13.1479 - val_loss: 341.7905 - val_mae: 14.2121\n",
      "Epoch 7/12\n",
      "\u001B[1m25/25\u001B[0m \u001B[32m━━━━━━━━━━━━━━━━━━━━\u001B[0m\u001B[37m\u001B[0m \u001B[1m24s\u001B[0m 944ms/step - loss: 268.8148 - mae: 12.1881 - val_loss: 371.3958 - val_mae: 15.1594\n",
      "Epoch 8/12\n",
      "\u001B[1m25/25\u001B[0m \u001B[32m━━━━━━━━━━━━━━━━━━━━\u001B[0m\u001B[37m\u001B[0m \u001B[1m23s\u001B[0m 939ms/step - loss: 192.9655 - mae: 10.6621 - val_loss: 333.3112 - val_mae: 14.0301\n",
      "Epoch 9/12\n",
      "\u001B[1m25/25\u001B[0m \u001B[32m━━━━━━━━━━━━━━━━━━━━\u001B[0m\u001B[37m\u001B[0m \u001B[1m25s\u001B[0m 1000ms/step - loss: 156.8796 - mae: 9.3405 - val_loss: 435.7198 - val_mae: 16.0553\n",
      "Epoch 10/12\n",
      "\u001B[1m25/25\u001B[0m \u001B[32m━━━━━━━━━━━━━━━━━━━━\u001B[0m\u001B[37m\u001B[0m \u001B[1m24s\u001B[0m 957ms/step - loss: 120.2617 - mae: 8.2788 - val_loss: 318.2154 - val_mae: 13.4143\n",
      "Epoch 11/12\n",
      "\u001B[1m25/25\u001B[0m \u001B[32m━━━━━━━━━━━━━━━━━━━━\u001B[0m\u001B[37m\u001B[0m \u001B[1m24s\u001B[0m 969ms/step - loss: 109.7012 - mae: 7.7575 - val_loss: 361.4886 - val_mae: 14.2801\n",
      "Epoch 12/12\n",
      "\u001B[1m25/25\u001B[0m \u001B[32m━━━━━━━━━━━━━━━━━━━━\u001B[0m\u001B[37m\u001B[0m \u001B[1m26s\u001B[0m 1s/step - loss: 67.5019 - mae: 5.7101 - val_loss: 368.1683 - val_mae: 13.9715\n",
      "Loss plot saved as: RBGCNN3_loss_plot.jpg\n",
      "Metric plot saved as: RBGCNN3_mae_plot.jpg\n"
     ]
    }
   ],
   "execution_count": 9
  },
  {
   "metadata": {},
   "cell_type": "markdown",
   "source": [
    "### Increase sample size by 1000\n",
    "### Model 1"
   ],
   "id": "23ab7383317d68e0"
  },
  {
   "metadata": {
    "ExecuteTime": {
     "end_time": "2024-05-04T11:15:43.743687Z",
     "start_time": "2024-05-04T11:15:26.756672Z"
    }
   },
   "cell_type": "code",
   "source": [
    "sampled_RGB_data = RGB_data.sample(n=2000, random_state = 2001)\n",
    "y = sampled_RGB_data['Age'].values\n",
    "X = sampled_RGB_data['Image'].values\n",
    "X = np.stack(X)\n",
    "\n",
    "# Split the data into training and test sets\n",
    "X_train, X_test, y_train, y_test = train_test_split(X, y, test_size=0.2, random_state=42)"
   ],
   "id": "71f6b5fd057e7cd1",
   "outputs": [],
   "execution_count": 10
  },
  {
   "metadata": {
    "ExecuteTime": {
     "end_time": "2024-05-04T11:26:31.513145Z",
     "start_time": "2024-05-04T11:15:43.750207Z"
    }
   },
   "cell_type": "code",
   "source": [
    "# Define the model\n",
    "model = tf.keras.Sequential([\n",
    "    tf.keras.Input(shape=(256, 256, 3)),  # Define the input shape her\n",
    "    tf.keras.layers.Conv2D(32, (3, 3), activation='relu', input_shape=(X_train.shape[1], X_train.shape[2], X_train.shape[3])),\n",
    "    tf.keras.layers.MaxPooling2D(pool_size=(2, 2)),\n",
    "    tf.keras.layers.Conv2D(64, (3, 3), activation='relu'),\n",
    "    tf.keras.layers.MaxPooling2D(pool_size=(2, 2)),\n",
    "    tf.keras.layers.Flatten(),\n",
    "    tf.keras.layers.Dense(128, activation='relu'),\n",
    "    tf.keras.layers.Dense(1, activation='linear')\n",
    "])\n",
    "\n",
    "# Compile the model\n",
    "model.compile(optimizer='adam', loss='mean_squared_error', metrics=['mae'])\n",
    "# Capture start time\n",
    "start_time = time.time()\n",
    "# fit the model\n",
    "history = model.fit(X, y, epochs=12, validation_split=0.2)\n",
    "# Capture end time and calculate duration\n",
    "end_time = time.time()\n",
    "\n",
    "modelname = \"2000RBGCNN1\"\n",
    "calculate_and_log_training_time(modelname = modelname, start_time = start_time, end_time = end_time)\n",
    "save_model_and_config_and_metrics(model = model, history = history,  modelname = modelname)"
   ],
   "id": "c5f1afa5186e92aa",
   "outputs": [
    {
     "name": "stderr",
     "output_type": "stream",
     "text": [
      "c:\\users\\marij\\appdata\\local\\programs\\python\\python39\\lib\\site-packages\\keras\\src\\layers\\convolutional\\base_conv.py:99: UserWarning: Do not pass an `input_shape`/`input_dim` argument to a layer. When using Sequential models, prefer using an `Input(shape)` object as the first layer in the model instead.\n",
      "  super().__init__(\n"
     ]
    },
    {
     "name": "stdout",
     "output_type": "stream",
     "text": [
      "Epoch 1/12\n",
      "\u001B[1m50/50\u001B[0m \u001B[32m━━━━━━━━━━━━━━━━━━━━\u001B[0m\u001B[37m\u001B[0m \u001B[1m62s\u001B[0m 1s/step - loss: 1352.4658 - mae: 27.8576 - val_loss: 681.5572 - val_mae: 20.7425\n",
      "Epoch 2/12\n",
      "\u001B[1m50/50\u001B[0m \u001B[32m━━━━━━━━━━━━━━━━━━━━\u001B[0m\u001B[37m\u001B[0m \u001B[1m48s\u001B[0m 957ms/step - loss: 664.1737 - mae: 21.5744 - val_loss: 605.3840 - val_mae: 20.1337\n",
      "Epoch 3/12\n",
      "\u001B[1m50/50\u001B[0m \u001B[32m━━━━━━━━━━━━━━━━━━━━\u001B[0m\u001B[37m\u001B[0m \u001B[1m53s\u001B[0m 1s/step - loss: 539.0345 - mae: 19.3188 - val_loss: 452.4469 - val_mae: 16.9213\n",
      "Epoch 4/12\n",
      "\u001B[1m50/50\u001B[0m \u001B[32m━━━━━━━━━━━━━━━━━━━━\u001B[0m\u001B[37m\u001B[0m \u001B[1m52s\u001B[0m 1s/step - loss: 419.8944 - mae: 16.2456 - val_loss: 412.6884 - val_mae: 15.5035\n",
      "Epoch 5/12\n",
      "\u001B[1m50/50\u001B[0m \u001B[32m━━━━━━━━━━━━━━━━━━━━\u001B[0m\u001B[37m\u001B[0m \u001B[1m46s\u001B[0m 923ms/step - loss: 344.9446 - mae: 14.2759 - val_loss: 388.0883 - val_mae: 14.4851\n",
      "Epoch 6/12\n",
      "\u001B[1m50/50\u001B[0m \u001B[32m━━━━━━━━━━━━━━━━━━━━\u001B[0m\u001B[37m\u001B[0m \u001B[1m50s\u001B[0m 1s/step - loss: 277.7482 - mae: 12.3376 - val_loss: 420.1651 - val_mae: 14.2866\n",
      "Epoch 7/12\n",
      "\u001B[1m50/50\u001B[0m \u001B[32m━━━━━━━━━━━━━━━━━━━━\u001B[0m\u001B[37m\u001B[0m \u001B[1m51s\u001B[0m 1s/step - loss: 224.2502 - mae: 10.9087 - val_loss: 390.4711 - val_mae: 15.0717\n",
      "Epoch 8/12\n",
      "\u001B[1m50/50\u001B[0m \u001B[32m━━━━━━━━━━━━━━━━━━━━\u001B[0m\u001B[37m\u001B[0m \u001B[1m80s\u001B[0m 986ms/step - loss: 214.0329 - mae: 11.0337 - val_loss: 371.7104 - val_mae: 13.2729\n",
      "Epoch 9/12\n",
      "\u001B[1m50/50\u001B[0m \u001B[32m━━━━━━━━━━━━━━━━━━━━\u001B[0m\u001B[37m\u001B[0m \u001B[1m51s\u001B[0m 1s/step - loss: 167.3910 - mae: 9.4087 - val_loss: 373.7222 - val_mae: 13.1372\n",
      "Epoch 10/12\n",
      "\u001B[1m50/50\u001B[0m \u001B[32m━━━━━━━━━━━━━━━━━━━━\u001B[0m\u001B[37m\u001B[0m \u001B[1m50s\u001B[0m 1s/step - loss: 132.9802 - mae: 8.2709 - val_loss: 394.6644 - val_mae: 13.3848\n",
      "Epoch 11/12\n",
      "\u001B[1m50/50\u001B[0m \u001B[32m━━━━━━━━━━━━━━━━━━━━\u001B[0m\u001B[37m\u001B[0m \u001B[1m46s\u001B[0m 925ms/step - loss: 144.6308 - mae: 8.3403 - val_loss: 386.0585 - val_mae: 14.1502\n",
      "Epoch 12/12\n",
      "\u001B[1m50/50\u001B[0m \u001B[32m━━━━━━━━━━━━━━━━━━━━\u001B[0m\u001B[37m\u001B[0m \u001B[1m48s\u001B[0m 969ms/step - loss: 94.4068 - mae: 6.8344 - val_loss: 368.4536 - val_mae: 13.0917\n",
      "Loss plot saved as: 2000RBGCNN1_loss_plot.jpg\n",
      "Metric plot saved as: 2000RBGCNN1_mae_plot.jpg\n"
     ]
    }
   ],
   "execution_count": 11
  },
  {
   "metadata": {},
   "cell_type": "markdown",
   "source": "### Model 2",
   "id": "a108d602012764de"
  },
  {
   "metadata": {
    "ExecuteTime": {
     "end_time": "2024-05-04T11:43:19.854135Z",
     "start_time": "2024-05-04T11:33:14.399988Z"
    }
   },
   "cell_type": "code",
   "source": [
    "# Define the model\n",
    "model = tf.keras.Sequential([\n",
    "    tf.keras.Input(shape=(256, 256, 3)),  # Define the input shape her\n",
    "    tf.keras.layers.Conv2D(32, (3, 3), activation='relu', input_shape=(X_train.shape[1], X_train.shape[2], X_train.shape[3])),\n",
    "    tf.keras.layers.MaxPooling2D(pool_size=(2, 2)),\n",
    "    tf.keras.layers.Conv2D(64, (3, 3), activation='relu'),\n",
    "    tf.keras.layers.MaxPooling2D(pool_size=(2, 2)),\n",
    "    tf.keras.layers.Flatten(),\n",
    "    tf.keras.layers.Dense(128, activation='relu'),\n",
    "    tf.keras.layers.Dense(128, activation='relu'),\n",
    "    tf.keras.layers.Dense(1, activation='linear')\n",
    "])\n",
    "\n",
    "# Compile the model\n",
    "model.compile(optimizer='adam', loss='mean_squared_error', metrics=['mae'])\n",
    "# Capture start time\n",
    "start_time = time.time()\n",
    "# fit the model\n",
    "history = model.fit(X, y, epochs=12, validation_split=0.2)\n",
    "# Capture end time and calculate duration\n",
    "end_time = time.time()\n",
    "\n",
    "modelname = \"2000RBGCNN2\"\n",
    "calculate_and_log_training_time(modelname = modelname, start_time = start_time, end_time = end_time)\n",
    "save_model_and_config_and_metrics(model = model, history = history,  modelname = modelname)"
   ],
   "id": "91c7d52b0fa4ae1b",
   "outputs": [
    {
     "name": "stderr",
     "output_type": "stream",
     "text": [
      "c:\\users\\marij\\appdata\\local\\programs\\python\\python39\\lib\\site-packages\\keras\\src\\layers\\convolutional\\base_conv.py:99: UserWarning: Do not pass an `input_shape`/`input_dim` argument to a layer. When using Sequential models, prefer using an `Input(shape)` object as the first layer in the model instead.\n",
      "  super().__init__(\n"
     ]
    },
    {
     "name": "stdout",
     "output_type": "stream",
     "text": [
      "Epoch 1/12\n",
      "\u001B[1m50/50\u001B[0m \u001B[32m━━━━━━━━━━━━━━━━━━━━\u001B[0m\u001B[37m\u001B[0m \u001B[1m58s\u001B[0m 1s/step - loss: 892.3332 - mae: 24.1551 - val_loss: 635.8647 - val_mae: 20.1902\n",
      "Epoch 2/12\n",
      "\u001B[1m50/50\u001B[0m \u001B[32m━━━━━━━━━━━━━━━━━━━━\u001B[0m\u001B[37m\u001B[0m \u001B[1m55s\u001B[0m 1s/step - loss: 605.3712 - mae: 20.4546 - val_loss: 564.1740 - val_mae: 18.0135\n",
      "Epoch 3/12\n",
      "\u001B[1m50/50\u001B[0m \u001B[32m━━━━━━━━━━━━━━━━━━━━\u001B[0m\u001B[37m\u001B[0m \u001B[1m53s\u001B[0m 1s/step - loss: 483.4496 - mae: 17.7392 - val_loss: 462.6607 - val_mae: 16.9905\n",
      "Epoch 4/12\n",
      "\u001B[1m50/50\u001B[0m \u001B[32m━━━━━━━━━━━━━━━━━━━━\u001B[0m\u001B[37m\u001B[0m \u001B[1m55s\u001B[0m 1s/step - loss: 392.3832 - mae: 15.6108 - val_loss: 469.8961 - val_mae: 14.7505\n",
      "Epoch 5/12\n",
      "\u001B[1m50/50\u001B[0m \u001B[32m━━━━━━━━━━━━━━━━━━━━\u001B[0m\u001B[37m\u001B[0m \u001B[1m49s\u001B[0m 979ms/step - loss: 338.9619 - mae: 13.5303 - val_loss: 411.6151 - val_mae: 13.5428\n",
      "Epoch 6/12\n",
      "\u001B[1m50/50\u001B[0m \u001B[32m━━━━━━━━━━━━━━━━━━━━\u001B[0m\u001B[37m\u001B[0m \u001B[1m49s\u001B[0m 973ms/step - loss: 279.9233 - mae: 12.3027 - val_loss: 357.3709 - val_mae: 13.2459\n",
      "Epoch 7/12\n",
      "\u001B[1m50/50\u001B[0m \u001B[32m━━━━━━━━━━━━━━━━━━━━\u001B[0m\u001B[37m\u001B[0m \u001B[1m47s\u001B[0m 940ms/step - loss: 218.8492 - mae: 10.9469 - val_loss: 460.6498 - val_mae: 14.0682\n",
      "Epoch 8/12\n",
      "\u001B[1m50/50\u001B[0m \u001B[32m━━━━━━━━━━━━━━━━━━━━\u001B[0m\u001B[37m\u001B[0m \u001B[1m47s\u001B[0m 943ms/step - loss: 227.8076 - mae: 10.8165 - val_loss: 351.0320 - val_mae: 12.7723\n",
      "Epoch 9/12\n",
      "\u001B[1m50/50\u001B[0m \u001B[32m━━━━━━━━━━━━━━━━━━━━\u001B[0m\u001B[37m\u001B[0m \u001B[1m47s\u001B[0m 936ms/step - loss: 150.3255 - mae: 8.7455 - val_loss: 380.9480 - val_mae: 13.9640\n",
      "Epoch 10/12\n",
      "\u001B[1m50/50\u001B[0m \u001B[32m━━━━━━━━━━━━━━━━━━━━\u001B[0m\u001B[37m\u001B[0m \u001B[1m48s\u001B[0m 964ms/step - loss: 130.7430 - mae: 7.9481 - val_loss: 363.0693 - val_mae: 12.6292\n",
      "Epoch 11/12\n",
      "\u001B[1m50/50\u001B[0m \u001B[32m━━━━━━━━━━━━━━━━━━━━\u001B[0m\u001B[37m\u001B[0m \u001B[1m47s\u001B[0m 947ms/step - loss: 82.2637 - mae: 6.4327 - val_loss: 418.8203 - val_mae: 15.0750\n",
      "Epoch 12/12\n",
      "\u001B[1m50/50\u001B[0m \u001B[32m━━━━━━━━━━━━━━━━━━━━\u001B[0m\u001B[37m\u001B[0m \u001B[1m48s\u001B[0m 954ms/step - loss: 85.4864 - mae: 6.5084 - val_loss: 385.1035 - val_mae: 12.9523\n",
      "Loss plot saved as: 2000RBGCNN2_loss_plot.jpg\n",
      "Metric plot saved as: 2000RBGCNN2_mae_plot.jpg\n"
     ]
    }
   ],
   "execution_count": 13
  },
  {
   "metadata": {},
   "cell_type": "markdown",
   "source": "### Model 3",
   "id": "8eab02df0490e622"
  },
  {
   "metadata": {
    "ExecuteTime": {
     "end_time": "2024-05-04T11:59:50.867759Z",
     "start_time": "2024-05-04T11:50:22.260316Z"
    }
   },
   "cell_type": "code",
   "source": [
    "# Define the model\n",
    "model = tf.keras.Sequential([\n",
    "    tf.keras.Input(shape=(256, 256, 3)),  # Define the input shape her\n",
    "    tf.keras.layers.Conv2D(32, (3, 3), activation='relu', input_shape=(X_train.shape[1], X_train.shape[2], X_train.shape[3])),\n",
    "    tf.keras.layers.MaxPooling2D(pool_size=(2, 2)),\n",
    "    tf.keras.layers.Conv2D(64, (3, 3), activation='relu'),\n",
    "    tf.keras.layers.MaxPooling2D(pool_size=(2, 2)),\n",
    "    tf.keras.layers.Flatten(),\n",
    "    tf.keras.layers.Dense(128, activation='relu'),\n",
    "    tf.keras.layers.Dense(128, activation='relu'),\n",
    "    tf.keras.layers.Dense(128, activation='relu'),\n",
    "    tf.keras.layers.Dense(1, activation='linear')\n",
    "])\n",
    "\n",
    "# Compile the model\n",
    "model.compile(optimizer='adam', loss='mean_squared_error', metrics=['mae'])\n",
    "# Capture start time\n",
    "start_time = time.time()\n",
    "# fit the model\n",
    "history = model.fit(X, y, epochs=12, validation_split=0.2)\n",
    "# Capture end time and calculate duration\n",
    "end_time = time.time()\n",
    "\n",
    "modelname = \"2000RBGCNN3\"\n",
    "calculate_and_log_training_time(modelname = modelname, start_time = start_time, end_time = end_time)\n",
    "save_model_and_config_and_metrics(model = model, history = history,  modelname = modelname)"
   ],
   "id": "1aa3c2523403e0ef",
   "outputs": [
    {
     "name": "stderr",
     "output_type": "stream",
     "text": [
      "c:\\users\\marij\\appdata\\local\\programs\\python\\python39\\lib\\site-packages\\keras\\src\\layers\\convolutional\\base_conv.py:99: UserWarning: Do not pass an `input_shape`/`input_dim` argument to a layer. When using Sequential models, prefer using an `Input(shape)` object as the first layer in the model instead.\n",
      "  super().__init__(\n"
     ]
    },
    {
     "name": "stdout",
     "output_type": "stream",
     "text": [
      "Epoch 1/12\n",
      "\u001B[1m50/50\u001B[0m \u001B[32m━━━━━━━━━━━━━━━━━━━━\u001B[0m\u001B[37m\u001B[0m \u001B[1m49s\u001B[0m 953ms/step - loss: 835.8069 - mae: 23.2301 - val_loss: 716.6864 - val_mae: 22.9279\n",
      "Epoch 2/12\n",
      "\u001B[1m50/50\u001B[0m \u001B[32m━━━━━━━━━━━━━━━━━━━━\u001B[0m\u001B[37m\u001B[0m \u001B[1m47s\u001B[0m 934ms/step - loss: 666.2056 - mae: 20.8799 - val_loss: 743.5247 - val_mae: 23.9762\n",
      "Epoch 3/12\n",
      "\u001B[1m50/50\u001B[0m \u001B[32m━━━━━━━━━━━━━━━━━━━━\u001B[0m\u001B[37m\u001B[0m \u001B[1m46s\u001B[0m 917ms/step - loss: 592.9092 - mae: 19.6559 - val_loss: 492.4164 - val_mae: 16.4726\n",
      "Epoch 4/12\n",
      "\u001B[1m50/50\u001B[0m \u001B[32m━━━━━━━━━━━━━━━━━━━━\u001B[0m\u001B[37m\u001B[0m \u001B[1m48s\u001B[0m 955ms/step - loss: 416.6466 - mae: 15.7377 - val_loss: 437.9920 - val_mae: 17.0020\n",
      "Epoch 5/12\n",
      "\u001B[1m50/50\u001B[0m \u001B[32m━━━━━━━━━━━━━━━━━━━━\u001B[0m\u001B[37m\u001B[0m \u001B[1m47s\u001B[0m 938ms/step - loss: 364.8119 - mae: 14.5042 - val_loss: 401.2849 - val_mae: 13.8667\n",
      "Epoch 6/12\n",
      "\u001B[1m50/50\u001B[0m \u001B[32m━━━━━━━━━━━━━━━━━━━━\u001B[0m\u001B[37m\u001B[0m \u001B[1m48s\u001B[0m 950ms/step - loss: 308.6489 - mae: 12.8515 - val_loss: 407.8839 - val_mae: 13.6539\n",
      "Epoch 7/12\n",
      "\u001B[1m50/50\u001B[0m \u001B[32m━━━━━━━━━━━━━━━━━━━━\u001B[0m\u001B[37m\u001B[0m \u001B[1m47s\u001B[0m 933ms/step - loss: 247.1481 - mae: 11.1844 - val_loss: 415.5869 - val_mae: 15.7792\n",
      "Epoch 8/12\n",
      "\u001B[1m50/50\u001B[0m \u001B[32m━━━━━━━━━━━━━━━━━━━━\u001B[0m\u001B[37m\u001B[0m \u001B[1m47s\u001B[0m 931ms/step - loss: 193.5813 - mae: 10.1273 - val_loss: 367.3989 - val_mae: 13.3972\n",
      "Epoch 9/12\n",
      "\u001B[1m50/50\u001B[0m \u001B[32m━━━━━━━━━━━━━━━━━━━━\u001B[0m\u001B[37m\u001B[0m \u001B[1m48s\u001B[0m 959ms/step - loss: 149.8192 - mae: 8.7381 - val_loss: 402.6746 - val_mae: 13.7515\n",
      "Epoch 10/12\n",
      "\u001B[1m50/50\u001B[0m \u001B[32m━━━━━━━━━━━━━━━━━━━━\u001B[0m\u001B[37m\u001B[0m \u001B[1m46s\u001B[0m 913ms/step - loss: 167.3011 - mae: 9.2020 - val_loss: 388.7713 - val_mae: 13.0442\n",
      "Epoch 11/12\n",
      "\u001B[1m50/50\u001B[0m \u001B[32m━━━━━━━━━━━━━━━━━━━━\u001B[0m\u001B[37m\u001B[0m \u001B[1m46s\u001B[0m 918ms/step - loss: 125.6368 - mae: 7.7351 - val_loss: 350.5264 - val_mae: 12.6557\n",
      "Epoch 12/12\n",
      "\u001B[1m50/50\u001B[0m \u001B[32m━━━━━━━━━━━━━━━━━━━━\u001B[0m\u001B[37m\u001B[0m \u001B[1m47s\u001B[0m 932ms/step - loss: 95.4936 - mae: 6.3755 - val_loss: 355.4239 - val_mae: 12.8418\n",
      "Loss plot saved as: 2000RBGCNN3_loss_plot.jpg\n",
      "Metric plot saved as: 2000RBGCNN3_mae_plot.jpg\n"
     ]
    }
   ],
   "execution_count": 14
  },
  {
   "metadata": {},
   "cell_type": "markdown",
   "source": "## Increase the sample size to 4000",
   "id": "5da4a4c25cd5d4d5"
  },
  {
   "metadata": {
    "ExecuteTime": {
     "end_time": "2024-05-04T12:07:03.684587Z",
     "start_time": "2024-05-04T12:06:18.930158Z"
    }
   },
   "cell_type": "code",
   "source": [
    "sampled_RGB_data = RGB_data.sample(n=4000, random_state = 2001)\n",
    "y = sampled_RGB_data['Age'].values\n",
    "X = sampled_RGB_data['Image'].values\n",
    "X = np.stack(X)\n",
    "\n",
    "# Split the data into training and test sets\n",
    "X_train, X_test, y_train, y_test = train_test_split(X, y, test_size=0.2, random_state=42)"
   ],
   "id": "5fd27cd5e3c93259",
   "outputs": [],
   "execution_count": 15
  },
  {
   "metadata": {},
   "cell_type": "markdown",
   "source": "### Model 1",
   "id": "d11f120d3663b913"
  },
  {
   "metadata": {
    "ExecuteTime": {
     "end_time": "2024-05-04T12:27:19.350874Z",
     "start_time": "2024-05-04T12:08:31.189037Z"
    }
   },
   "cell_type": "code",
   "source": [
    "# Define the model\n",
    "model = tf.keras.Sequential([\n",
    "    tf.keras.Input(shape=(256, 256, 3)),  # Define the input shape her\n",
    "    tf.keras.layers.Conv2D(32, (3, 3), activation='relu', input_shape=(X_train.shape[1], X_train.shape[2], X_train.shape[3])),\n",
    "    tf.keras.layers.MaxPooling2D(pool_size=(2, 2)),\n",
    "    tf.keras.layers.Conv2D(64, (3, 3), activation='relu'),\n",
    "    tf.keras.layers.MaxPooling2D(pool_size=(2, 2)),\n",
    "    tf.keras.layers.Flatten(),\n",
    "    tf.keras.layers.Dense(128, activation='relu'),\n",
    "    tf.keras.layers.Dense(1, activation='linear')\n",
    "])\n",
    "\n",
    "# Compile the model\n",
    "model.compile(optimizer='adam', loss='mean_squared_error', metrics=['mae'])\n",
    "# Capture start time\n",
    "start_time = time.time()\n",
    "# fit the model\n",
    "history = model.fit(X, y, epochs=12, validation_split=0.2)\n",
    "# Capture end time and calculate duration\n",
    "end_time = time.time()\n",
    "\n",
    "modelname = \"4000RBGCNN1\"\n",
    "calculate_and_log_training_time(modelname = modelname, start_time = start_time, end_time = end_time)\n",
    "save_model_and_config_and_metrics(model = model, history = history,  modelname = modelname)"
   ],
   "id": "2c5b5e611cac474a",
   "outputs": [
    {
     "name": "stderr",
     "output_type": "stream",
     "text": [
      "c:\\users\\marij\\appdata\\local\\programs\\python\\python39\\lib\\site-packages\\keras\\src\\layers\\convolutional\\base_conv.py:99: UserWarning: Do not pass an `input_shape`/`input_dim` argument to a layer. When using Sequential models, prefer using an `Input(shape)` object as the first layer in the model instead.\n",
      "  super().__init__(\n"
     ]
    },
    {
     "name": "stdout",
     "output_type": "stream",
     "text": [
      "Epoch 1/12\n",
      "\u001B[1m100/100\u001B[0m \u001B[32m━━━━━━━━━━━━━━━━━━━━\u001B[0m\u001B[37m\u001B[0m \u001B[1m105s\u001B[0m 989ms/step - loss: 991.3536 - mae: 24.6667 - val_loss: 514.7605 - val_mae: 18.9749\n",
      "Epoch 2/12\n",
      "\u001B[1m100/100\u001B[0m \u001B[32m━━━━━━━━━━━━━━━━━━━━\u001B[0m\u001B[37m\u001B[0m \u001B[1m95s\u001B[0m 946ms/step - loss: 496.5368 - mae: 17.8858 - val_loss: 414.2482 - val_mae: 15.1277\n",
      "Epoch 3/12\n",
      "\u001B[1m100/100\u001B[0m \u001B[32m━━━━━━━━━━━━━━━━━━━━\u001B[0m\u001B[37m\u001B[0m \u001B[1m94s\u001B[0m 944ms/step - loss: 390.2432 - mae: 15.1843 - val_loss: 524.0635 - val_mae: 16.3541\n",
      "Epoch 4/12\n",
      "\u001B[1m100/100\u001B[0m \u001B[32m━━━━━━━━━━━━━━━━━━━━\u001B[0m\u001B[37m\u001B[0m \u001B[1m94s\u001B[0m 936ms/step - loss: 323.8169 - mae: 13.5245 - val_loss: 370.1380 - val_mae: 14.7197\n",
      "Epoch 5/12\n",
      "\u001B[1m100/100\u001B[0m \u001B[32m━━━━━━━━━━━━━━━━━━━━\u001B[0m\u001B[37m\u001B[0m \u001B[1m94s\u001B[0m 935ms/step - loss: 273.8566 - mae: 12.3434 - val_loss: 370.2566 - val_mae: 13.6792\n",
      "Epoch 6/12\n",
      "\u001B[1m100/100\u001B[0m \u001B[32m━━━━━━━━━━━━━━━━━━━━\u001B[0m\u001B[37m\u001B[0m \u001B[1m90s\u001B[0m 903ms/step - loss: 216.5243 - mae: 10.9488 - val_loss: 380.5861 - val_mae: 14.7274\n",
      "Epoch 7/12\n",
      "\u001B[1m100/100\u001B[0m \u001B[32m━━━━━━━━━━━━━━━━━━━━\u001B[0m\u001B[37m\u001B[0m \u001B[1m91s\u001B[0m 915ms/step - loss: 179.1146 - mae: 9.8772 - val_loss: 366.0035 - val_mae: 14.1919\n",
      "Epoch 8/12\n",
      "\u001B[1m100/100\u001B[0m \u001B[32m━━━━━━━━━━━━━━━━━━━━\u001B[0m\u001B[37m\u001B[0m \u001B[1m92s\u001B[0m 918ms/step - loss: 160.2883 - mae: 9.1705 - val_loss: 362.2559 - val_mae: 13.3815\n",
      "Epoch 9/12\n",
      "\u001B[1m100/100\u001B[0m \u001B[32m━━━━━━━━━━━━━━━━━━━━\u001B[0m\u001B[37m\u001B[0m \u001B[1m92s\u001B[0m 921ms/step - loss: 118.4401 - mae: 7.7227 - val_loss: 385.8125 - val_mae: 13.6643\n",
      "Epoch 10/12\n",
      "\u001B[1m100/100\u001B[0m \u001B[32m━━━━━━━━━━━━━━━━━━━━\u001B[0m\u001B[37m\u001B[0m \u001B[1m91s\u001B[0m 906ms/step - loss: 120.7974 - mae: 7.6154 - val_loss: 372.8758 - val_mae: 14.1199\n",
      "Epoch 11/12\n",
      "\u001B[1m100/100\u001B[0m \u001B[32m━━━━━━━━━━━━━━━━━━━━\u001B[0m\u001B[37m\u001B[0m \u001B[1m91s\u001B[0m 913ms/step - loss: 94.6888 - mae: 6.8339 - val_loss: 366.4740 - val_mae: 13.8624\n",
      "Epoch 12/12\n",
      "\u001B[1m100/100\u001B[0m \u001B[32m━━━━━━━━━━━━━━━━━━━━\u001B[0m\u001B[37m\u001B[0m \u001B[1m91s\u001B[0m 911ms/step - loss: 72.9067 - mae: 5.9460 - val_loss: 376.0123 - val_mae: 14.2072\n",
      "Loss plot saved as: 4000RBGCNN1_loss_plot.jpg\n",
      "Metric plot saved as: 4000RBGCNN1_mae_plot.jpg\n"
     ]
    }
   ],
   "execution_count": 16
  },
  {
   "metadata": {
    "ExecuteTime": {
     "end_time": "2024-05-04T12:49:05.636753Z",
     "start_time": "2024-05-04T12:30:05.002054Z"
    }
   },
   "cell_type": "code",
   "source": [
    "# Define the model\n",
    "model = tf.keras.Sequential([\n",
    "    tf.keras.Input(shape=(256, 256, 3)),  # Define the input shape her\n",
    "    tf.keras.layers.Conv2D(32, (3, 3), activation='relu', input_shape=(X_train.shape[1], X_train.shape[2], X_train.shape[3])),\n",
    "    tf.keras.layers.MaxPooling2D(pool_size=(2, 2)),\n",
    "    tf.keras.layers.Conv2D(64, (3, 3), activation='relu'),\n",
    "    tf.keras.layers.MaxPooling2D(pool_size=(2, 2)),\n",
    "    tf.keras.layers.Flatten(),\n",
    "    tf.keras.layers.Dense(128, activation='relu'),\n",
    "    tf.keras.layers.Dense(128, activation='relu'),\n",
    "    tf.keras.layers.Dense(1, activation='linear')\n",
    "])\n",
    "\n",
    "# Compile the model\n",
    "model.compile(optimizer='adam', loss='mean_squared_error', metrics=['mae'])\n",
    "# Capture start time\n",
    "start_time = time.time()\n",
    "# fit the model\n",
    "history = model.fit(X, y, epochs=12, validation_split=0.2)\n",
    "# Capture end time and calculate duration\n",
    "end_time = time.time()\n",
    "\n",
    "modelname = \"4000RBGCNN2\"\n",
    "calculate_and_log_training_time(modelname = modelname, start_time = start_time, end_time = end_time)\n",
    "save_model_and_config_and_metrics(model = model, history = history,  modelname = modelname)"
   ],
   "id": "e7a08cce664dcdaf",
   "outputs": [
    {
     "name": "stderr",
     "output_type": "stream",
     "text": [
      "c:\\users\\marij\\appdata\\local\\programs\\python\\python39\\lib\\site-packages\\keras\\src\\layers\\convolutional\\base_conv.py:99: UserWarning: Do not pass an `input_shape`/`input_dim` argument to a layer. When using Sequential models, prefer using an `Input(shape)` object as the first layer in the model instead.\n",
      "  super().__init__(\n"
     ]
    },
    {
     "name": "stdout",
     "output_type": "stream",
     "text": [
      "Epoch 1/12\n",
      "\u001B[1m100/100\u001B[0m \u001B[32m━━━━━━━━━━━━━━━━━━━━\u001B[0m\u001B[37m\u001B[0m \u001B[1m100s\u001B[0m 977ms/step - loss: 732.6415 - mae: 21.8682 - val_loss: 527.8630 - val_mae: 17.8196\n",
      "Epoch 2/12\n",
      "\u001B[1m100/100\u001B[0m \u001B[32m━━━━━━━━━━━━━━━━━━━━\u001B[0m\u001B[37m\u001B[0m \u001B[1m94s\u001B[0m 936ms/step - loss: 459.4997 - mae: 16.5905 - val_loss: 403.9205 - val_mae: 15.5603\n",
      "Epoch 3/12\n",
      "\u001B[1m100/100\u001B[0m \u001B[32m━━━━━━━━━━━━━━━━━━━━\u001B[0m\u001B[37m\u001B[0m \u001B[1m94s\u001B[0m 936ms/step - loss: 359.0526 - mae: 14.3414 - val_loss: 397.2345 - val_mae: 14.2997\n",
      "Epoch 4/12\n",
      "\u001B[1m100/100\u001B[0m \u001B[32m━━━━━━━━━━━━━━━━━━━━\u001B[0m\u001B[37m\u001B[0m \u001B[1m95s\u001B[0m 950ms/step - loss: 290.7215 - mae: 12.6314 - val_loss: 359.8949 - val_mae: 14.0218\n",
      "Epoch 5/12\n",
      "\u001B[1m100/100\u001B[0m \u001B[32m━━━━━━━━━━━━━━━━━━━━\u001B[0m\u001B[37m\u001B[0m \u001B[1m93s\u001B[0m 929ms/step - loss: 247.8128 - mae: 11.4180 - val_loss: 348.6389 - val_mae: 13.9131\n",
      "Epoch 6/12\n",
      "\u001B[1m100/100\u001B[0m \u001B[32m━━━━━━━━━━━━━━━━━━━━\u001B[0m\u001B[37m\u001B[0m \u001B[1m93s\u001B[0m 926ms/step - loss: 218.7290 - mae: 10.8563 - val_loss: 349.0015 - val_mae: 12.8452\n",
      "Epoch 7/12\n",
      "\u001B[1m100/100\u001B[0m \u001B[32m━━━━━━━━━━━━━━━━━━━━\u001B[0m\u001B[37m\u001B[0m \u001B[1m93s\u001B[0m 934ms/step - loss: 174.4243 - mae: 9.5561 - val_loss: 332.2126 - val_mae: 13.4407\n",
      "Epoch 8/12\n",
      "\u001B[1m100/100\u001B[0m \u001B[32m━━━━━━━━━━━━━━━━━━━━\u001B[0m\u001B[37m\u001B[0m \u001B[1m93s\u001B[0m 931ms/step - loss: 140.1494 - mae: 8.4458 - val_loss: 382.3600 - val_mae: 12.7835\n",
      "Epoch 9/12\n",
      "\u001B[1m100/100\u001B[0m \u001B[32m━━━━━━━━━━━━━━━━━━━━\u001B[0m\u001B[37m\u001B[0m \u001B[1m94s\u001B[0m 945ms/step - loss: 112.0496 - mae: 7.2675 - val_loss: 326.5143 - val_mae: 12.2296\n",
      "Epoch 10/12\n",
      "\u001B[1m100/100\u001B[0m \u001B[32m━━━━━━━━━━━━━━━━━━━━\u001B[0m\u001B[37m\u001B[0m \u001B[1m93s\u001B[0m 934ms/step - loss: 94.9079 - mae: 6.5700 - val_loss: 338.3951 - val_mae: 12.9226\n",
      "Epoch 11/12\n",
      "\u001B[1m100/100\u001B[0m \u001B[32m━━━━━━━━━━━━━━━━━━━━\u001B[0m\u001B[37m\u001B[0m \u001B[1m94s\u001B[0m 944ms/step - loss: 77.3836 - mae: 5.9820 - val_loss: 361.3038 - val_mae: 12.6875\n",
      "Epoch 12/12\n",
      "\u001B[1m100/100\u001B[0m \u001B[32m━━━━━━━━━━━━━━━━━━━━\u001B[0m\u001B[37m\u001B[0m \u001B[1m94s\u001B[0m 943ms/step - loss: 61.9080 - mae: 5.2785 - val_loss: 335.9767 - val_mae: 12.7024\n",
      "Loss plot saved as: 4000RBGCNN2_loss_plot.jpg\n",
      "Metric plot saved as: 4000RBGCNN2_mae_plot.jpg\n"
     ]
    }
   ],
   "execution_count": 17
  },
  {
   "metadata": {},
   "cell_type": "markdown",
   "source": "## Model 3",
   "id": "4d1149bb6c56f509"
  },
  {
   "metadata": {
    "ExecuteTime": {
     "end_time": "2024-05-04T14:07:13.829833Z",
     "start_time": "2024-05-04T13:43:29.649612Z"
    }
   },
   "cell_type": "code",
   "source": [
    "# Define the model\n",
    "model = tf.keras.Sequential([\n",
    "    tf.keras.Input(shape=(256, 256, 3)),  # Define the input shape her\n",
    "    tf.keras.layers.Conv2D(32, (3, 3), activation='relu', input_shape=(X_train.shape[1], X_train.shape[2], X_train.shape[3])),\n",
    "    tf.keras.layers.MaxPooling2D(pool_size=(2, 2)),\n",
    "    tf.keras.layers.Conv2D(64, (3, 3), activation='relu'),\n",
    "    tf.keras.layers.MaxPooling2D(pool_size=(2, 2)),\n",
    "    tf.keras.layers.Flatten(),\n",
    "    tf.keras.layers.Dense(128, activation='relu'),\n",
    "    tf.keras.layers.Dense(128, activation='relu'),\n",
    "    tf.keras.layers.Dense(128, activation='relu'),\n",
    "    tf.keras.layers.Dense(1, activation='linear')\n",
    "])\n",
    "\n",
    "# Compile the model\n",
    "model.compile(optimizer='adam', loss='mean_squared_error', metrics=['mae'])\n",
    "# Capture start time\n",
    "start_time = time.time()\n",
    "# fit the model\n",
    "history = model.fit(X, y, epochs=12, validation_split=0.2)\n",
    "# Capture end time and calculate duration\n",
    "end_time = time.time()\n",
    "\n",
    "modelname = \"4000RBGCNN3\"\n",
    "calculate_and_log_training_time(modelname = modelname, start_time = start_time, end_time = end_time)\n",
    "save_model_and_config_and_metrics(model = model, history = history,  modelname = modelname)"
   ],
   "id": "84ddd19e797248b9",
   "outputs": [
    {
     "name": "stderr",
     "output_type": "stream",
     "text": [
      "c:\\users\\marij\\appdata\\local\\programs\\python\\python39\\lib\\site-packages\\keras\\src\\layers\\convolutional\\base_conv.py:99: UserWarning: Do not pass an `input_shape`/`input_dim` argument to a layer. When using Sequential models, prefer using an `Input(shape)` object as the first layer in the model instead.\n",
      "  super().__init__(\n"
     ]
    },
    {
     "name": "stdout",
     "output_type": "stream",
     "text": [
      "Epoch 1/12\n",
      "\u001B[1m100/100\u001B[0m \u001B[32m━━━━━━━━━━━━━━━━━━━━\u001B[0m\u001B[37m\u001B[0m \u001B[1m106s\u001B[0m 998ms/step - loss: 766.5151 - mae: 22.2644 - val_loss: 578.5801 - val_mae: 20.5053\n",
      "Epoch 2/12\n",
      "\u001B[1m100/100\u001B[0m \u001B[32m━━━━━━━━━━━━━━━━━━━━\u001B[0m\u001B[37m\u001B[0m \u001B[1m109s\u001B[0m 1s/step - loss: 485.5310 - mae: 17.4619 - val_loss: 532.5429 - val_mae: 18.9640\n",
      "Epoch 3/12\n",
      "\u001B[1m100/100\u001B[0m \u001B[32m━━━━━━━━━━━━━━━━━━━━\u001B[0m\u001B[37m\u001B[0m \u001B[1m126s\u001B[0m 1s/step - loss: 397.8521 - mae: 15.2034 - val_loss: 398.5607 - val_mae: 13.6079\n",
      "Epoch 4/12\n",
      "\u001B[1m100/100\u001B[0m \u001B[32m━━━━━━━━━━━━━━━━━━━━\u001B[0m\u001B[37m\u001B[0m \u001B[1m128s\u001B[0m 1s/step - loss: 308.1802 - mae: 12.5628 - val_loss: 377.7584 - val_mae: 14.2541\n",
      "Epoch 5/12\n",
      "\u001B[1m100/100\u001B[0m \u001B[32m━━━━━━━━━━━━━━━━━━━━\u001B[0m\u001B[37m\u001B[0m \u001B[1m121s\u001B[0m 1s/step - loss: 233.3449 - mae: 11.2184 - val_loss: 369.1147 - val_mae: 13.0186\n",
      "Epoch 6/12\n",
      "\u001B[1m100/100\u001B[0m \u001B[32m━━━━━━━━━━━━━━━━━━━━\u001B[0m\u001B[37m\u001B[0m \u001B[1m119s\u001B[0m 1s/step - loss: 224.4783 - mae: 10.5997 - val_loss: 384.3371 - val_mae: 14.2378\n",
      "Epoch 7/12\n",
      "\u001B[1m100/100\u001B[0m \u001B[32m━━━━━━━━━━━━━━━━━━━━\u001B[0m\u001B[37m\u001B[0m \u001B[1m125s\u001B[0m 1s/step - loss: 162.5322 - mae: 9.0716 - val_loss: 343.0667 - val_mae: 12.6385\n",
      "Epoch 8/12\n",
      "\u001B[1m100/100\u001B[0m \u001B[32m━━━━━━━━━━━━━━━━━━━━\u001B[0m\u001B[37m\u001B[0m \u001B[1m122s\u001B[0m 1s/step - loss: 119.7447 - mae: 7.5574 - val_loss: 333.5570 - val_mae: 12.6378\n",
      "Epoch 9/12\n",
      "\u001B[1m100/100\u001B[0m \u001B[32m━━━━━━━━━━━━━━━━━━━━\u001B[0m\u001B[37m\u001B[0m \u001B[1m125s\u001B[0m 1s/step - loss: 102.6344 - mae: 6.9638 - val_loss: 346.6493 - val_mae: 12.6608\n",
      "Epoch 10/12\n",
      "\u001B[1m100/100\u001B[0m \u001B[32m━━━━━━━━━━━━━━━━━━━━\u001B[0m\u001B[37m\u001B[0m \u001B[1m123s\u001B[0m 1s/step - loss: 92.7403 - mae: 6.3530 - val_loss: 355.2458 - val_mae: 12.9670\n",
      "Epoch 11/12\n",
      "\u001B[1m100/100\u001B[0m \u001B[32m━━━━━━━━━━━━━━━━━━━━\u001B[0m\u001B[37m\u001B[0m \u001B[1m103s\u001B[0m 1s/step - loss: 72.6996 - mae: 5.6272 - val_loss: 400.1447 - val_mae: 13.1244\n",
      "Epoch 12/12\n",
      "\u001B[1m100/100\u001B[0m \u001B[32m━━━━━━━━━━━━━━━━━━━━\u001B[0m\u001B[37m\u001B[0m \u001B[1m108s\u001B[0m 1s/step - loss: 65.1478 - mae: 5.3464 - val_loss: 383.6481 - val_mae: 12.8471\n",
      "Loss plot saved as: 4000RBGCNN3_loss_plot.jpg\n",
      "Metric plot saved as: 4000RBGCNN3_mae_plot.jpg\n"
     ]
    }
   ],
   "execution_count": 18
  },
  {
   "metadata": {},
   "cell_type": "markdown",
   "source": [
    "## Increase the sample size to 8000\n",
    "Does not work on my laptop"
   ],
   "id": "ac0f9a97450abb25"
  },
  {
   "metadata": {
    "ExecuteTime": {
     "end_time": "2024-05-06T17:10:04.500480Z",
     "start_time": "2024-05-06T17:08:10.423172Z"
    }
   },
   "cell_type": "code",
   "source": [
    "sampled_RGB_data = RGB_data.sample(n=8000, random_state = 2001)\n",
    "y = sampled_RGB_data['Age'].values\n",
    "X = sampled_RGB_data['Image'].values\n",
    "X = np.stack(X)\n",
    "\n",
    "# Split the data into training and test sets\n",
    "X_train, X_test, y_train, y_test = train_test_split(X, y, test_size=0.2, random_state=42)"
   ],
   "id": "a58b0853f15b0f19",
   "outputs": [],
   "execution_count": 5
  },
  {
   "metadata": {},
   "cell_type": "markdown",
   "source": "## Model 1",
   "id": "5415776a3e9fe5f6"
  },
  {
   "metadata": {
    "ExecuteTime": {
     "end_time": "2024-05-06T17:53:26.577298Z",
     "start_time": "2024-05-06T17:10:04.540481Z"
    }
   },
   "cell_type": "code",
   "source": [
    "# Define the model\n",
    "model = tf.keras.Sequential([\n",
    "    tf.keras.Input(shape=(256, 256, 3)),  # Define the input shape her\n",
    "    tf.keras.layers.Conv2D(32, (3, 3), activation='relu', input_shape=(X_train.shape[1], X_train.shape[2], X_train.shape[3])),\n",
    "    tf.keras.layers.MaxPooling2D(pool_size=(2, 2)),\n",
    "    tf.keras.layers.Conv2D(64, (3, 3), activation='relu'),\n",
    "    tf.keras.layers.MaxPooling2D(pool_size=(2, 2)),\n",
    "    tf.keras.layers.Flatten(),\n",
    "    tf.keras.layers.Dense(128, activation='relu'),\n",
    "    tf.keras.layers.Dense(1, activation='linear')\n",
    "])\n",
    "\n",
    "# Compile the model\n",
    "model.compile(optimizer='adam', loss='mean_squared_error', metrics=['mae'])\n",
    "# Capture start time\n",
    "start_time = time.time()\n",
    "# fit the model\n",
    "history = model.fit(X, y, epochs=12, validation_split=0.2)\n",
    "# Capture end time and calculate duration\n",
    "end_time = time.time()\n",
    "calculate_and_log_training_time(modelname = \"8000RBGCNN1\", start_time = start_time, end_time = end_time)\n",
    "save_model_and_config_and_metrics(model = model, history = history,  modelname = \"8000RBGCNN1\")"
   ],
   "id": "4563dfa30c913319",
   "outputs": [
    {
     "name": "stderr",
     "output_type": "stream",
     "text": [
      "c:\\users\\marij\\appdata\\local\\programs\\python\\python39\\lib\\site-packages\\keras\\src\\layers\\convolutional\\base_conv.py:99: UserWarning: Do not pass an `input_shape`/`input_dim` argument to a layer. When using Sequential models, prefer using an `Input(shape)` object as the first layer in the model instead.\n",
      "  super().__init__(\n"
     ]
    },
    {
     "name": "stdout",
     "output_type": "stream",
     "text": [
      "Epoch 1/12\n",
      "\u001B[1m200/200\u001B[0m \u001B[32m━━━━━━━━━━━━━━━━━━━━\u001B[0m\u001B[37m\u001B[0m \u001B[1m280s\u001B[0m 1s/step - loss: 764.2905 - mae: 22.0852 - val_loss: 529.3718 - val_mae: 17.1311\n",
      "Epoch 2/12\n",
      "\u001B[1m200/200\u001B[0m \u001B[32m━━━━━━━━━━━━━━━━━━━━\u001B[0m\u001B[37m\u001B[0m \u001B[1m197s\u001B[0m 987ms/step - loss: 411.7383 - mae: 15.5960 - val_loss: 415.7279 - val_mae: 14.8350\n",
      "Epoch 3/12\n",
      "\u001B[1m200/200\u001B[0m \u001B[32m━━━━━━━━━━━━━━━━━━━━\u001B[0m\u001B[37m\u001B[0m \u001B[1m194s\u001B[0m 968ms/step - loss: 318.2961 - mae: 13.1688 - val_loss: 364.0879 - val_mae: 14.4489\n",
      "Epoch 4/12\n",
      "\u001B[1m200/200\u001B[0m \u001B[32m━━━━━━━━━━━━━━━━━━━━\u001B[0m\u001B[37m\u001B[0m \u001B[1m192s\u001B[0m 961ms/step - loss: 276.7233 - mae: 12.3170 - val_loss: 354.0480 - val_mae: 14.2732\n",
      "Epoch 5/12\n",
      "\u001B[1m200/200\u001B[0m \u001B[32m━━━━━━━━━━━━━━━━━━━━\u001B[0m\u001B[37m\u001B[0m \u001B[1m194s\u001B[0m 972ms/step - loss: 223.0099 - mae: 11.0991 - val_loss: 342.6869 - val_mae: 14.0939\n",
      "Epoch 6/12\n",
      "\u001B[1m200/200\u001B[0m \u001B[32m━━━━━━━━━━━━━━━━━━━━\u001B[0m\u001B[37m\u001B[0m \u001B[1m191s\u001B[0m 956ms/step - loss: 201.6536 - mae: 10.3482 - val_loss: 321.1465 - val_mae: 12.5509\n",
      "Epoch 7/12\n",
      "\u001B[1m200/200\u001B[0m \u001B[32m━━━━━━━━━━━━━━━━━━━━\u001B[0m\u001B[37m\u001B[0m \u001B[1m191s\u001B[0m 955ms/step - loss: 158.5811 - mae: 9.1159 - val_loss: 314.3019 - val_mae: 12.7770\n",
      "Epoch 8/12\n",
      "\u001B[1m200/200\u001B[0m \u001B[32m━━━━━━━━━━━━━━━━━━━━\u001B[0m\u001B[37m\u001B[0m \u001B[1m191s\u001B[0m 956ms/step - loss: 129.8958 - mae: 8.1590 - val_loss: 324.1300 - val_mae: 12.5486\n",
      "Epoch 9/12\n",
      "\u001B[1m200/200\u001B[0m \u001B[32m━━━━━━━━━━━━━━━━━━━━\u001B[0m\u001B[37m\u001B[0m \u001B[1m193s\u001B[0m 966ms/step - loss: 119.5737 - mae: 7.6845 - val_loss: 316.3188 - val_mae: 12.5934\n",
      "Epoch 10/12\n",
      "\u001B[1m200/200\u001B[0m \u001B[32m━━━━━━━━━━━━━━━━━━━━\u001B[0m\u001B[37m\u001B[0m \u001B[1m191s\u001B[0m 956ms/step - loss: 101.7361 - mae: 7.0093 - val_loss: 311.7871 - val_mae: 12.4342\n",
      "Epoch 11/12\n",
      "\u001B[1m200/200\u001B[0m \u001B[32m━━━━━━━━━━━━━━━━━━━━\u001B[0m\u001B[37m\u001B[0m \u001B[1m192s\u001B[0m 960ms/step - loss: 90.5317 - mae: 6.5477 - val_loss: 315.0430 - val_mae: 12.3855\n",
      "Epoch 12/12\n",
      "\u001B[1m200/200\u001B[0m \u001B[32m━━━━━━━━━━━━━━━━━━━━\u001B[0m\u001B[37m\u001B[0m \u001B[1m191s\u001B[0m 956ms/step - loss: 78.6474 - mae: 6.0089 - val_loss: 314.5080 - val_mae: 12.1878\n",
      "Loss plot saved as: 8000RBGCNN1\\8000RBGCNN1_loss_plot.jpg\n",
      "Metric plot saved as: 8000RBGCNN1\\8000RBGCNN1_mae_plot.jpg\n"
     ]
    }
   ],
   "execution_count": 6
  },
  {
   "metadata": {},
   "cell_type": "markdown",
   "source": "## 8k data",
   "id": "335f6d26063fcd71"
  },
  {
   "metadata": {
    "ExecuteTime": {
     "end_time": "2024-05-06T18:50:51.802255Z",
     "start_time": "2024-05-06T18:03:50.121514Z"
    }
   },
   "cell_type": "code",
   "source": [
    "# Define the model\n",
    "model = tf.keras.Sequential([\n",
    "    tf.keras.Input(shape=(256, 256, 3)),  # Define the input shape her\n",
    "    tf.keras.layers.Conv2D(32, (3, 3), activation='relu', input_shape=(X_train.shape[1], X_train.shape[2], X_train.shape[3])),\n",
    "    tf.keras.layers.MaxPooling2D(pool_size=(2, 2)),\n",
    "    tf.keras.layers.Conv2D(64, (3, 3), activation='relu'),\n",
    "    tf.keras.layers.MaxPooling2D(pool_size=(2, 2)),\n",
    "    tf.keras.layers.Conv2D(64, (3, 3), activation='relu'),\n",
    "    tf.keras.layers.MaxPooling2D(pool_size=(2, 2)),\n",
    "    tf.keras.layers.Flatten(),\n",
    "    tf.keras.layers.Dense(512, activation='relu'),\n",
    "    tf.keras.layers.Dropout(0.5),  # Dropout before the final Dense layer\n",
    "    tf.keras.layers.Dense(1, activation='linear')\n",
    "])\n",
    "\n",
    "# Compile the model\n",
    "model.compile(optimizer='adam', loss='mean_squared_error', metrics=['mae'])\n",
    "# Capture start time\n",
    "start_time = time.time()\n",
    "# fit the model\n",
    "history = model.fit(X, y, epochs=12, validation_split=0.2)\n",
    "# Capture end time and calculate duration\n",
    "end_time = time.time()\n",
    "modelname =\"8000RBGCNN3conv\"\n",
    "calculate_and_log_training_time(modelname = modelname, start_time = start_time, end_time = end_time)\n",
    "save_model_and_config_and_metrics(model = model, history = history,  modelname = modelname)"
   ],
   "id": "9d7c0c7f1ebd00b5",
   "outputs": [
    {
     "name": "stderr",
     "output_type": "stream",
     "text": [
      "c:\\users\\marij\\appdata\\local\\programs\\python\\python39\\lib\\site-packages\\keras\\src\\layers\\convolutional\\base_conv.py:99: UserWarning: Do not pass an `input_shape`/`input_dim` argument to a layer. When using Sequential models, prefer using an `Input(shape)` object as the first layer in the model instead.\n",
      "  super().__init__(\n"
     ]
    },
    {
     "name": "stdout",
     "output_type": "stream",
     "text": [
      "Epoch 1/12\n",
      "\u001B[1m200/200\u001B[0m \u001B[32m━━━━━━━━━━━━━━━━━━━━\u001B[0m\u001B[37m\u001B[0m \u001B[1m255s\u001B[0m 1s/step - loss: 779.5382 - mae: 22.2890 - val_loss: 479.2444 - val_mae: 18.4401\n",
      "Epoch 2/12\n",
      "\u001B[1m200/200\u001B[0m \u001B[32m━━━━━━━━━━━━━━━━━━━━\u001B[0m\u001B[37m\u001B[0m \u001B[1m230s\u001B[0m 1s/step - loss: 447.2285 - mae: 16.5650 - val_loss: 419.9832 - val_mae: 15.4188\n",
      "Epoch 3/12\n",
      "\u001B[1m200/200\u001B[0m \u001B[32m━━━━━━━━━━━━━━━━━━━━\u001B[0m\u001B[37m\u001B[0m \u001B[1m227s\u001B[0m 1s/step - loss: 380.5835 - mae: 14.8018 - val_loss: 377.1327 - val_mae: 15.2627\n",
      "Epoch 4/12\n",
      "\u001B[1m200/200\u001B[0m \u001B[32m━━━━━━━━━━━━━━━━━━━━\u001B[0m\u001B[37m\u001B[0m \u001B[1m226s\u001B[0m 1s/step - loss: 344.3775 - mae: 13.8417 - val_loss: 355.5616 - val_mae: 14.7070\n",
      "Epoch 5/12\n",
      "\u001B[1m200/200\u001B[0m \u001B[32m━━━━━━━━━━━━━━━━━━━━\u001B[0m\u001B[37m\u001B[0m \u001B[1m227s\u001B[0m 1s/step - loss: 303.5579 - mae: 12.9411 - val_loss: 336.9040 - val_mae: 13.0943\n",
      "Epoch 6/12\n",
      "\u001B[1m200/200\u001B[0m \u001B[32m━━━━━━━━━━━━━━━━━━━━\u001B[0m\u001B[37m\u001B[0m \u001B[1m224s\u001B[0m 1s/step - loss: 256.5226 - mae: 11.7708 - val_loss: 321.7606 - val_mae: 13.2011\n",
      "Epoch 7/12\n",
      "\u001B[1m200/200\u001B[0m \u001B[32m━━━━━━━━━━━━━━━━━━━━\u001B[0m\u001B[37m\u001B[0m \u001B[1m228s\u001B[0m 1s/step - loss: 234.1312 - mae: 11.1161 - val_loss: 302.4483 - val_mae: 12.5448\n",
      "Epoch 8/12\n",
      "\u001B[1m200/200\u001B[0m \u001B[32m━━━━━━━━━━━━━━━━━━━━\u001B[0m\u001B[37m\u001B[0m \u001B[1m228s\u001B[0m 1s/step - loss: 210.4812 - mae: 10.5425 - val_loss: 303.4664 - val_mae: 12.4905\n",
      "Epoch 9/12\n",
      "\u001B[1m200/200\u001B[0m \u001B[32m━━━━━━━━━━━━━━━━━━━━\u001B[0m\u001B[37m\u001B[0m \u001B[1m221s\u001B[0m 1s/step - loss: 185.2619 - mae: 9.9252 - val_loss: 346.0091 - val_mae: 13.3351\n",
      "Epoch 10/12\n",
      "\u001B[1m200/200\u001B[0m \u001B[32m━━━━━━━━━━━━━━━━━━━━\u001B[0m\u001B[37m\u001B[0m \u001B[1m221s\u001B[0m 1s/step - loss: 180.1995 - mae: 9.7449 - val_loss: 290.3551 - val_mae: 12.1081\n",
      "Epoch 11/12\n",
      "\u001B[1m200/200\u001B[0m \u001B[32m━━━━━━━━━━━━━━━━━━━━\u001B[0m\u001B[37m\u001B[0m \u001B[1m223s\u001B[0m 1s/step - loss: 142.4510 - mae: 8.6479 - val_loss: 305.9704 - val_mae: 12.0655\n",
      "Epoch 12/12\n",
      "\u001B[1m200/200\u001B[0m \u001B[32m━━━━━━━━━━━━━━━━━━━━\u001B[0m\u001B[37m\u001B[0m \u001B[1m224s\u001B[0m 1s/step - loss: 131.4198 - mae: 8.1201 - val_loss: 282.0238 - val_mae: 11.8089\n",
      "Loss plot saved as: 8000RBGCNN3conv\\8000RBGCNN3conv_loss_plot.jpg\n",
      "Metric plot saved as: 8000RBGCNN3conv\\8000RBGCNN3conv_mae_plot.jpg\n"
     ]
    }
   ],
   "execution_count": 7
  },
  {
   "metadata": {},
   "cell_type": "markdown",
   "source": "## All data",
   "id": "f023c539ab589e7a"
  },
  {
   "metadata": {
    "ExecuteTime": {
     "end_time": "2024-05-06T20:00:33.935612Z",
     "start_time": "2024-05-06T19:56:28.247072Z"
    }
   },
   "cell_type": "code",
   "source": [
    "sampled_RGB_data = RGB_data.sample(frac=1, random_state = 2001)\n",
    "y = sampled_RGB_data['Age'].values\n",
    "X = sampled_RGB_data['Image'].values\n",
    "X = np.stack(X)\n",
    "\n",
    "# Split the data into training and test sets\n",
    "X_train, X_test, y_train, y_test = train_test_split(X, y, test_size=0.2, random_state=42)"
   ],
   "id": "719f03a62216985f",
   "outputs": [],
   "execution_count": 4
  },
  {
   "metadata": {
    "ExecuteTime": {
     "end_time": "2024-05-06T20:58:51.949386Z",
     "start_time": "2024-05-06T20:00:34.213597Z"
    }
   },
   "cell_type": "code",
   "source": [
    "# Define the model\n",
    "model = tf.keras.Sequential([\n",
    "    tf.keras.Input(shape=(256, 256, 3)),  # Define the input shape her\n",
    "    tf.keras.layers.Conv2D(32, (3, 3), activation='relu', input_shape=(X_train.shape[1], X_train.shape[2], X_train.shape[3])),\n",
    "    tf.keras.layers.MaxPooling2D(pool_size=(2, 2)),\n",
    "    tf.keras.layers.Conv2D(64, (3, 3), activation='relu'),\n",
    "    tf.keras.layers.MaxPooling2D(pool_size=(2, 2)),\n",
    "    tf.keras.layers.Conv2D(64, (3, 3), activation='relu'),\n",
    "    tf.keras.layers.MaxPooling2D(pool_size=(2, 2)),\n",
    "    tf.keras.layers.Flatten(),\n",
    "    tf.keras.layers.Dense(512, activation='relu'),\n",
    "    tf.keras.layers.Dropout(0.5),  # Dropout before the final Dense layer\n",
    "    tf.keras.layers.Dense(1, activation='linear')\n",
    "])\n",
    "\n",
    "# Compile the model\n",
    "model.compile(optimizer='adam', loss='mean_squared_error', metrics=['mae'])\n",
    "# Capture start time\n",
    "start_time = time.time()\n",
    "# fit the model\n",
    "history = model.fit(X, y, epochs=12, validation_split=0.2)\n",
    "# Capture end time and calculate duration\n",
    "end_time = time.time()\n",
    "modelname =\"AllRBGCNN3conv\"\n",
    "calculate_and_log_training_time(modelname = modelname, start_time = start_time, end_time = end_time)\n",
    "save_model_and_config_and_metrics(model = model, history = history,  modelname = modelname)"
   ],
   "id": "f30e3e54c1291beb",
   "outputs": [
    {
     "name": "stderr",
     "output_type": "stream",
     "text": [
      "c:\\users\\marij\\appdata\\local\\programs\\python\\python39\\lib\\site-packages\\keras\\src\\layers\\convolutional\\base_conv.py:99: UserWarning: Do not pass an `input_shape`/`input_dim` argument to a layer. When using Sequential models, prefer using an `Input(shape)` object as the first layer in the model instead.\n",
      "  super().__init__(\n"
     ]
    },
    {
     "name": "stdout",
     "output_type": "stream",
     "text": [
      "Epoch 1/12\n",
      "\u001B[1m254/254\u001B[0m \u001B[32m━━━━━━━━━━━━━━━━━━━━\u001B[0m\u001B[37m\u001B[0m \u001B[1m324s\u001B[0m 1s/step - loss: 686.2958 - mae: 21.2667 - val_loss: 425.4400 - val_mae: 16.7601\n",
      "Epoch 2/12\n",
      "\u001B[1m254/254\u001B[0m \u001B[32m━━━━━━━━━━━━━━━━━━━━\u001B[0m\u001B[37m\u001B[0m \u001B[1m268s\u001B[0m 1s/step - loss: 442.5293 - mae: 16.2278 - val_loss: 401.6510 - val_mae: 14.6183\n",
      "Epoch 3/12\n",
      "\u001B[1m254/254\u001B[0m \u001B[32m━━━━━━━━━━━━━━━━━━━━\u001B[0m\u001B[37m\u001B[0m \u001B[1m264s\u001B[0m 1s/step - loss: 374.0520 - mae: 14.4670 - val_loss: 307.0386 - val_mae: 13.0285\n",
      "Epoch 4/12\n",
      "\u001B[1m254/254\u001B[0m \u001B[32m━━━━━━━━━━━━━━━━━━━━\u001B[0m\u001B[37m\u001B[0m \u001B[1m264s\u001B[0m 1s/step - loss: 297.8219 - mae: 12.9142 - val_loss: 270.5801 - val_mae: 12.3419\n",
      "Epoch 5/12\n",
      "\u001B[1m254/254\u001B[0m \u001B[32m━━━━━━━━━━━━━━━━━━━━\u001B[0m\u001B[37m\u001B[0m \u001B[1m261s\u001B[0m 1s/step - loss: 270.7987 - mae: 12.2053 - val_loss: 253.4213 - val_mae: 11.8477\n",
      "Epoch 6/12\n",
      "\u001B[1m254/254\u001B[0m \u001B[32m━━━━━━━━━━━━━━━━━━━━\u001B[0m\u001B[37m\u001B[0m \u001B[1m261s\u001B[0m 1s/step - loss: 247.0923 - mae: 11.5699 - val_loss: 250.7293 - val_mae: 11.2257\n",
      "Epoch 7/12\n",
      "\u001B[1m254/254\u001B[0m \u001B[32m━━━━━━━━━━━━━━━━━━━━\u001B[0m\u001B[37m\u001B[0m \u001B[1m261s\u001B[0m 1s/step - loss: 200.2694 - mae: 10.2636 - val_loss: 224.3767 - val_mae: 10.8076\n",
      "Epoch 8/12\n",
      "\u001B[1m254/254\u001B[0m \u001B[32m━━━━━━━━━━━━━━━━━━━━\u001B[0m\u001B[37m\u001B[0m \u001B[1m261s\u001B[0m 1s/step - loss: 181.0277 - mae: 9.6548 - val_loss: 274.4378 - val_mae: 12.7930\n",
      "Epoch 9/12\n",
      "\u001B[1m254/254\u001B[0m \u001B[32m━━━━━━━━━━━━━━━━━━━━\u001B[0m\u001B[37m\u001B[0m \u001B[1m261s\u001B[0m 1s/step - loss: 158.5656 - mae: 9.1458 - val_loss: 239.2598 - val_mae: 11.0718\n",
      "Epoch 10/12\n",
      "\u001B[1m254/254\u001B[0m \u001B[32m━━━━━━━━━━━━━━━━━━━━\u001B[0m\u001B[37m\u001B[0m \u001B[1m263s\u001B[0m 1s/step - loss: 140.3366 - mae: 8.5455 - val_loss: 233.5579 - val_mae: 11.0931\n",
      "Epoch 11/12\n",
      "\u001B[1m254/254\u001B[0m \u001B[32m━━━━━━━━━━━━━━━━━━━━\u001B[0m\u001B[37m\u001B[0m \u001B[1m262s\u001B[0m 1s/step - loss: 127.0850 - mae: 8.0837 - val_loss: 234.4892 - val_mae: 10.8455\n",
      "Epoch 12/12\n",
      "\u001B[1m254/254\u001B[0m \u001B[32m━━━━━━━━━━━━━━━━━━━━\u001B[0m\u001B[37m\u001B[0m \u001B[1m261s\u001B[0m 1s/step - loss: 116.8242 - mae: 7.6695 - val_loss: 222.1441 - val_mae: 10.4533\n",
      "Loss plot saved as: AllRBGCNN3conv\\AllRBGCNN3conv_loss_plot.jpg\n",
      "Metric plot saved as: AllRBGCNN3conv\\AllRBGCNN3conv_mae_plot.jpg\n"
     ]
    }
   ],
   "execution_count": 5
  },
  {
   "metadata": {
    "ExecuteTime": {
     "end_time": "2024-05-06T21:56:22.004887Z",
     "start_time": "2024-05-06T20:58:51.967384Z"
    }
   },
   "cell_type": "code",
   "source": [
    "# Define the model\n",
    "model = tf.keras.Sequential([\n",
    "    tf.keras.Input(shape=(256, 256, 3)),  # Define the input shape her\n",
    "    tf.keras.layers.Conv2D(32, (3, 3), activation='relu', input_shape=(X_train.shape[1], X_train.shape[2], X_train.shape[3])),\n",
    "    tf.keras.layers.MaxPooling2D(pool_size=(2, 2)),\n",
    "    tf.keras.layers.Dropout(0.25),\n",
    "    tf.keras.layers.Conv2D(64, (3, 3), activation='relu'),\n",
    "    tf.keras.layers.MaxPooling2D(pool_size=(2, 2)),\n",
    "    tf.keras.layers.Dropout(0.25),\n",
    "    tf.keras.layers.Conv2D(64, (3, 3), activation='relu'),\n",
    "    tf.keras.layers.MaxPooling2D(pool_size=(2, 2)),\n",
    "    tf.keras.layers.Dropout(0.25),\n",
    "    tf.keras.layers.Flatten(),\n",
    "    tf.keras.layers.Dense(512, activation='relu'),\n",
    "    tf.keras.layers.Dropout(0.5),  # Dropout before the final Dense layer\n",
    "    tf.keras.layers.Dense(1, activation='linear')\n",
    "])\n",
    "\n",
    "# Compile the model\n",
    "model.compile(optimizer='adam', loss='mean_squared_error', metrics=['mae'])\n",
    "# Capture start time\n",
    "start_time = time.time()\n",
    "# fit the model\n",
    "history = model.fit(X, y, epochs=12, validation_split=0.2)\n",
    "# Capture end time and calculate duration\n",
    "end_time = time.time()\n",
    "modelname =\"AllRBGCNN3convdropout\"\n",
    "calculate_and_log_training_time(modelname = modelname, start_time = start_time, end_time = end_time)\n",
    "save_model_and_config_and_metrics(model = model, history = history,  modelname = modelname)"
   ],
   "id": "19ce29c0658c2285",
   "outputs": [
    {
     "name": "stderr",
     "output_type": "stream",
     "text": [
      "c:\\users\\marij\\appdata\\local\\programs\\python\\python39\\lib\\site-packages\\keras\\src\\layers\\convolutional\\base_conv.py:99: UserWarning: Do not pass an `input_shape`/`input_dim` argument to a layer. When using Sequential models, prefer using an `Input(shape)` object as the first layer in the model instead.\n",
      "  super().__init__(\n"
     ]
    },
    {
     "name": "stdout",
     "output_type": "stream",
     "text": [
      "Epoch 1/12\n",
      "\u001B[1m254/254\u001B[0m \u001B[32m━━━━━━━━━━━━━━━━━━━━\u001B[0m\u001B[37m\u001B[0m \u001B[1m314s\u001B[0m 1s/step - loss: 1133.8444 - mae: 25.2229 - val_loss: 754.0065 - val_mae: 20.3223\n",
      "Epoch 2/12\n",
      "\u001B[1m254/254\u001B[0m \u001B[32m━━━━━━━━━━━━━━━━━━━━\u001B[0m\u001B[37m\u001B[0m \u001B[1m284s\u001B[0m 1s/step - loss: 570.0087 - mae: 18.9570 - val_loss: 436.9164 - val_mae: 15.4618\n",
      "Epoch 3/12\n",
      "\u001B[1m254/254\u001B[0m \u001B[32m━━━━━━━━━━━━━━━━━━━━\u001B[0m\u001B[37m\u001B[0m \u001B[1m280s\u001B[0m 1s/step - loss: 464.4116 - mae: 16.4808 - val_loss: 491.9304 - val_mae: 15.5441\n",
      "Epoch 4/12\n",
      "\u001B[1m254/254\u001B[0m \u001B[32m━━━━━━━━━━━━━━━━━━━━\u001B[0m\u001B[37m\u001B[0m \u001B[1m278s\u001B[0m 1s/step - loss: 438.3272 - mae: 15.5934 - val_loss: 487.4527 - val_mae: 16.4141\n",
      "Epoch 5/12\n",
      "\u001B[1m254/254\u001B[0m \u001B[32m━━━━━━━━━━━━━━━━━━━━\u001B[0m\u001B[37m\u001B[0m \u001B[1m280s\u001B[0m 1s/step - loss: 410.2708 - mae: 15.0539 - val_loss: 348.5626 - val_mae: 14.4723\n",
      "Epoch 6/12\n",
      "\u001B[1m254/254\u001B[0m \u001B[32m━━━━━━━━━━━━━━━━━━━━\u001B[0m\u001B[37m\u001B[0m \u001B[1m279s\u001B[0m 1s/step - loss: 382.3942 - mae: 14.4346 - val_loss: 391.4796 - val_mae: 14.0627\n",
      "Epoch 7/12\n",
      "\u001B[1m254/254\u001B[0m \u001B[32m━━━━━━━━━━━━━━━━━━━━\u001B[0m\u001B[37m\u001B[0m \u001B[1m279s\u001B[0m 1s/step - loss: 364.9372 - mae: 14.1942 - val_loss: 426.5227 - val_mae: 14.5154\n",
      "Epoch 8/12\n",
      "\u001B[1m254/254\u001B[0m \u001B[32m━━━━━━━━━━━━━━━━━━━━\u001B[0m\u001B[37m\u001B[0m \u001B[1m280s\u001B[0m 1s/step - loss: 352.7301 - mae: 13.6747 - val_loss: 373.6706 - val_mae: 13.7595\n",
      "Epoch 9/12\n",
      "\u001B[1m254/254\u001B[0m \u001B[32m━━━━━━━━━━━━━━━━━━━━\u001B[0m\u001B[37m\u001B[0m \u001B[1m281s\u001B[0m 1s/step - loss: 328.0739 - mae: 13.2618 - val_loss: 377.7129 - val_mae: 14.0632\n",
      "Epoch 10/12\n",
      "\u001B[1m254/254\u001B[0m \u001B[32m━━━━━━━━━━━━━━━━━━━━\u001B[0m\u001B[37m\u001B[0m \u001B[1m280s\u001B[0m 1s/step - loss: 306.1596 - mae: 12.8047 - val_loss: 276.2696 - val_mae: 12.3174\n",
      "Epoch 11/12\n",
      "\u001B[1m254/254\u001B[0m \u001B[32m━━━━━━━━━━━━━━━━━━━━\u001B[0m\u001B[37m\u001B[0m \u001B[1m282s\u001B[0m 1s/step - loss: 295.9050 - mae: 12.4564 - val_loss: 332.2250 - val_mae: 12.9897\n",
      "Epoch 12/12\n",
      "\u001B[1m254/254\u001B[0m \u001B[32m━━━━━━━━━━━━━━━━━━━━\u001B[0m\u001B[37m\u001B[0m \u001B[1m282s\u001B[0m 1s/step - loss: 290.3695 - mae: 12.3278 - val_loss: 334.3507 - val_mae: 12.9236\n",
      "Loss plot saved as: AllRBGCNN3convdropout\\AllRBGCNN3convdropout_loss_plot.jpg\n",
      "Metric plot saved as: AllRBGCNN3convdropout\\AllRBGCNN3convdropout_mae_plot.jpg\n"
     ]
    }
   ],
   "execution_count": 6
  },
  {
   "metadata": {
    "ExecuteTime": {
     "end_time": "2024-05-06T22:52:19.426678Z",
     "start_time": "2024-05-06T21:56:22.025533Z"
    }
   },
   "cell_type": "code",
   "source": [
    "# Define the model\n",
    "model = tf.keras.Sequential([\n",
    "    tf.keras.Input(shape=(256, 256, 3)),  # Define the input shape her\n",
    "    tf.keras.layers.Conv2D(32, (3, 3), activation='relu', input_shape=(X_train.shape[1], X_train.shape[2], X_train.shape[3]), kernel_regularizer=l2(0.001)),\n",
    "    tf.keras.layers.MaxPooling2D(pool_size=(2, 2)),\n",
    "    tf.keras.layers.Dropout(0.25),\n",
    "    tf.keras.layers.Conv2D(64, (3, 3), activation='relu', kernel_regularizer=l2(0.001)),\n",
    "    tf.keras.layers.MaxPooling2D(pool_size=(2, 2)),\n",
    "    tf.keras.layers.Dropout(0.25),\n",
    "    tf.keras.layers.Conv2D(64, (3, 3), activation='relu', kernel_regularizer=l2(0.001)),\n",
    "    tf.keras.layers.MaxPooling2D(pool_size=(2, 2)),\n",
    "    tf.keras.layers.Dropout(0.25),\n",
    "    tf.keras.layers.Flatten(),\n",
    "    tf.keras.layers.Dense(512, activation='relu'),\n",
    "    tf.keras.layers.Dropout(0.5),  # Dropout before the final Dense layer\n",
    "    tf.keras.layers.Dense(1, activation='linear')\n",
    "])\n",
    "\n",
    "# Compile the model\n",
    "model.compile(optimizer='adam', loss='mean_squared_error', metrics=['mae'])\n",
    "# Capture start time\n",
    "start_time = time.time()\n",
    "# fit the model\n",
    "history = model.fit(X, y, epochs=12, validation_split=0.2)\n",
    "# Capture end time and calculate duration\n",
    "end_time = time.time()\n",
    "modelname =\"AllRBGCNN3convdropoutregu\"\n",
    "calculate_and_log_training_time(modelname = modelname, start_time = start_time, end_time = end_time)\n",
    "save_model_and_config_and_metrics(model = model, history = history,  modelname = modelname)"
   ],
   "id": "b7261b97c37e945b",
   "outputs": [
    {
     "name": "stderr",
     "output_type": "stream",
     "text": [
      "c:\\users\\marij\\appdata\\local\\programs\\python\\python39\\lib\\site-packages\\keras\\src\\layers\\convolutional\\base_conv.py:99: UserWarning: Do not pass an `input_shape`/`input_dim` argument to a layer. When using Sequential models, prefer using an `Input(shape)` object as the first layer in the model instead.\n",
      "  super().__init__(\n"
     ]
    },
    {
     "name": "stdout",
     "output_type": "stream",
     "text": [
      "Epoch 1/12\n",
      "\u001B[1m254/254\u001B[0m \u001B[32m━━━━━━━━━━━━━━━━━━━━\u001B[0m\u001B[37m\u001B[0m \u001B[1m307s\u001B[0m 1s/step - loss: 867.3765 - mae: 23.4080 - val_loss: 712.9855 - val_mae: 20.4797\n",
      "Epoch 2/12\n",
      "\u001B[1m254/254\u001B[0m \u001B[32m━━━━━━━━━━━━━━━━━━━━\u001B[0m\u001B[37m\u001B[0m \u001B[1m276s\u001B[0m 1s/step - loss: 579.1653 - mae: 19.5904 - val_loss: 448.7988 - val_mae: 16.6685\n",
      "Epoch 3/12\n",
      "\u001B[1m254/254\u001B[0m \u001B[32m━━━━━━━━━━━━━━━━━━━━\u001B[0m\u001B[37m\u001B[0m \u001B[1m273s\u001B[0m 1s/step - loss: 433.1725 - mae: 15.9078 - val_loss: 400.9231 - val_mae: 14.6244\n",
      "Epoch 4/12\n",
      "\u001B[1m254/254\u001B[0m \u001B[32m━━━━━━━━━━━━━━━━━━━━\u001B[0m\u001B[37m\u001B[0m \u001B[1m270s\u001B[0m 1s/step - loss: 404.2005 - mae: 15.1491 - val_loss: 335.0911 - val_mae: 13.8513\n",
      "Epoch 5/12\n",
      "\u001B[1m254/254\u001B[0m \u001B[32m━━━━━━━━━━━━━━━━━━━━\u001B[0m\u001B[37m\u001B[0m \u001B[1m271s\u001B[0m 1s/step - loss: 396.5592 - mae: 14.9811 - val_loss: 338.8032 - val_mae: 13.6953\n",
      "Epoch 6/12\n",
      "\u001B[1m254/254\u001B[0m \u001B[32m━━━━━━━━━━━━━━━━━━━━\u001B[0m\u001B[37m\u001B[0m \u001B[1m271s\u001B[0m 1s/step - loss: 357.0215 - mae: 14.1406 - val_loss: 371.8172 - val_mae: 14.4064\n",
      "Epoch 7/12\n",
      "\u001B[1m254/254\u001B[0m \u001B[32m━━━━━━━━━━━━━━━━━━━━\u001B[0m\u001B[37m\u001B[0m \u001B[1m272s\u001B[0m 1s/step - loss: 333.7470 - mae: 13.5610 - val_loss: 302.3413 - val_mae: 12.9565\n",
      "Epoch 8/12\n",
      "\u001B[1m254/254\u001B[0m \u001B[32m━━━━━━━━━━━━━━━━━━━━\u001B[0m\u001B[37m\u001B[0m \u001B[1m272s\u001B[0m 1s/step - loss: 317.1469 - mae: 13.0809 - val_loss: 294.1085 - val_mae: 12.1134\n",
      "Epoch 9/12\n",
      "\u001B[1m254/254\u001B[0m \u001B[32m━━━━━━━━━━━━━━━━━━━━\u001B[0m\u001B[37m\u001B[0m \u001B[1m271s\u001B[0m 1s/step - loss: 296.5474 - mae: 12.5709 - val_loss: 303.6452 - val_mae: 12.4813\n",
      "Epoch 10/12\n",
      "\u001B[1m254/254\u001B[0m \u001B[32m━━━━━━━━━━━━━━━━━━━━\u001B[0m\u001B[37m\u001B[0m \u001B[1m272s\u001B[0m 1s/step - loss: 259.0399 - mae: 11.6354 - val_loss: 324.1440 - val_mae: 13.2149\n",
      "Epoch 11/12\n",
      "\u001B[1m254/254\u001B[0m \u001B[32m━━━━━━━━━━━━━━━━━━━━\u001B[0m\u001B[37m\u001B[0m \u001B[1m272s\u001B[0m 1s/step - loss: 254.9313 - mae: 11.6233 - val_loss: 261.0327 - val_mae: 11.4640\n",
      "Epoch 12/12\n",
      "\u001B[1m254/254\u001B[0m \u001B[32m━━━━━━━━━━━━━━━━━━━━\u001B[0m\u001B[37m\u001B[0m \u001B[1m272s\u001B[0m 1s/step - loss: 229.2864 - mae: 10.8904 - val_loss: 338.8588 - val_mae: 13.0057\n",
      "Loss plot saved as: AllRBGCNN3convdropoutregu\\AllRBGCNN3convdropoutregu_loss_plot.jpg\n",
      "Metric plot saved as: AllRBGCNN3convdropoutregu\\AllRBGCNN3convdropoutregu_mae_plot.jpg\n"
     ]
    }
   ],
   "execution_count": 7
  },
  {
   "metadata": {},
   "cell_type": "markdown",
   "source": "### Doing Jochems Changes",
   "id": "5e91d818144250c4"
  },
  {
   "metadata": {
    "ExecuteTime": {
     "end_time": "2024-05-06T13:20:02.962768Z",
     "start_time": "2024-05-06T13:18:54.084206Z"
    }
   },
   "cell_type": "code",
   "source": [
    "sampled_RGB_data = RGB_data.sample(n=4000, random_state = 2001)\n",
    "y = sampled_RGB_data['Age'].values\n",
    "X = sampled_RGB_data['Image'].values\n",
    "X = np.stack(X)\n",
    "\n",
    "# Split the data into training and test sets\n",
    "X_train, X_test, y_train, y_test = train_test_split(X, y, test_size=0.2, random_state=42)"
   ],
   "id": "39bacbedbc0a0957",
   "outputs": [],
   "execution_count": 9
  },
  {
   "metadata": {
    "ExecuteTime": {
     "end_time": "2024-05-06T13:42:42.192311Z",
     "start_time": "2024-05-06T13:20:03.139041Z"
    }
   },
   "cell_type": "code",
   "source": [
    "# Define the model\n",
    "model = tf.keras.Sequential([\n",
    "    tf.keras.Input(shape=(256, 256, 3)),  # Define the input shape\n",
    "    tf.keras.layers.Conv2D(32, (3, 3), activation='relu'),\n",
    "    tf.keras.layers.MaxPooling2D(pool_size=(2, 2)),\n",
    "    tf.keras.layers.Dropout(0.25),  # Dropout layer after first MaxPooling\n",
    "    tf.keras.layers.Conv2D(64, (3, 3), activation='relu'),\n",
    "    tf.keras.layers.MaxPooling2D(pool_size=(2, 2)),\n",
    "    tf.keras.layers.Dropout(0.25),  # Dropout layer after second MaxPooling\n",
    "    tf.keras.layers.Flatten(),\n",
    "    tf.keras.layers.Dense(128, activation='relu'),\n",
    "    tf.keras.layers.Dropout(0.5),  # Dropout before the final Dense layer\n",
    "    tf.keras.layers.Dense(1, activation='linear')\n",
    "])\n",
    "\n",
    "\n",
    "# Compile the model\n",
    "model.compile(optimizer='adam', loss='mean_squared_error', metrics=['mae'])\n",
    "# Capture start time\n",
    "start_time = time.time()\n",
    "# fit the model\n",
    "history = model.fit(X, y, epochs=12, validation_split=0.2)\n",
    "# Capture end time and calculate duration\n",
    "end_time = time.time()\n",
    "\n",
    "modelname = \"4000RGBCNN_Dropout\"\n",
    "calculate_and_log_training_time(modelname = modelname, start_time = start_time, end_time = end_time)\n",
    "save_model_and_config_and_metrics(model = model, history = history,  modelname = modelname)"
   ],
   "id": "12bdc96f14a47a81",
   "outputs": [
    {
     "name": "stdout",
     "output_type": "stream",
     "text": [
      "Epoch 1/12\n",
      "\u001B[1m100/100\u001B[0m \u001B[32m━━━━━━━━━━━━━━━━━━━━\u001B[0m\u001B[37m\u001B[0m \u001B[1m149s\u001B[0m 1s/step - loss: 1566.2054 - mae: 28.7542 - val_loss: 958.1535 - val_mae: 23.2344\n",
      "Epoch 2/12\n",
      "\u001B[1m100/100\u001B[0m \u001B[32m━━━━━━━━━━━━━━━━━━━━\u001B[0m\u001B[37m\u001B[0m \u001B[1m105s\u001B[0m 1s/step - loss: 747.8436 - mae: 21.4763 - val_loss: 771.5887 - val_mae: 20.9545\n",
      "Epoch 3/12\n",
      "\u001B[1m100/100\u001B[0m \u001B[32m━━━━━━━━━━━━━━━━━━━━\u001B[0m\u001B[37m\u001B[0m \u001B[1m102s\u001B[0m 1s/step - loss: 669.0726 - mae: 19.9896 - val_loss: 842.8824 - val_mae: 21.3987\n",
      "Epoch 4/12\n",
      "\u001B[1m100/100\u001B[0m \u001B[32m━━━━━━━━━━━━━━━━━━━━\u001B[0m\u001B[37m\u001B[0m \u001B[1m100s\u001B[0m 997ms/step - loss: 681.0989 - mae: 19.8464 - val_loss: 561.8187 - val_mae: 17.2986\n",
      "Epoch 5/12\n",
      "\u001B[1m100/100\u001B[0m \u001B[32m━━━━━━━━━━━━━━━━━━━━\u001B[0m\u001B[37m\u001B[0m \u001B[1m126s\u001B[0m 1s/step - loss: 618.3287 - mae: 18.5927 - val_loss: 487.2874 - val_mae: 16.2185\n",
      "Epoch 6/12\n",
      "\u001B[1m100/100\u001B[0m \u001B[32m━━━━━━━━━━━━━━━━━━━━\u001B[0m\u001B[37m\u001B[0m \u001B[1m126s\u001B[0m 1s/step - loss: 589.4092 - mae: 17.8596 - val_loss: 664.4537 - val_mae: 18.5048\n",
      "Epoch 7/12\n",
      "\u001B[1m100/100\u001B[0m \u001B[32m━━━━━━━━━━━━━━━━━━━━\u001B[0m\u001B[37m\u001B[0m \u001B[1m122s\u001B[0m 1s/step - loss: 587.9123 - mae: 17.9476 - val_loss: 544.7915 - val_mae: 17.0641\n",
      "Epoch 8/12\n",
      "\u001B[1m100/100\u001B[0m \u001B[32m━━━━━━━━━━━━━━━━━━━━\u001B[0m\u001B[37m\u001B[0m \u001B[1m102s\u001B[0m 1s/step - loss: 568.9028 - mae: 17.5534 - val_loss: 600.6088 - val_mae: 17.3335\n",
      "Epoch 9/12\n",
      "\u001B[1m100/100\u001B[0m \u001B[32m━━━━━━━━━━━━━━━━━━━━\u001B[0m\u001B[37m\u001B[0m \u001B[1m99s\u001B[0m 989ms/step - loss: 516.8312 - mae: 16.3461 - val_loss: 445.4781 - val_mae: 15.1073\n",
      "Epoch 10/12\n",
      "\u001B[1m100/100\u001B[0m \u001B[32m━━━━━━━━━━━━━━━━━━━━\u001B[0m\u001B[37m\u001B[0m \u001B[1m98s\u001B[0m 975ms/step - loss: 493.5550 - mae: 15.9532 - val_loss: 565.1169 - val_mae: 16.9895\n",
      "Epoch 11/12\n",
      "\u001B[1m100/100\u001B[0m \u001B[32m━━━━━━━━━━━━━━━━━━━━\u001B[0m\u001B[37m\u001B[0m \u001B[1m99s\u001B[0m 986ms/step - loss: 500.7209 - mae: 16.2111 - val_loss: 459.1738 - val_mae: 15.5921\n",
      "Epoch 12/12\n",
      "\u001B[1m100/100\u001B[0m \u001B[32m━━━━━━━━━━━━━━━━━━━━\u001B[0m\u001B[37m\u001B[0m \u001B[1m98s\u001B[0m 984ms/step - loss: 520.8304 - mae: 17.0566 - val_loss: 490.2708 - val_mae: 15.4938\n",
      "Loss plot saved as: 4000RGBCNN_Dropout\\4000RGBCNN_Dropout_loss_plot.jpg\n",
      "Metric plot saved as: 4000RGBCNN_Dropout\\4000RGBCNN_Dropout_mae_plot.jpg\n"
     ]
    }
   ],
   "execution_count": 10
  },
  {
   "metadata": {
    "ExecuteTime": {
     "end_time": "2024-05-06T14:14:16.148443Z",
     "start_time": "2024-05-06T13:53:58.112409Z"
    }
   },
   "cell_type": "code",
   "source": [
    "# Define the model\n",
    "model = tf.keras.Sequential([\n",
    "    tf.keras.Input(shape=(256, 256, 3)),  # Define the input shape\n",
    "    tf.keras.layers.Conv2D(32, (3, 3), activation='relu'),\n",
    "    tf.keras.layers.MaxPooling2D(pool_size=(2, 2)),\n",
    "    tf.keras.layers.Dropout(0.25),  # Dropout layer after first MaxPooling\n",
    "    tf.keras.layers.Conv2D(64, (3, 3), activation='relu'),\n",
    "    tf.keras.layers.MaxPooling2D(pool_size=(2, 2)),\n",
    "    tf.keras.layers.Dropout(0.25),  # Dropout layer after second MaxPooling\n",
    "    tf.keras.layers.Flatten(),\n",
    "    tf.keras.layers.Dense(128, activation='relu'),\n",
    "    tf.keras.layers.Dense(128, activation='relu'),\n",
    "    tf.keras.layers.Dropout(0.5),  # Dropout before the final Dense layer\n",
    "    tf.keras.layers.Dense(1, activation='linear')\n",
    "])\n",
    "\n",
    "\n",
    "# Compile the model\n",
    "model.compile(optimizer='adam', loss='mean_squared_error', metrics=['mae'])\n",
    "# Capture start time\n",
    "start_time = time.time()\n",
    "# fit the model\n",
    "history = model.fit(X, y, epochs=12, validation_split=0.2)\n",
    "# Capture end time and calculate duration\n",
    "end_time = time.time()\n",
    "\n",
    "modelname = \"4000RGBCNN_Dropout2\"\n",
    "calculate_and_log_training_time(modelname = modelname, start_time = start_time, end_time = end_time)\n",
    "save_model_and_config_and_metrics(model = model, history = history,  modelname = modelname)"
   ],
   "id": "3f550b005525e3bf",
   "outputs": [
    {
     "name": "stdout",
     "output_type": "stream",
     "text": [
      "Epoch 1/12\n",
      "\u001B[1m100/100\u001B[0m \u001B[32m━━━━━━━━━━━━━━━━━━━━\u001B[0m\u001B[37m\u001B[0m \u001B[1m113s\u001B[0m 1s/step - loss: 925.8528 - mae: 24.1281 - val_loss: 1037.3965 - val_mae: 24.0577\n",
      "Epoch 2/12\n",
      "\u001B[1m100/100\u001B[0m \u001B[32m━━━━━━━━━━━━━━━━━━━━\u001B[0m\u001B[37m\u001B[0m \u001B[1m99s\u001B[0m 987ms/step - loss: 653.6723 - mae: 20.5402 - val_loss: 867.1504 - val_mae: 21.5709\n",
      "Epoch 3/12\n",
      "\u001B[1m100/100\u001B[0m \u001B[32m━━━━━━━━━━━━━━━━━━━━\u001B[0m\u001B[37m\u001B[0m \u001B[1m100s\u001B[0m 1s/step - loss: 559.7667 - mae: 18.4936 - val_loss: 516.5450 - val_mae: 16.1148\n",
      "Epoch 4/12\n",
      "\u001B[1m100/100\u001B[0m \u001B[32m━━━━━━━━━━━━━━━━━━━━\u001B[0m\u001B[37m\u001B[0m \u001B[1m98s\u001B[0m 982ms/step - loss: 415.5559 - mae: 15.4812 - val_loss: 640.8087 - val_mae: 17.6565\n",
      "Epoch 5/12\n",
      "\u001B[1m100/100\u001B[0m \u001B[32m━━━━━━━━━━━━━━━━━━━━\u001B[0m\u001B[37m\u001B[0m \u001B[1m101s\u001B[0m 1s/step - loss: 400.4202 - mae: 14.9525 - val_loss: 398.2826 - val_mae: 14.5847\n",
      "Epoch 6/12\n",
      "\u001B[1m100/100\u001B[0m \u001B[32m━━━━━━━━━━━━━━━━━━━━\u001B[0m\u001B[37m\u001B[0m \u001B[1m99s\u001B[0m 991ms/step - loss: 362.9031 - mae: 14.1163 - val_loss: 442.2472 - val_mae: 14.6130\n",
      "Epoch 7/12\n",
      "\u001B[1m100/100\u001B[0m \u001B[32m━━━━━━━━━━━━━━━━━━━━\u001B[0m\u001B[37m\u001B[0m \u001B[1m98s\u001B[0m 980ms/step - loss: 322.2187 - mae: 13.1402 - val_loss: 405.7367 - val_mae: 14.0378\n",
      "Epoch 8/12\n",
      "\u001B[1m100/100\u001B[0m \u001B[32m━━━━━━━━━━━━━━━━━━━━\u001B[0m\u001B[37m\u001B[0m \u001B[1m98s\u001B[0m 981ms/step - loss: 275.9272 - mae: 12.1598 - val_loss: 408.0863 - val_mae: 13.9699\n",
      "Epoch 9/12\n",
      "\u001B[1m100/100\u001B[0m \u001B[32m━━━━━━━━━━━━━━━━━━━━\u001B[0m\u001B[37m\u001B[0m \u001B[1m98s\u001B[0m 979ms/step - loss: 268.0661 - mae: 11.8678 - val_loss: 380.4289 - val_mae: 13.6977\n",
      "Epoch 10/12\n",
      "\u001B[1m100/100\u001B[0m \u001B[32m━━━━━━━━━━━━━━━━━━━━\u001B[0m\u001B[37m\u001B[0m \u001B[1m99s\u001B[0m 992ms/step - loss: 239.6728 - mae: 11.0928 - val_loss: 372.8630 - val_mae: 13.4004\n",
      "Epoch 11/12\n",
      "\u001B[1m100/100\u001B[0m \u001B[32m━━━━━━━━━━━━━━━━━━━━\u001B[0m\u001B[37m\u001B[0m \u001B[1m99s\u001B[0m 991ms/step - loss: 207.1494 - mae: 10.4158 - val_loss: 344.5802 - val_mae: 12.9876\n",
      "Epoch 12/12\n",
      "\u001B[1m100/100\u001B[0m \u001B[32m━━━━━━━━━━━━━━━━━━━━\u001B[0m\u001B[37m\u001B[0m \u001B[1m99s\u001B[0m 987ms/step - loss: 176.9962 - mae: 9.5713 - val_loss: 401.1465 - val_mae: 13.5701\n",
      "Loss plot saved as: 4000RGBCNN_Dropout2_loss_plot.jpg\n",
      "Metric plot saved as: 4000RGBCNN_Dropout2_mae_plot.jpg\n"
     ]
    }
   ],
   "execution_count": 12
  },
  {
   "metadata": {
    "ExecuteTime": {
     "end_time": "2024-05-06T14:40:27.051329Z",
     "start_time": "2024-05-06T14:19:23.801732Z"
    }
   },
   "cell_type": "code",
   "source": [
    "# Define the model\n",
    "model = tf.keras.Sequential([\n",
    "    tf.keras.Input(shape=(256, 256, 3)),  # Define the input shape\n",
    "    tf.keras.layers.Conv2D(32, (3, 3), activation='relu'),\n",
    "    tf.keras.layers.MaxPooling2D(pool_size=(2, 2)),\n",
    "    tf.keras.layers.Dropout(0.25),  # Dropout layer after first MaxPooling\n",
    "    tf.keras.layers.Conv2D(64, (3, 3), activation='relu'),\n",
    "    tf.keras.layers.MaxPooling2D(pool_size=(2, 2)),\n",
    "    tf.keras.layers.Dropout(0.25),  # Dropout layer after second MaxPooling\n",
    "    tf.keras.layers.Flatten(),\n",
    "    tf.keras.layers.Dense(128, activation='relu'),\n",
    "    tf.keras.layers.Dense(128, activation='relu'),\n",
    "    tf.keras.layers.Dense(128, activation='relu'),\n",
    "    tf.keras.layers.Dropout(0.5),  # Dropout before the final Dense layer\n",
    "    tf.keras.layers.Dense(1, activation='linear')\n",
    "])\n",
    "\n",
    "# Compile the model\n",
    "model.compile(optimizer='adam', loss='mean_squared_error', metrics=['mae'])\n",
    "# Capture start time\n",
    "start_time = time.time()\n",
    "# fit the model\n",
    "history = model.fit(X, y, epochs=12, validation_split=0.2)\n",
    "# Capture end time and calculate duration\n",
    "end_time = time.time()\n",
    "\n",
    "modelname = \"4000RGBCNN_Dropout3\"\n",
    "calculate_and_log_training_time(modelname=modelname, start_time=start_time, end_time=end_time)\n",
    "save_model_and_config_and_metrics(model=model, history=history, modelname=modelname)"
   ],
   "id": "27b8ea10f3ee89a4",
   "outputs": [
    {
     "name": "stdout",
     "output_type": "stream",
     "text": [
      "Epoch 1/12\n",
      "\u001B[1m100/100\u001B[0m \u001B[32m━━━━━━━━━━━━━━━━━━━━\u001B[0m\u001B[37m\u001B[0m \u001B[1m126s\u001B[0m 1s/step - loss: 826.0766 - mae: 22.8961 - val_loss: 861.3412 - val_mae: 22.3643\n",
      "Epoch 2/12\n",
      "\u001B[1m100/100\u001B[0m \u001B[32m━━━━━━━━━━━━━━━━━━━━\u001B[0m\u001B[37m\u001B[0m \u001B[1m102s\u001B[0m 1s/step - loss: 647.0453 - mae: 20.1425 - val_loss: 533.0469 - val_mae: 18.1662\n",
      "Epoch 3/12\n",
      "\u001B[1m100/100\u001B[0m \u001B[32m━━━━━━━━━━━━━━━━━━━━\u001B[0m\u001B[37m\u001B[0m \u001B[1m103s\u001B[0m 1s/step - loss: 559.9113 - mae: 18.5757 - val_loss: 654.5099 - val_mae: 18.5618\n",
      "Epoch 4/12\n",
      "\u001B[1m100/100\u001B[0m \u001B[32m━━━━━━━━━━━━━━━━━━━━\u001B[0m\u001B[37m\u001B[0m \u001B[1m100s\u001B[0m 1s/step - loss: 420.8380 - mae: 15.6860 - val_loss: 485.4944 - val_mae: 15.8746\n",
      "Epoch 5/12\n",
      "\u001B[1m100/100\u001B[0m \u001B[32m━━━━━━━━━━━━━━━━━━━━\u001B[0m\u001B[37m\u001B[0m \u001B[1m100s\u001B[0m 1s/step - loss: 394.5138 - mae: 14.8174 - val_loss: 438.9504 - val_mae: 14.4998\n",
      "Epoch 6/12\n",
      "\u001B[1m100/100\u001B[0m \u001B[32m━━━━━━━━━━━━━━━━━━━━\u001B[0m\u001B[37m\u001B[0m \u001B[1m100s\u001B[0m 1s/step - loss: 334.7926 - mae: 13.3191 - val_loss: 417.1630 - val_mae: 14.0741\n",
      "Epoch 7/12\n",
      "\u001B[1m100/100\u001B[0m \u001B[32m━━━━━━━━━━━━━━━━━━━━\u001B[0m\u001B[37m\u001B[0m \u001B[1m100s\u001B[0m 1s/step - loss: 304.0699 - mae: 12.5515 - val_loss: 477.6933 - val_mae: 15.2106\n",
      "Epoch 8/12\n",
      "\u001B[1m100/100\u001B[0m \u001B[32m━━━━━━━━━━━━━━━━━━━━\u001B[0m\u001B[37m\u001B[0m \u001B[1m100s\u001B[0m 999ms/step - loss: 256.2362 - mae: 11.5377 - val_loss: 391.6770 - val_mae: 13.7678\n",
      "Epoch 9/12\n",
      "\u001B[1m100/100\u001B[0m \u001B[32m━━━━━━━━━━━━━━━━━━━━\u001B[0m\u001B[37m\u001B[0m \u001B[1m101s\u001B[0m 1s/step - loss: 240.3001 - mae: 11.1066 - val_loss: 486.4571 - val_mae: 14.9163\n",
      "Epoch 10/12\n",
      "\u001B[1m100/100\u001B[0m \u001B[32m━━━━━━━━━━━━━━━━━━━━\u001B[0m\u001B[37m\u001B[0m \u001B[1m101s\u001B[0m 1s/step - loss: 201.9436 - mae: 10.1386 - val_loss: 427.1589 - val_mae: 14.4419\n",
      "Epoch 11/12\n",
      "\u001B[1m100/100\u001B[0m \u001B[32m━━━━━━━━━━━━━━━━━━━━\u001B[0m\u001B[37m\u001B[0m \u001B[1m100s\u001B[0m 1s/step - loss: 191.6089 - mae: 9.9723 - val_loss: 480.0360 - val_mae: 15.3145\n",
      "Epoch 12/12\n",
      "\u001B[1m100/100\u001B[0m \u001B[32m━━━━━━━━━━━━━━━━━━━━\u001B[0m\u001B[37m\u001B[0m \u001B[1m102s\u001B[0m 1s/step - loss: 184.1433 - mae: 9.4094 - val_loss: 430.8518 - val_mae: 13.9905\n",
      "Loss plot saved as: 4000RGBCNN_Dropout3\\4000RGBCNN_Dropout3_loss_plot.jpg\n",
      "Metric plot saved as: 4000RGBCNN_Dropout3\\4000RGBCNN_Dropout3_mae_plot.jpg\n"
     ]
    }
   ],
   "execution_count": 16
  },
  {
   "metadata": {},
   "cell_type": "markdown",
   "source": "## Regularization",
   "id": "c4abae52787b6fb0"
  },
  {
   "metadata": {
    "ExecuteTime": {
     "end_time": "2024-05-06T15:02:48.036428Z",
     "start_time": "2024-05-06T14:43:51.643809Z"
    }
   },
   "cell_type": "code",
   "source": [
    "# Define the model\n",
    "model = tf.keras.Sequential([\n",
    "    tf.keras.Input(shape=(256, 256, 3)),  # Define the input shape\n",
    "    tf.keras.layers.Conv2D(32, (3, 3), activation='relu', kernel_regularizer=l2(0.001)),\n",
    "    tf.keras.layers.MaxPooling2D(pool_size=(2, 2)),\n",
    "    tf.keras.layers.Conv2D(64, (3, 3), activation='relu', kernel_regularizer=l2(0.001)),\n",
    "    tf.keras.layers.MaxPooling2D(pool_size=(2, 2)),\n",
    "    tf.keras.layers.Flatten(),\n",
    "    tf.keras.layers.Dense(128, activation='relu'),\n",
    "    tf.keras.layers.Dense(1, activation='linear')\n",
    "])\n",
    "\n",
    "\n",
    "# Compile the model\n",
    "model.compile(optimizer='adam', loss='mean_squared_error', metrics=['mae'])\n",
    "# Capture start time\n",
    "start_time = time.time()\n",
    "# fit the model\n",
    "history = model.fit(X, y, epochs=12, validation_split=0.2)\n",
    "# Capture end time and calculate duration\n",
    "end_time = time.time()\n",
    "\n",
    "modelname = \"4000RGBCNN_regularization1\"\n",
    "calculate_and_log_training_time(modelname = modelname, start_time = start_time, end_time = end_time)\n",
    "save_model_and_config_and_metrics(model = model, history = history,  modelname = modelname)"
   ],
   "id": "5cba30bd1eb4ab47",
   "outputs": [
    {
     "name": "stdout",
     "output_type": "stream",
     "text": [
      "Epoch 1/12\n",
      "\u001B[1m100/100\u001B[0m \u001B[32m━━━━━━━━━━━━━━━━━━━━\u001B[0m\u001B[37m\u001B[0m \u001B[1m100s\u001B[0m 969ms/step - loss: 1123.2792 - mae: 25.1514 - val_loss: 663.6447 - val_mae: 20.0410\n",
      "Epoch 2/12\n",
      "\u001B[1m100/100\u001B[0m \u001B[32m━━━━━━━━━━━━━━━━━━━━\u001B[0m\u001B[37m\u001B[0m \u001B[1m93s\u001B[0m 934ms/step - loss: 592.2706 - mae: 19.8118 - val_loss: 488.2426 - val_mae: 16.7768\n",
      "Epoch 3/12\n",
      "\u001B[1m100/100\u001B[0m \u001B[32m━━━━━━━━━━━━━━━━━━━━\u001B[0m\u001B[37m\u001B[0m \u001B[1m93s\u001B[0m 931ms/step - loss: 430.6782 - mae: 16.0433 - val_loss: 404.8182 - val_mae: 14.6943\n",
      "Epoch 4/12\n",
      "\u001B[1m100/100\u001B[0m \u001B[32m━━━━━━━━━━━━━━━━━━━━\u001B[0m\u001B[37m\u001B[0m \u001B[1m93s\u001B[0m 934ms/step - loss: 354.5331 - mae: 14.3877 - val_loss: 376.9958 - val_mae: 13.9591\n",
      "Epoch 5/12\n",
      "\u001B[1m100/100\u001B[0m \u001B[32m━━━━━━━━━━━━━━━━━━━━\u001B[0m\u001B[37m\u001B[0m \u001B[1m92s\u001B[0m 920ms/step - loss: 313.5890 - mae: 13.1811 - val_loss: 359.8776 - val_mae: 13.9859\n",
      "Epoch 6/12\n",
      "\u001B[1m100/100\u001B[0m \u001B[32m━━━━━━━━━━━━━━━━━━━━\u001B[0m\u001B[37m\u001B[0m \u001B[1m94s\u001B[0m 940ms/step - loss: 293.5052 - mae: 12.7597 - val_loss: 372.1393 - val_mae: 14.4232\n",
      "Epoch 7/12\n",
      "\u001B[1m100/100\u001B[0m \u001B[32m━━━━━━━━━━━━━━━━━━━━\u001B[0m\u001B[37m\u001B[0m \u001B[1m93s\u001B[0m 930ms/step - loss: 241.1942 - mae: 11.4976 - val_loss: 370.7491 - val_mae: 13.9887\n",
      "Epoch 8/12\n",
      "\u001B[1m100/100\u001B[0m \u001B[32m━━━━━━━━━━━━━━━━━━━━\u001B[0m\u001B[37m\u001B[0m \u001B[1m94s\u001B[0m 941ms/step - loss: 223.4769 - mae: 11.0674 - val_loss: 358.8890 - val_mae: 13.4826\n",
      "Epoch 9/12\n",
      "\u001B[1m100/100\u001B[0m \u001B[32m━━━━━━━━━━━━━━━━━━━━\u001B[0m\u001B[37m\u001B[0m \u001B[1m92s\u001B[0m 923ms/step - loss: 212.5210 - mae: 10.5720 - val_loss: 339.2096 - val_mae: 13.3100\n",
      "Epoch 10/12\n",
      "\u001B[1m100/100\u001B[0m \u001B[32m━━━━━━━━━━━━━━━━━━━━\u001B[0m\u001B[37m\u001B[0m \u001B[1m92s\u001B[0m 921ms/step - loss: 174.7002 - mae: 9.4481 - val_loss: 340.8676 - val_mae: 13.3860\n",
      "Epoch 11/12\n",
      "\u001B[1m100/100\u001B[0m \u001B[32m━━━━━━━━━━━━━━━━━━━━\u001B[0m\u001B[37m\u001B[0m \u001B[1m94s\u001B[0m 937ms/step - loss: 146.8912 - mae: 8.8447 - val_loss: 398.6485 - val_mae: 13.6890\n",
      "Epoch 12/12\n",
      "\u001B[1m100/100\u001B[0m \u001B[32m━━━━━━━━━━━━━━━━━━━━\u001B[0m\u001B[37m\u001B[0m \u001B[1m94s\u001B[0m 933ms/step - loss: 150.7750 - mae: 8.9319 - val_loss: 356.9770 - val_mae: 13.6401\n",
      "Loss plot saved as: 4000RGBCNN_regularization1\\4000RGBCNN_regularization1_loss_plot.jpg\n",
      "Metric plot saved as: 4000RGBCNN_regularization1\\4000RGBCNN_regularization1_mae_plot.jpg\n"
     ]
    }
   ],
   "execution_count": 17
  },
  {
   "metadata": {
    "ExecuteTime": {
     "end_time": "2024-05-06T15:30:18.103201Z",
     "start_time": "2024-05-06T15:09:54.404441Z"
    }
   },
   "cell_type": "code",
   "source": [
    "# Define the model\n",
    "model = tf.keras.Sequential([\n",
    "    tf.keras.Input(shape=(256, 256, 3)),  # Define the input shape\n",
    "    tf.keras.layers.Conv2D(32, (3, 3), activation='relu', kernel_regularizer=l2(0.001)),\n",
    "    tf.keras.layers.MaxPooling2D(pool_size=(2, 2)),\n",
    "    tf.keras.layers.Dropout(0.25),  # Dropout layer after first MaxPooling\n",
    "    tf.keras.layers.Conv2D(64, (3, 3), activation='relu', kernel_regularizer=l2(0.001)),\n",
    "    tf.keras.layers.MaxPooling2D(pool_size=(2, 2)),\n",
    "    tf.keras.layers.Dropout(0.25),  # Dropout layer after second MaxPooling\n",
    "    tf.keras.layers.Flatten(),\n",
    "    tf.keras.layers.Dense(128, activation='relu'),\n",
    "    tf.keras.layers.Dropout(0.5),  # Dropout before the final Dense layer\n",
    "    tf.keras.layers.Dense(1, activation='linear')\n",
    "])\n",
    "\n",
    "\n",
    "# Compile the model\n",
    "model.compile(optimizer='adam', loss='mean_squared_error', metrics=['mae'])\n",
    "# Capture start time\n",
    "start_time = time.time()\n",
    "# fit the model\n",
    "history = model.fit(X, y, epochs=12, validation_split=0.2)\n",
    "# Capture end time and calculate duration\n",
    "end_time = time.time()\n",
    "\n",
    "modelname = \"4000RGBCNN_Dropout_regularization\"\n",
    "calculate_and_log_training_time(modelname = modelname, start_time = start_time, end_time = end_time)\n",
    "save_model_and_config_and_metrics(model = model, history = history,  modelname = modelname)"
   ],
   "id": "6505e1c8dcbfc18c",
   "outputs": [
    {
     "name": "stdout",
     "output_type": "stream",
     "text": [
      "Epoch 1/12\n",
      "\u001B[1m100/100\u001B[0m \u001B[32m━━━━━━━━━━━━━━━━━━━━\u001B[0m\u001B[37m\u001B[0m \u001B[1m108s\u001B[0m 1s/step - loss: 1553.6521 - mae: 28.0830 - val_loss: 994.7827 - val_mae: 23.6406\n",
      "Epoch 2/12\n",
      "\u001B[1m100/100\u001B[0m \u001B[32m━━━━━━━━━━━━━━━━━━━━\u001B[0m\u001B[37m\u001B[0m \u001B[1m100s\u001B[0m 1s/step - loss: 724.0769 - mae: 21.4097 - val_loss: 879.2656 - val_mae: 22.1730\n",
      "Epoch 3/12\n",
      "\u001B[1m100/100\u001B[0m \u001B[32m━━━━━━━━━━━━━━━━━━━━\u001B[0m\u001B[37m\u001B[0m \u001B[1m101s\u001B[0m 1s/step - loss: 723.8923 - mae: 21.0746 - val_loss: 912.9179 - val_mae: 22.2580\n",
      "Epoch 4/12\n",
      "\u001B[1m100/100\u001B[0m \u001B[32m━━━━━━━━━━━━━━━━━━━━\u001B[0m\u001B[37m\u001B[0m \u001B[1m99s\u001B[0m 995ms/step - loss: 671.9907 - mae: 20.0092 - val_loss: 839.2090 - val_mae: 21.0645\n",
      "Epoch 5/12\n",
      "\u001B[1m100/100\u001B[0m \u001B[32m━━━━━━━━━━━━━━━━━━━━\u001B[0m\u001B[37m\u001B[0m \u001B[1m100s\u001B[0m 1s/step - loss: 614.0629 - mae: 18.5309 - val_loss: 980.4708 - val_mae: 23.0514\n",
      "Epoch 6/12\n",
      "\u001B[1m100/100\u001B[0m \u001B[32m━━━━━━━━━━━━━━━━━━━━\u001B[0m\u001B[37m\u001B[0m \u001B[1m99s\u001B[0m 992ms/step - loss: 591.3919 - mae: 18.1073 - val_loss: 664.9941 - val_mae: 18.8051\n",
      "Epoch 7/12\n",
      "\u001B[1m100/100\u001B[0m \u001B[32m━━━━━━━━━━━━━━━━━━━━\u001B[0m\u001B[37m\u001B[0m \u001B[1m100s\u001B[0m 998ms/step - loss: 569.0855 - mae: 17.6551 - val_loss: 593.6566 - val_mae: 17.4819\n",
      "Epoch 8/12\n",
      "\u001B[1m100/100\u001B[0m \u001B[32m━━━━━━━━━━━━━━━━━━━━\u001B[0m\u001B[37m\u001B[0m \u001B[1m100s\u001B[0m 998ms/step - loss: 563.6865 - mae: 17.1819 - val_loss: 751.3041 - val_mae: 19.8979\n",
      "Epoch 9/12\n",
      "\u001B[1m100/100\u001B[0m \u001B[32m━━━━━━━━━━━━━━━━━━━━\u001B[0m\u001B[37m\u001B[0m \u001B[1m101s\u001B[0m 1s/step - loss: 571.4931 - mae: 17.5327 - val_loss: 606.6511 - val_mae: 17.9273\n",
      "Epoch 10/12\n",
      "\u001B[1m100/100\u001B[0m \u001B[32m━━━━━━━━━━━━━━━━━━━━\u001B[0m\u001B[37m\u001B[0m \u001B[1m101s\u001B[0m 1s/step - loss: 524.2199 - mae: 16.9337 - val_loss: 537.1915 - val_mae: 16.2669\n",
      "Epoch 11/12\n",
      "\u001B[1m100/100\u001B[0m \u001B[32m━━━━━━━━━━━━━━━━━━━━\u001B[0m\u001B[37m\u001B[0m \u001B[1m101s\u001B[0m 1s/step - loss: 503.3313 - mae: 16.3814 - val_loss: 789.5506 - val_mae: 20.4077\n",
      "Epoch 12/12\n",
      "\u001B[1m100/100\u001B[0m \u001B[32m━━━━━━━━━━━━━━━━━━━━\u001B[0m\u001B[37m\u001B[0m \u001B[1m101s\u001B[0m 1s/step - loss: 522.4571 - mae: 16.4903 - val_loss: 493.5926 - val_mae: 15.4716\n",
      "Loss plot saved as: 4000RGBCNN_Dropout_regularization\\4000RGBCNN_Dropout_regularization_loss_plot.jpg\n",
      "Metric plot saved as: 4000RGBCNN_Dropout_regularization\\4000RGBCNN_Dropout_regularization_mae_plot.jpg\n"
     ]
    }
   ],
   "execution_count": 18
  },
  {
   "metadata": {},
   "cell_type": "markdown",
   "source": "## Kernerl size",
   "id": "e1c5b3b3919b991b"
  },
  {
   "metadata": {
    "ExecuteTime": {
     "end_time": "2024-05-06T16:09:09.282626Z",
     "start_time": "2024-05-06T15:41:17.832401Z"
    }
   },
   "cell_type": "code",
   "source": [
    "# Define the model\n",
    "model = tf.keras.Sequential([\n",
    "    tf.keras.Input(shape=(256, 256, 3)),  # Define the input shape her\n",
    "    tf.keras.layers.Conv2D(32, (5, 5), activation='relu', input_shape=(X_train.shape[1], X_train.shape[2], X_train.shape[3])),\n",
    "    tf.keras.layers.MaxPooling2D(pool_size=(2, 2)),\n",
    "    tf.keras.layers.Conv2D(64, (5, 5), activation='relu'),\n",
    "    tf.keras.layers.MaxPooling2D(pool_size=(2, 2)),\n",
    "    tf.keras.layers.Flatten(),\n",
    "    tf.keras.layers.Dense(128, activation='relu'),\n",
    "    tf.keras.layers.Dense(1, activation='linear')\n",
    "])\n",
    "\n",
    "# Compile the model\n",
    "model.compile(optimizer='adam', loss='mean_squared_error', metrics=['mae'])\n",
    "# Capture start time\n",
    "start_time = time.time()\n",
    "# fit the model\n",
    "history = model.fit(X, y, epochs=12, validation_split=0.2)\n",
    "# Capture end time and calculate duration\n",
    "end_time = time.time()\n",
    "\n",
    "modelname = \"4000RBGCNN1kernel5\"\n",
    "calculate_and_log_training_time(modelname = modelname, start_time = start_time, end_time = end_time)\n",
    "save_model_and_config_and_metrics(model = model, history = history,  modelname = modelname)"
   ],
   "id": "6dfafe6abfe4a9bd",
   "outputs": [
    {
     "name": "stderr",
     "output_type": "stream",
     "text": [
      "c:\\users\\marij\\appdata\\local\\programs\\python\\python39\\lib\\site-packages\\keras\\src\\layers\\convolutional\\base_conv.py:99: UserWarning: Do not pass an `input_shape`/`input_dim` argument to a layer. When using Sequential models, prefer using an `Input(shape)` object as the first layer in the model instead.\n",
      "  super().__init__(\n"
     ]
    },
    {
     "name": "stdout",
     "output_type": "stream",
     "text": [
      "Epoch 1/12\n",
      "\u001B[1m100/100\u001B[0m \u001B[32m━━━━━━━━━━━━━━━━━━━━\u001B[0m\u001B[37m\u001B[0m \u001B[1m146s\u001B[0m 1s/step - loss: 924.7015 - mae: 23.8938 - val_loss: 575.5372 - val_mae: 20.3970\n",
      "Epoch 2/12\n",
      "\u001B[1m100/100\u001B[0m \u001B[32m━━━━━━━━━━━━━━━━━━━━\u001B[0m\u001B[37m\u001B[0m \u001B[1m139s\u001B[0m 1s/step - loss: 544.4752 - mae: 19.1151 - val_loss: 501.5590 - val_mae: 18.6313\n",
      "Epoch 3/12\n",
      "\u001B[1m100/100\u001B[0m \u001B[32m━━━━━━━━━━━━━━━━━━━━\u001B[0m\u001B[37m\u001B[0m \u001B[1m138s\u001B[0m 1s/step - loss: 456.2678 - mae: 16.9500 - val_loss: 420.8400 - val_mae: 15.6354\n",
      "Epoch 4/12\n",
      "\u001B[1m100/100\u001B[0m \u001B[32m━━━━━━━━━━━━━━━━━━━━\u001B[0m\u001B[37m\u001B[0m \u001B[1m136s\u001B[0m 1s/step - loss: 356.2218 - mae: 14.1669 - val_loss: 382.0388 - val_mae: 14.9331\n",
      "Epoch 5/12\n",
      "\u001B[1m100/100\u001B[0m \u001B[32m━━━━━━━━━━━━━━━━━━━━\u001B[0m\u001B[37m\u001B[0m \u001B[1m137s\u001B[0m 1s/step - loss: 295.1489 - mae: 12.7171 - val_loss: 394.4460 - val_mae: 15.2045\n",
      "Epoch 6/12\n",
      "\u001B[1m100/100\u001B[0m \u001B[32m━━━━━━━━━━━━━━━━━━━━\u001B[0m\u001B[37m\u001B[0m \u001B[1m138s\u001B[0m 1s/step - loss: 268.5963 - mae: 12.2362 - val_loss: 399.5812 - val_mae: 14.1508\n",
      "Epoch 7/12\n",
      "\u001B[1m100/100\u001B[0m \u001B[32m━━━━━━━━━━━━━━━━━━━━\u001B[0m\u001B[37m\u001B[0m \u001B[1m137s\u001B[0m 1s/step - loss: 221.4708 - mae: 10.7987 - val_loss: 401.8427 - val_mae: 13.9508\n",
      "Epoch 8/12\n",
      "\u001B[1m100/100\u001B[0m \u001B[32m━━━━━━━━━━━━━━━━━━━━\u001B[0m\u001B[37m\u001B[0m \u001B[1m136s\u001B[0m 1s/step - loss: 173.6950 - mae: 9.4820 - val_loss: 396.4366 - val_mae: 13.7188\n",
      "Epoch 9/12\n",
      "\u001B[1m100/100\u001B[0m \u001B[32m━━━━━━━━━━━━━━━━━━━━\u001B[0m\u001B[37m\u001B[0m \u001B[1m138s\u001B[0m 1s/step - loss: 140.2296 - mae: 8.4563 - val_loss: 382.4555 - val_mae: 14.0212\n",
      "Epoch 10/12\n",
      "\u001B[1m100/100\u001B[0m \u001B[32m━━━━━━━━━━━━━━━━━━━━\u001B[0m\u001B[37m\u001B[0m \u001B[1m139s\u001B[0m 1s/step - loss: 128.1495 - mae: 7.9143 - val_loss: 380.9983 - val_mae: 13.3746\n",
      "Epoch 11/12\n",
      "\u001B[1m100/100\u001B[0m \u001B[32m━━━━━━━━━━━━━━━━━━━━\u001B[0m\u001B[37m\u001B[0m \u001B[1m137s\u001B[0m 1s/step - loss: 98.3231 - mae: 6.7565 - val_loss: 410.8113 - val_mae: 13.6825\n",
      "Epoch 12/12\n",
      "\u001B[1m100/100\u001B[0m \u001B[32m━━━━━━━━━━━━━━━━━━━━\u001B[0m\u001B[37m\u001B[0m \u001B[1m137s\u001B[0m 1s/step - loss: 89.3131 - mae: 6.5153 - val_loss: 376.3466 - val_mae: 13.4069\n",
      "Loss plot saved as: 4000RBGCNN1kernel5\\4000RBGCNN1kernel5_loss_plot.jpg\n",
      "Metric plot saved as: 4000RBGCNN1kernel5\\4000RBGCNN1kernel5_mae_plot.jpg\n"
     ]
    }
   ],
   "execution_count": 19
  },
  {
   "metadata": {},
   "cell_type": "markdown",
   "source": "## Increasing number of kernels",
   "id": "2fc844123b028c26"
  },
  {
   "metadata": {
    "ExecuteTime": {
     "end_time": "2024-05-06T17:02:57.459964Z",
     "start_time": "2024-05-06T16:27:54.019778Z"
    }
   },
   "cell_type": "code",
   "source": [
    "# Define the model\n",
    "model = tf.keras.Sequential([\n",
    "    tf.keras.Input(shape=(256, 256, 3)),  # Define the input shape her\n",
    "    tf.keras.layers.Conv2D(64, (3, 3), activation='relu', input_shape=(X_train.shape[1], X_train.shape[2], X_train.shape[3])),\n",
    "    tf.keras.layers.MaxPooling2D(pool_size=(2, 2)),\n",
    "    tf.keras.layers.Conv2D(64, (3, 3), activation='relu'),\n",
    "    tf.keras.layers.MaxPooling2D(pool_size=(2, 2)),\n",
    "    tf.keras.layers.Flatten(),\n",
    "    tf.keras.layers.Dense(128, activation='relu'),\n",
    "    tf.keras.layers.Dense(1, activation='linear')\n",
    "])\n",
    "\n",
    "# Compile the model\n",
    "model.compile(optimizer='adam', loss='mean_squared_error', metrics=['mae'])\n",
    "# Capture start time\n",
    "start_time = time.time()\n",
    "# fit the model\n",
    "history = model.fit(X, y, epochs=12, validation_split=0.2)\n",
    "# Capture end time and calculate duration\n",
    "end_time = time.time()\n",
    "\n",
    "modelname = \"4000RBGCNN1kernel6464\"\n",
    "calculate_and_log_training_time(modelname = modelname, start_time = start_time, end_time = end_time)\n",
    "save_model_and_config_and_metrics(model = model, history = history,  modelname = modelname)"
   ],
   "id": "7e392b919f6a2d31",
   "outputs": [
    {
     "name": "stderr",
     "output_type": "stream",
     "text": [
      "c:\\users\\marij\\appdata\\local\\programs\\python\\python39\\lib\\site-packages\\keras\\src\\layers\\convolutional\\base_conv.py:99: UserWarning: Do not pass an `input_shape`/`input_dim` argument to a layer. When using Sequential models, prefer using an `Input(shape)` object as the first layer in the model instead.\n",
      "  super().__init__(\n"
     ]
    },
    {
     "name": "stdout",
     "output_type": "stream",
     "text": [
      "Epoch 1/12\n",
      "\u001B[1m100/100\u001B[0m \u001B[32m━━━━━━━━━━━━━━━━━━━━\u001B[0m\u001B[37m\u001B[0m \u001B[1m188s\u001B[0m 2s/step - loss: 872.2657 - mae: 23.4846 - val_loss: 559.3215 - val_mae: 20.1514\n",
      "Epoch 2/12\n",
      "\u001B[1m100/100\u001B[0m \u001B[32m━━━━━━━━━━━━━━━━━━━━\u001B[0m\u001B[37m\u001B[0m \u001B[1m175s\u001B[0m 2s/step - loss: 539.5505 - mae: 18.9134 - val_loss: 416.4185 - val_mae: 15.8723\n",
      "Epoch 3/12\n",
      "\u001B[1m100/100\u001B[0m \u001B[32m━━━━━━━━━━━━━━━━━━━━\u001B[0m\u001B[37m\u001B[0m \u001B[1m171s\u001B[0m 2s/step - loss: 386.7876 - mae: 15.1373 - val_loss: 399.1657 - val_mae: 15.6251\n",
      "Epoch 4/12\n",
      "\u001B[1m100/100\u001B[0m \u001B[32m━━━━━━━━━━━━━━━━━━━━\u001B[0m\u001B[37m\u001B[0m \u001B[1m172s\u001B[0m 2s/step - loss: 364.7762 - mae: 14.6642 - val_loss: 435.8202 - val_mae: 16.3240\n",
      "Epoch 5/12\n",
      "\u001B[1m100/100\u001B[0m \u001B[32m━━━━━━━━━━━━━━━━━━━━\u001B[0m\u001B[37m\u001B[0m \u001B[1m173s\u001B[0m 2s/step - loss: 341.9856 - mae: 13.9315 - val_loss: 393.4615 - val_mae: 14.2409\n",
      "Epoch 6/12\n",
      "\u001B[1m100/100\u001B[0m \u001B[32m━━━━━━━━━━━━━━━━━━━━\u001B[0m\u001B[37m\u001B[0m \u001B[1m175s\u001B[0m 2s/step - loss: 276.3497 - mae: 12.3288 - val_loss: 357.3898 - val_mae: 13.5641\n",
      "Epoch 7/12\n",
      "\u001B[1m100/100\u001B[0m \u001B[32m━━━━━━━━━━━━━━━━━━━━\u001B[0m\u001B[37m\u001B[0m \u001B[1m172s\u001B[0m 2s/step - loss: 250.7833 - mae: 11.5258 - val_loss: 368.2415 - val_mae: 14.5153\n",
      "Epoch 8/12\n",
      "\u001B[1m100/100\u001B[0m \u001B[32m━━━━━━━━━━━━━━━━━━━━\u001B[0m\u001B[37m\u001B[0m \u001B[1m174s\u001B[0m 2s/step - loss: 203.4318 - mae: 10.4489 - val_loss: 353.4436 - val_mae: 13.6444\n",
      "Epoch 9/12\n",
      "\u001B[1m100/100\u001B[0m \u001B[32m━━━━━━━━━━━━━━━━━━━━\u001B[0m\u001B[37m\u001B[0m \u001B[1m172s\u001B[0m 2s/step - loss: 178.8376 - mae: 9.5271 - val_loss: 396.9025 - val_mae: 14.6286\n",
      "Epoch 10/12\n",
      "\u001B[1m100/100\u001B[0m \u001B[32m━━━━━━━━━━━━━━━━━━━━\u001B[0m\u001B[37m\u001B[0m \u001B[1m173s\u001B[0m 2s/step - loss: 166.1834 - mae: 9.0350 - val_loss: 378.4232 - val_mae: 13.9531\n",
      "Epoch 11/12\n",
      "\u001B[1m100/100\u001B[0m \u001B[32m━━━━━━━━━━━━━━━━━━━━\u001B[0m\u001B[37m\u001B[0m \u001B[1m171s\u001B[0m 2s/step - loss: 126.4550 - mae: 7.7327 - val_loss: 363.6864 - val_mae: 14.0133\n",
      "Epoch 12/12\n",
      "\u001B[1m100/100\u001B[0m \u001B[32m━━━━━━━━━━━━━━━━━━━━\u001B[0m\u001B[37m\u001B[0m \u001B[1m173s\u001B[0m 2s/step - loss: 102.0035 - mae: 6.9339 - val_loss: 376.1065 - val_mae: 14.1986\n",
      "Loss plot saved as: 4000RBGCNN1kernel6464\\4000RBGCNN1kernel6464_loss_plot.jpg\n",
      "Metric plot saved as: 4000RBGCNN1kernel6464\\4000RBGCNN1kernel6464_mae_plot.jpg\n"
     ]
    }
   ],
   "execution_count": 20
  },
  {
   "metadata": {},
   "cell_type": "markdown",
   "source": "## Checking Bias",
   "id": "7f8db7bff2834364"
  },
  {
   "metadata": {
    "ExecuteTime": {
     "end_time": "2024-05-07T07:49:08.456214Z",
     "start_time": "2024-05-07T07:49:03.177922Z"
    }
   },
   "cell_type": "code",
   "source": [
    "# Load your model\n",
    "model = tf.keras.models.load_model('AllRBGCNN3convdropoutregu/AllRBGCNN3convdropoutregu.keras')"
   ],
   "id": "3c41183911fb2a4f",
   "outputs": [],
   "execution_count": 8
  },
  {
   "metadata": {
    "ExecuteTime": {
     "end_time": "2024-05-07T07:49:43.190870Z",
     "start_time": "2024-05-07T07:49:29.176950Z"
    }
   },
   "cell_type": "code",
   "source": [
    "sampled_RGB_data = RGB_data.sample(n=4000, random_state = 2009)\n",
    "y = sampled_RGB_data['Age'].values\n",
    "X = sampled_RGB_data['Image'].values\n",
    "X = np.stack(X)"
   ],
   "id": "f89ad2ebceace418",
   "outputs": [],
   "execution_count": 9
  },
  {
   "metadata": {
    "ExecuteTime": {
     "end_time": "2024-05-07T07:51:50.039213Z",
     "start_time": "2024-05-07T07:51:07.881854Z"
    }
   },
   "cell_type": "code",
   "source": [
    "# Generate predictions\n",
    "predicted_ages = model.predict(X)\n",
    "# Add predictions back to DataFrame\n",
    "sampled_RGB_data['predicted_age'] = predicted_ages"
   ],
   "id": "768a365a519ff72d",
   "outputs": [
    {
     "name": "stdout",
     "output_type": "stream",
     "text": [
      "\u001B[1m125/125\u001B[0m \u001B[32m━━━━━━━━━━━━━━━━━━━━\u001B[0m\u001B[37m\u001B[0m \u001B[1m34s\u001B[0m 247ms/step\n"
     ]
    },
    {
     "data": {
      "text/plain": [
       "array([[21.743998],\n",
       "       [12.039314],\n",
       "       [42.593655],\n",
       "       ...,\n",
       "       [39.32498 ],\n",
       "       [ 2.322496],\n",
       "       [52.05505 ]], dtype=float32)"
      ]
     },
     "execution_count": 10,
     "metadata": {},
     "output_type": "execute_result"
    }
   ],
   "execution_count": 10
  },
  {
   "metadata": {
    "ExecuteTime": {
     "end_time": "2024-05-07T08:05:09.378360Z",
     "start_time": "2024-05-07T08:05:09.334963Z"
    }
   },
   "cell_type": "code",
   "source": [
    "# Calculate error metrics by Gender\n",
    "grouped_gender = sampled_RGB_data.groupby('Gender')[['Age', 'predicted_age']].apply(\n",
    "    lambda x: pd.Series({\n",
    "        'MAE': mean_absolute_error(x['Age'], x['predicted_age']),\n",
    "        'MSE': mean_squared_error(x['Age'], x['predicted_age'])\n",
    "    })\n",
    ")\n",
    "\n",
    "# Calculate error metrics by Race\n",
    "grouped_race = sampled_RGB_data.groupby('Race')[['Age', 'predicted_age']].apply(\n",
    "    lambda x: pd.Series({\n",
    "        'MAE': mean_absolute_error(x['Age'], x['predicted_age']),\n",
    "        'MSE': mean_squared_error(x['Age'], x['predicted_age'])\n",
    "    })\n",
    ")\n",
    "\n",
    "\n",
    "print(\"Performance by Gender:\\n\", grouped_gender)\n",
    "print(\"Performance by Race:\\n\", grouped_race)"
   ],
   "id": "e06238b8f108170b",
   "outputs": [
    {
     "name": "stdout",
     "output_type": "stream",
     "text": [
      "Performance by Gender:\n",
      "               MAE         MSE\n",
      "Gender                       \n",
      "0       11.311988  243.770631\n",
      "1       11.927198  293.542374\n",
      "Performance by Race:\n",
      "             MAE         MSE\n",
      "Race                       \n",
      "0     14.092417  358.278902\n",
      "1     12.690493  286.694828\n",
      "2      8.440831  171.770799\n",
      "3      9.529335  196.187318\n",
      "4      7.172939   95.305496\n"
     ]
    }
   ],
   "execution_count": 16
  },
  {
   "metadata": {
    "ExecuteTime": {
     "end_time": "2024-05-07T08:11:04.876444Z",
     "start_time": "2024-05-07T08:11:04.831083Z"
    }
   },
   "cell_type": "code",
   "source": [
    "# Define age bins and labels\n",
    "bins = list(range(0, 110 + 10, 11))  # This goes from 0 to 100, changing this range as needed.\n",
    "labels = [f'{i}-{i+9}' for i in range(0, 100, 10)]\n",
    "\n",
    "# Create a new column for age categories\n",
    "sampled_RGB_data['Age_Category'] = pd.cut(sampled_RGB_data['Age'], bins=bins, labels=labels, right=False)\n",
    "\n",
    "# Display the new DataFrame to verify the categories\n",
    "print(sampled_RGB_data[['Age', 'Age_Category']].head())\n"
   ],
   "id": "c5ef3503a1598bea",
   "outputs": [
    {
     "name": "stdout",
     "output_type": "stream",
     "text": [
      "      Age Age_Category\n",
      "900    29        20-29\n",
      "4606    1          0-9\n",
      "6880   65        50-59\n",
      "9897    3          0-9\n",
      "1784   21        10-19\n"
     ]
    }
   ],
   "execution_count": 17
  },
  {
   "metadata": {
    "ExecuteTime": {
     "end_time": "2024-05-07T08:11:27.661849Z",
     "start_time": "2024-05-07T08:11:27.618063Z"
    }
   },
   "cell_type": "code",
   "source": [
    "# Group by Age Category and calculate error metrics\n",
    "grouped_age_category = sampled_RGB_data.groupby('Age_Category')[['Age', 'predicted_age']].apply(\n",
    "    lambda x: pd.Series({\n",
    "        'MAE': mean_absolute_error(x['Age'], x['predicted_age']),\n",
    "        'MSE': mean_squared_error(x['Age'], x['predicted_age'])\n",
    "    })\n",
    ")\n",
    "\n",
    "print(\"Performance by Age Category:\\n\", grouped_age_category)\n"
   ],
   "id": "5fef5c48f54dc179",
   "outputs": [
    {
     "name": "stdout",
     "output_type": "stream",
     "text": [
      "Performance by Age Category:\n",
      "                     MAE          MSE\n",
      "Age_Category                        \n",
      "0-9            5.706925    76.717374\n",
      "10-19          5.703229    54.445907\n",
      "20-29          7.194259    74.975486\n",
      "30-39         10.842899   153.524315\n",
      "40-49         18.304549   399.859823\n",
      "50-59         21.415265   566.860618\n",
      "60-69         28.168439   926.674073\n",
      "70-79         33.183227  1330.806386\n",
      "80-89         38.618416  1852.089374\n",
      "90-99         64.691645  4342.002576\n"
     ]
    },
    {
     "name": "stderr",
     "output_type": "stream",
     "text": [
      "<ipython-input-18-dcadfb82f344>:2: FutureWarning: The default of observed=False is deprecated and will be changed to True in a future version of pandas. Pass observed=False to retain current behavior or observed=True to adopt the future default and silence this warning.\n",
      "  grouped_age_category = sampled_RGB_data.groupby('Age_Category')[['Age', 'predicted_age']].apply(\n"
     ]
    }
   ],
   "execution_count": 18
  },
  {
   "metadata": {
    "ExecuteTime": {
     "end_time": "2024-05-07T08:14:23.624510Z",
     "start_time": "2024-05-07T08:14:21.630648Z"
    }
   },
   "cell_type": "code",
   "source": [
    "age_category_counts = sampled_RGB_data['Age_Category'].value_counts().sort_index()\n",
    "# Plotting\n",
    "plt.figure(figsize=(10, 6))  # Set the figure size for better readability\n",
    "age_category_counts.plot(kind='bar', color='royalblue')\n",
    "plt.title('Number of Samples per Age Category')\n",
    "plt.xlabel('Age Category')\n",
    "plt.ylabel('Number of Samples')\n",
    "plt.xticks(rotation=45)  # Rotate the x-axis labels for better visibility\n",
    "plt.grid(True)  # Adds a grid for easier reading of values\n",
    "plt.show()"
   ],
   "id": "e6f99655189d11fe",
   "outputs": [
    {
     "data": {
      "text/plain": [
       "<Figure size 720x432 with 1 Axes>"
      ],
      "image/png": "[encoded data removed]"
     },
     "metadata": {
      "needs_background": "light"
     },
     "output_type": "display_data"
    }
   ],
   "execution_count": 19
  }
 ],
 "metadata": {
  "kernelspec": {
   "display_name": "Python 3",
   "language": "python",
   "name": "python3"
  },
  "language_info": {
   "codemirror_mode": {
    "name": "ipython",
    "version": 2
   },
   "file_extension": ".py",
   "mimetype": "text/x-python",
   "name": "python",
   "nbconvert_exporter": "python",
   "pygments_lexer": "ipython2",
   "version": "2.7.6"
  }
 },
 "nbformat": 4,
 "nbformat_minor": 5
}
